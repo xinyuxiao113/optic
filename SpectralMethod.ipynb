{
 "cells": [
  {
   "cell_type": "code",
   "execution_count": 2,
   "metadata": {},
   "outputs": [],
   "source": [
    "import numpy as np\n",
    "import matplotlib.pyplot as plt\n",
    "from numpy.fft import fft,fftshift,ifft\n",
    "from celluloid import Camera\n",
    "from functools import partial\n",
    "def get_frequency(N):\n",
    "    k = np.arange(0,2*N) - N \n",
    "    k = fftshift(k)\n",
    "    k[N] = 0  \n",
    "    return k\n",
    "\n",
    "def L(u,pde='kdv',N=128):\n",
    "    # 构造频率向量\n",
    "    k = get_frequency(N)\n",
    "    \n",
    "    # 构造离散谱算子\n",
    "    if pde=='burgers':\n",
    "        '''\n",
    "        3(u^2)_x\n",
    "        '''\n",
    "        return -ifft(1j*k*fft(3*u*u))\n",
    "    elif pde=='kdv':\n",
    "        return -ifft((1j*k)**2*fft(u))\n",
    "    elif pde == 'heat':\n",
    "        return ifft((1j*k)**2 * fft(u))\n",
    "\n",
    "def ode_solver(u0,L,dt,T,N):\n",
    "    u = u0\n",
    "    steps = int(T/dt)\n",
    "    u_path = []\n",
    "    for i in range(steps):\n",
    "        u_path.append(u)\n",
    "        u1 = u + dt*L(u,N=N)\n",
    "        u2 = 3/4*u + 1/4*u1 + 1/4*dt*L(u1,N=N)\n",
    "        u = 1/3*u + 2/3*u2 + 2/3*dt*L(u2,N=N)\n",
    "    return u,u_path\n",
    "\n",
    "def ode_1(u0,L,dt,T,N):\n",
    "    u = u0\n",
    "    steps = int(T/dt)\n",
    "    u_path = []\n",
    "    for i in range(steps):\n",
    "        u_path.append(u)\n",
    "        u = u + dt*L(u,N=N)\n",
    "    return u,u_path"
   ]
  },
  {
   "cell_type": "code",
   "execution_count": 2,
   "metadata": {},
   "outputs": [
    {
     "data": {
      "text/plain": [
       "[<matplotlib.lines.Line2D at 0x7ffc8ffa2f10>]"
      ]
     },
     "execution_count": 2,
     "metadata": {},
     "output_type": "execute_result"
    },
    {
     "data": {
      "image/png": "[encoded data removed]",
      "text/plain": [
       "<matplotlib.figure.Figure at 0x7ffc8feeaf10>"
      ]
     },
     "metadata": {
      "needs_background": "light"
     },
     "output_type": "display_data"
    }
   ],
   "source": [
    "# 求解 burgers equation\n",
    "'''\n",
    "u_t + u u_x = 0\n",
    "'''\n",
    "N = 128\n",
    "dt = 0.0001\n",
    "T = 0.12\n",
    "L0 = partial(L, pde='burgers')\n",
    "x = np.linspace(-np.pi,np.pi,N*2,endpoint=False)\n",
    "u0 = 2 / np.cosh(x)**2\n",
    "u_sol,u_path = ode_1(u0,L0,dt,T,N=N)\n",
    "plt.plot(x,u_sol.real)"
   ]
  },
  {
   "cell_type": "code",
   "execution_count": 50,
   "metadata": {},
   "outputs": [],
   "source": [
    "## 绘制动态图\n",
    "%matplotlib qt5\n",
    "def simple_plot(solution,dt):\n",
    "    \"\"\"\n",
    "    simple plot\n",
    "    \"\"\"\n",
    "    # 生成画布\n",
    "    plt.figure(figsize=(8, 6), dpi=80)\n",
    "\n",
    "    # 打开交互模式\n",
    "    plt.ion()\n",
    "\n",
    "    # 循环\n",
    "    for t in np.linspace(0,2,300):\n",
    "        # 清除原有图像\n",
    "        plt.cla()\n",
    "        y_top = 15\n",
    "        plt.ylim(-1,y_top)\n",
    "        plt.plot(x,solution(t))\n",
    "        plt.pause(dt)\n",
    "    # 关闭交互模式\n",
    "    plt.ioff()\n",
    "\n",
    "    # 图形显示\n",
    "    plt.show()\n",
    "\n",
    "    return"
   ]
  },
  {
   "cell_type": "code",
   "execution_count": null,
   "metadata": {},
   "outputs": [],
   "source": [
    "import numpy as np\n",
    "np.split()"
   ]
  },
  {
   "cell_type": "code",
   "execution_count": 49,
   "metadata": {},
   "outputs": [],
   "source": [
    "# 求解 kdv 方程\n",
    "M = 2.5\n",
    "N = 128\n",
    "dt = 0.0001\n",
    "T = 3\n",
    "x = np.linspace(-10,10,N*2,endpoint=False)\n",
    "L = 10/np.pi\n",
    "u0 = M*(M+1)/(np.cosh(x)**2) #+ np.random.rand(u0.size)*0.1\n",
    "# u0 = (x > 0) * (x < 1)\n",
    "\n",
    "u_tilde0 = fft(u0)\n",
    "k = get_frequency(N) / L\n",
    "def g(t):\n",
    "    return np.exp(-1j*k**3*t)\n",
    "\n",
    "def L_kdv(u_tilde,t):\n",
    "    gt = g(t)\n",
    "    return -3j * k * gt * fft(ifft(1/gt * u_tilde)**2)\n",
    "\n",
    "def ode_solver(u0,L,dt,T):\n",
    "    u = u0\n",
    "    u_path = []\n",
    "    t = 0\n",
    "    while t < T:\n",
    "        u_path.append({'t':t, 'data':u})\n",
    "        u1 = u + dt*L(u,t)\n",
    "        u2 = 3/4*u + 1/4*u1 + 1/4*dt*L(u1,t)\n",
    "        u = 1/3*u + 2/3*u2 + 2/3*dt*L(u2,t)\n",
    "        t = t + dt\n",
    "    u_path.append({'t':t, 'data':u})\n",
    "    return u,u_path\n",
    "\n",
    "def transform(v_path):\n",
    "    u_path = []\n",
    "    for item in v_path:\n",
    "        t = item['t']\n",
    "        v = item['data']\n",
    "        gt = g(t)\n",
    "        u = ifft(1/gt * v)\n",
    "        u_path.append({'t':t,'data':u})\n",
    "    return u,u_path\n",
    "\n",
    "v,v_path = ode_solver(u_tilde0, L_kdv, dt, T)\n",
    "u,u_path = transform(v_path)\n",
    "\n",
    "def solution(t):\n",
    "    n = int(t/dt)\n",
    "    return u_path[n]['data'].real"
   ]
  },
  {
   "cell_type": "code",
   "execution_count": 52,
   "metadata": {},
   "outputs": [],
   "source": [
    "simple_plot(solution,dt=0.01)"
   ]
  },
  {
   "cell_type": "code",
   "execution_count": 19,
   "metadata": {},
   "outputs": [
    {
     "data": {
      "text/plain": [
       "<matplotlib.legend.Legend at 0x7ffc81732690>"
      ]
     },
     "execution_count": 19,
     "metadata": {},
     "output_type": "execute_result"
    }
   ],
   "source": [
    "# 绘制静态图\n",
    "plt.plot(x, solution(0),label='t=0')\n",
    "plt.plot(x, solution(0.5), label='t=1.5')\n",
    "plt.legend(loc='best')"
   ]
  },
  {
   "cell_type": "code",
   "execution_count": 27,
   "metadata": {},
   "outputs": [],
   "source": []
  },
  {
   "cell_type": "code",
   "execution_count": 49,
   "metadata": {},
   "outputs": [
    {
     "data": {
      "text/plain": [
       "[<matplotlib.lines.Line2D at 0x7fb791aa6710>]"
      ]
     },
     "execution_count": 49,
     "metadata": {},
     "output_type": "execute_result"
    },
    {
     "data": {
      "image/png": "[encoded data removed]",
      "text/plain": [
       "<matplotlib.figure.Figure at 0x7fb7917bc410>"
      ]
     },
     "metadata": {
      "needs_background": "light"
     },
     "output_type": "display_data"
    }
   ],
   "source": [
    "# 求解对流方程\n",
    "'''\n",
    "v_t + v_x = 0\n",
    "'''\n",
    "N = 128\n",
    "T = 1\n",
    "k = get_frequency(N)\n",
    "x = np.linspace(-np.pi,np.pi,2*N,endpoint=False)\n",
    "v = np.sin(x)\n",
    "v_sol = ifft(np.exp(-1j*k*T)*fft(v))\n",
    "plt.plot(x,v.real)\n",
    "plt.plot(x,v_sol.real)"
   ]
  },
  {
   "cell_type": "code",
   "execution_count": 106,
   "metadata": {},
   "outputs": [
    {
     "data": {
      "text/plain": [
       "[<matplotlib.lines.Line2D at 0x7feef3295c50>]"
      ]
     },
     "execution_count": 106,
     "metadata": {},
     "output_type": "execute_result"
    },
    {
     "data": {
      "image/png": "[encoded data removed]",
      "text/plain": [
       "<matplotlib.figure.Figure at 0x7feef3152450>"
      ]
     },
     "metadata": {
      "needs_background": "light"
     },
     "output_type": "display_data"
    }
   ],
   "source": [
    "# 求解扩散方程\n",
    "'''\n",
    "u_t = u_xx\n",
    "'''\n",
    "N = 64\n",
    "T = 12\n",
    "k = get_frequency(N)\n",
    "x = np.linspace(-np.pi,np.pi,2*N,endpoint=False)\n",
    "v = np.exp(-10*x**2)\n",
    "v_sol = ifft(np.exp((1j*k)**3*T)*fft(v))\n",
    "plt.plot(x,v.real)\n",
    "plt.plot(x,v_sol.real)"
   ]
  },
  {
   "cell_type": "code",
   "execution_count": 45,
   "metadata": {},
   "outputs": [
    {
     "data": {
      "text/plain": [
       "[<matplotlib.lines.Line2D at 0x7fb79198fcd0>]"
      ]
     },
     "execution_count": 45,
     "metadata": {},
     "output_type": "execute_result"
    },
    {
     "data": {
      "image/png": "[encoded data removed]",
      "text/plain": [
       "<matplotlib.figure.Figure at 0x7fb7916d8910>"
      ]
     },
     "metadata": {
      "needs_background": "light"
     },
     "output_type": "display_data"
    }
   ],
   "source": [
    "# 求解色散方程: 不同的空间区域需要对方程做不同的scale到[-pi,pi]上\n",
    "'''\n",
    "u_t = i u_xx\n",
    "'''\n",
    "N = 256\n",
    "T = 1\n",
    "k = get_frequency(N)\n",
    "\n",
    "n = 2\n",
    "z = n*np.pi\n",
    "x = np.linspace(-z,z,2*N,endpoint=False)\n",
    "v = np.exp(-x**2)\n",
    "v_sol = ifft(np.exp(-1j*(k**2)*T/n**2)*fft(v))\n",
    "\n",
    "\n",
    "plt.plot(x,np.abs(v))\n",
    "plt.plot(x,np.abs(v_sol))\n"
   ]
  },
  {
   "cell_type": "code",
   "execution_count": 47,
   "metadata": {},
   "outputs": [
    {
     "data": {
      "text/plain": [
       "array([55.+0.00000000e+00j, -5.+1.53884177e+01j, -5.+6.88190960e+00j,\n",
       "       -5.+3.63271264e+00j, -5.+1.62459848e+00j, -5.-1.33226763e-15j,\n",
       "       -5.-1.62459848e+00j, -5.-3.63271264e+00j, -5.-6.88190960e+00j,\n",
       "       -5.-1.53884177e+01j])"
      ]
     },
     "execution_count": 47,
     "metadata": {},
     "output_type": "execute_result"
    }
   ],
   "source": [
    "import scipy.signal as sg\n",
    "fft = np.fft.fft\n",
    "fft(np.arange(1,11))"
   ]
  },
  {
   "cell_type": "code",
   "execution_count": 48,
   "metadata": {},
   "outputs": [
    {
     "data": {
      "text/plain": [
       "array([ 0.  ,  0.01,  0.02,  0.03,  0.04,  0.05,  0.06,  0.07,  0.08,\n",
       "        0.09,  0.1 ,  0.11,  0.12,  0.13,  0.14,  0.15,  0.16,  0.17,\n",
       "        0.18,  0.19,  0.2 ,  0.21,  0.22,  0.23,  0.24,  0.25,  0.26,\n",
       "        0.27,  0.28,  0.29,  0.3 ,  0.31,  0.32,  0.33,  0.34,  0.35,\n",
       "        0.36,  0.37,  0.38,  0.39,  0.4 ,  0.41,  0.42,  0.43,  0.44,\n",
       "        0.45,  0.46,  0.47,  0.48,  0.49, -0.5 , -0.49, -0.48, -0.47,\n",
       "       -0.46, -0.45, -0.44, -0.43, -0.42, -0.41, -0.4 , -0.39, -0.38,\n",
       "       -0.37, -0.36, -0.35, -0.34, -0.33, -0.32, -0.31, -0.3 , -0.29,\n",
       "       -0.28, -0.27, -0.26, -0.25, -0.24, -0.23, -0.22, -0.21, -0.2 ,\n",
       "       -0.19, -0.18, -0.17, -0.16, -0.15, -0.14, -0.13, -0.12, -0.11,\n",
       "       -0.1 , -0.09, -0.08, -0.07, -0.06, -0.05, -0.04, -0.03, -0.02,\n",
       "       -0.01])"
      ]
     },
     "execution_count": 48,
     "metadata": {},
     "output_type": "execute_result"
    }
   ],
   "source": [
    "np.fft.fftfreq(100)"
   ]
  }
 ],
 "metadata": {
  "interpreter": {
   "hash": "d2cd4ecd9498881ddce0bbc78f400ec30da9c7085fcfcb2c47be30952a12a370"
  },
  "kernelspec": {
   "display_name": "Python 3.7.4 64-bit ('jpter': conda)",
   "name": "python3"
  },
  "language_info": {
   "codemirror_mode": {
    "name": "ipython",
    "version": 3
   },
   "file_extension": ".py",
   "mimetype": "text/x-python",
   "name": "python",
   "nbconvert_exporter": "python",
   "pygments_lexer": "ipython3",
   "version": "3.7.4"
  },
  "orig_nbformat": 4
 },
 "nbformat": 4,
 "nbformat_minor": 2
}
