{
 "cells": [
  {
   "cell_type": "code",
   "execution_count": 1,
   "metadata": {
    "tags": [
     "outputPrepend",
     "outputPrepend",
     "outputPrepend",
     "outputPrepend",
     "outputPrepend",
     "outputPrepend",
     "outputPrepend",
     "outputPrepend",
     "outputPrepend",
     "outputPrepend",
     "outputPrepend",
     "outputPrepend",
     "outputPrepend",
     "outputPrepend",
     "outputPrepend",
     "outputPrepend",
     "outputPrepend",
     "outputPrepend",
     "outputPrepend",
     "outputPrepend",
     "outputPrepend",
     "outputPrepend",
     "outputPrepend",
     "outputPrepend",
     "outputPrepend",
     "outputPrepend",
     "outputPrepend",
     "outputPrepend",
     "outputPrepend",
     "outputPrepend",
     "outputPrepend",
     "outputPrepend",
     "outputPrepend",
     "outputPrepend",
     "outputPrepend",
     "outputPrepend",
     "outputPrepend",
     "outputPrepend",
     "outputPrepend",
     "outputPrepend",
     "outputPrepend",
     "outputPrepend",
     "outputPrepend",
     "outputPrepend",
     "outputPrepend",
     "outputPrepend",
     "outputPrepend",
     "outputPrepend",
     "outputPrepend",
     "outputPrepend",
     "outputPrepend",
     "outputPrepend",
     "outputPrepend",
     "outputPrepend",
     "outputPrepend",
     "outputPrepend",
     "outputPrepend",
     "outputPrepend",
     "outputPrepend",
     "outputPrepend",
     "outputPrepend",
     "outputPrepend",
     "outputPrepend",
     "outputPrepend",
     "outputPrepend",
     "outputPrepend",
     "outputPrepend",
     "outputPrepend",
     "outputPrepend",
     "outputPrepend",
     "outputPrepend",
     "outputPrepend",
     "outputPrepend",
     "outputPrepend",
     "outputPrepend",
     "outputPrepend",
     "outputPrepend",
     "outputPrepend",
     "outputPrepend",
     "outputPrepend",
     "outputPrepend",
     "outputPrepend",
     "outputPrepend",
     "outputPrepend",
     "outputPrepend",
     "outputPrepend",
     "outputPrepend",
     "outputPrepend",
     "outputPrepend",
     "outputPrepend",
     "outputPrepend",
     "outputPrepend",
     "outputPrepend",
     "outputPrepend",
     "outputPrepend",
     "outputPrepend",
     "outputPrepend",
     "outputPrepend",
     "outputPrepend",
     "outputPrepend",
     "outputPrepend",
     "outputPrepend",
     "outputPrepend",
     "outputPrepend",
     "outputPrepend",
     "outputPrepend",
     "outputPrepend",
     "outputPrepend",
     "outputPrepend",
     "outputPrepend",
     "outputPrepend",
     "outputPrepend",
     "outputPrepend",
     "outputPrepend",
     "outputPrepend",
     "outputPrepend",
     "outputPrepend",
     "outputPrepend",
     "outputPrepend",
     "outputPrepend",
     "outputPrepend",
     "outputPrepend",
     "outputPrepend",
     "outputPrepend",
     "outputPrepend",
     "outputPrepend",
     "outputPrepend",
     "outputPrepend",
     "outputPrepend",
     "outputPrepend",
     "outputPrepend",
     "outputPrepend",
     "outputPrepend",
     "outputPrepend",
     "outputPrepend",
     "outputPrepend",
     "outputPrepend",
     "outputPrepend",
     "outputPrepend"
    ]
   },
   "outputs": [],
   "source": [
    "# 下载数据：27G\n",
    "# import sys\n",
    "# import labptptm2\n",
    "# labptptm2.clone_store('lab2_data', log=sys.stdout)\n",
    "# labptptm2.config.store = 'lab2_data'"
   ]
  },
  {
   "cell_type": "code",
   "execution_count": 2,
   "metadata": {},
   "outputs": [
    {
     "name": "stderr",
     "output_type": "stream",
     "text": [
      "WARNING:absl:No GPU/TPU found, falling back to CPU. (Set TF_CPP_MIN_LOG_LEVEL=0 and rerun for more info.)\n"
     ]
    }
   ],
   "source": [
    "## 3. import modules\n",
    "import jax\n",
    "from collections import namedtuple\n",
    "from typing import Any, Callable, Iterable, Optional, Tuple, Union\n",
    "import flax.linen as nn\n",
    "from flax.linen.initializers import lecun_normal, variance_scaling, zeros\n",
    "from flax.core import freeze, unfreeze\n",
    "from functools import partial, wraps\n",
    "import matplotlib.pyplot as plt\n",
    "from jax import random\n",
    "import jax.numpy as jnp\n",
    "import commplax.adaptive_filter\n",
    "import numpy as np\n",
    "default_kernel_init = lecun_normal()\n",
    "\n",
    "def normal_init(key,shape, dtype = jnp.float32):\n",
    "    k1,k2 = random.split(key)\n",
    "    x = random.normal(k1,shape)  + 1j * random.normal(k2,shape)\n",
    "    return x.astype(dtype)\n",
    "\n",
    "def show_tree(tree):\n",
    "    return jax.tree_map(lambda x:x.shape, tree)\n",
    "\n",
    "##  测试 core 使用\n",
    "from commplax.module import core, layer\n",
    "from commplax.util import wrapped_partial as wpartial\n",
    "from commplax.module.layer import make_layer\n",
    "key = random.PRNGKey(0)\n",
    "dnn = make_layer(core.hp_net)"
   ]
  },
  {
   "cell_type": "code",
   "execution_count": 3,
   "metadata": {},
   "outputs": [],
   "source": [
    "class NN(nn.Module):\n",
    "    @nn.compact\n",
    "    def __call__(self,inputs):\n",
    "        x = inputs\n",
    "        y = nn.Dense(features=1)(x)\n",
    "        y = dnn()(y)\n",
    "        return y"
   ]
  },
  {
   "cell_type": "code",
   "execution_count": 4,
   "metadata": {},
   "outputs": [
    {
     "data": {
      "text/plain": [
       "DeviceArray([[  0,   1,   2,   3,   4,   5,   6,   7,   8,   9],\n",
       "             [ 10,  11,  12,  13,  14,  15,  16,  17,  18,  19],\n",
       "             [ 20,  21,  22,  23,  24,  25,  26,  27,  28,  29],\n",
       "             [ 30,  31,  32,  33,  34,  35,  36,  37,  38,  39],\n",
       "             [ 40,  41,  42,  43,  44,  45,  46,  47,  48,  49],\n",
       "             [ 50,  51,  52,  53,  54,  55,  56,  57,  58,  59],\n",
       "             [ 60,  61,  62,  63,  64,  65,  66,  67,  68,  69],\n",
       "             [ 70,  71,  72,  73,  74,  75,  76,  77,  78,  79],\n",
       "             [ 80,  81,  82,  83,  84,  85,  86,  87,  88,  89],\n",
       "             [ 90,  91,  92,  93,  94,  95,  96,  97,  98,  99],\n",
       "             [100, 101, 102, 103, 104, 105, 106, 107, 108, 109],\n",
       "             [110, 111, 112, 113, 114, 115, 116, 117, 118, 119],\n",
       "             [120, 121, 122, 123, 124, 125, 126, 127, 128, 129],\n",
       "             [130, 131, 132, 133, 134, 135, 136, 137, 138, 139],\n",
       "             [140, 141, 142, 143, 144, 145, 146, 147, 148, 149],\n",
       "             [150, 151, 152, 153, 154, 155, 156, 157, 158, 159],\n",
       "             [160, 161, 162, 163, 164, 165, 166, 167, 168, 169],\n",
       "             [170, 171, 172, 173, 174, 175, 176, 177, 178, 179],\n",
       "             [180, 181, 182, 183, 184, 185, 186, 187, 188, 189],\n",
       "             [190, 191, 192, 193, 194, 195, 196, 197, 198, 199]],            dtype=int32)"
      ]
     },
     "execution_count": 4,
     "metadata": {},
     "output_type": "execute_result"
    }
   ],
   "source": [
    "## xop.frame\n",
    "def frame(array, flen, fstep):\n",
    "    n = array.shape[0]\n",
    "    fnum = 1 + (n - flen) // fstep\n",
    "    array = array[:(fnum - 1) * fstep + flen,...]\n",
    "\n",
    "    ind = jnp.arange(flen)[None,:] + fstep * jnp.arange(fnum)[:,None]\n",
    "    return array[ind,...]  # 取以 ind 为索引的若干行\n",
    "\n",
    "frame(jnp.arange(200), 10, 10)"
   ]
  },
  {
   "cell_type": "code",
   "execution_count": 5,
   "metadata": {},
   "outputs": [
    {
     "data": {
      "text/plain": [
       "[<matplotlib.lines.Line2D at 0x7faf2c8c7430>]"
      ]
     },
     "execution_count": 5,
     "metadata": {},
     "output_type": "execute_result"
    },
    {
     "data": {
      "image/png": "[encoded data removed]",
      "text/plain": [
       "<Figure size 432x288 with 1 Axes>"
      ]
     },
     "metadata": {
      "needs_background": "light"
     },
     "output_type": "display_data"
    }
   ],
   "source": [
    "## jnp.interp\n",
    "xp = jnp.linspace(0,1,5)\n",
    "yp = xp ** 2\n",
    "x = jnp.linspace(0,1,100)\n",
    "y = jnp.interp(x,xp,yp)\n",
    "plt.plot(x,y) "
   ]
  },
  {
   "cell_type": "code",
   "execution_count": 15,
   "metadata": {},
   "outputs": [
    {
     "data": {
      "text/plain": [
       "(DeviceArray([10.], dtype=float32),\n",
       " FrozenDict({\n",
       "     af: {\n",
       "         x_pls: DeviceArray([8.], dtype=float32),\n",
       "     },\n",
       " }))"
      ]
     },
     "execution_count": 15,
     "metadata": {},
     "output_type": "execute_result"
    }
   ],
   "source": [
    "##  Test variable\n",
    "class TestNN(nn.Module):\n",
    "    @nn.compact\n",
    "    def __call__(self, inputs):\n",
    "        x = inputs\n",
    "        var = self.variable('af','x_pls',lambda x: x+1, x)  # 只会在初始化时调用 init 函数\n",
    "        var.value *= 2\n",
    "        return x + var.value\n",
    "\n",
    "net = TestNN()\n",
    "param = net.init(key,jnp.ones(1))\n",
    "\n",
    "net.apply(param,jnp.ones(1)*2, mutable='af')  # 使用mutuable 选项会额外返回 'af' 的更新值"
   ]
  },
  {
   "cell_type": "code",
   "execution_count": 16,
   "metadata": {},
   "outputs": [
    {
     "data": {
      "text/plain": [
       "(DeviceArray([5.], dtype=float32),\n",
       " FrozenDict({\n",
       "     af: {\n",
       "         x_pls: DeviceArray([4.], dtype=float32),\n",
       "     },\n",
       " }))"
      ]
     },
     "execution_count": 16,
     "metadata": {},
     "output_type": "execute_result"
    }
   ],
   "source": [
    "net.apply({},jnp.ones(1), mutable='af')"
   ]
  },
  {
   "cell_type": "code",
   "execution_count": 17,
   "metadata": {},
   "outputs": [
    {
     "data": {
      "text/plain": [
       "(DeviceArray(59, dtype=int32),\n",
       " DeviceArray([ 1,  3,  6, 11, 18, 29, 42, 59], dtype=int32))"
      ]
     },
     "execution_count": 17,
     "metadata": {},
     "output_type": "execute_result"
    }
   ],
   "source": [
    "# lax.scan  循环扫描的轴是一个Pytree中每个 node的 leading axis\n",
    "# xop.scan\n",
    "from jax import lax\n",
    "from commplax import xop\n",
    "a = np.array([1, 2, 3, 5, 7, 11, 13, 17])\n",
    "result_init = 0\n",
    "xop.scan(lambda carry, x: (carry+x, carry+x), result_init, a)"
   ]
  }
 ],
 "metadata": {
  "interpreter": {
   "hash": "531552b898093c495d5d7fbfac81f0b68153c16134e4b180957a1aaadf98359a"
  },
  "kernelspec": {
   "display_name": "Python (comm)",
   "language": "python",
   "name": "python3"
  },
  "language_info": {
   "codemirror_mode": {
    "name": "ipython",
    "version": 3
   },
   "file_extension": ".py",
   "mimetype": "text/x-python",
   "name": "python",
   "nbconvert_exporter": "python",
   "pygments_lexer": "ipython3",
   "version": "3.8.12"
  },
  "orig_nbformat": 4
 },
 "nbformat": 4,
 "nbformat_minor": 2
}
