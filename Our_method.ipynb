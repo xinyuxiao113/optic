{
 "cells": [
  {
   "cell_type": "markdown",
   "metadata": {},
   "source": [
    "## Step 1: Load data"
   ]
  },
  {
   "cell_type": "code",
   "execution_count": 1,
   "metadata": {},
   "outputs": [
    {
     "name": "stderr",
     "output_type": "stream",
     "text": [
      "WARNING:root:Data would be auto-cached in default temporary location: /tmp/labptptm2, set labptptm2.config.cache_storage to other locations to suppress this warning\n"
     ]
    },
    {
     "name": "stdout",
     "output_type": "stream",
     "text": [
      " Rx_data complete, time cost(s):11.522738456726074\n",
      " Rx_data complete, time cost(s):3.910367488861084\n"
     ]
    }
   ],
   "source": [
    "import numpy as np\n",
    "import jax\n",
    "import jax.random as rd\n",
    "import jax.numpy as jnp\n",
    "import matplotlib.pyplot as plt\n",
    "from optical_flax.core import parameters\n",
    "from optical_flax.generate_data import Rx_data, get_data\n",
    "import pickle\n",
    "from functools import partial\n",
    "\n",
    "\n",
    "train_path = '/home/xiaoxinyu/data/0508'\n",
    "test_path = '/home/xiaoxinyu/data/0517'\n",
    "key = rd.PRNGKey(233)\n",
    "\n",
    "def Rx(key, path, sps, FO, lw):\n",
    "    with open(path+'/Tx_ch13', 'rb') as file:\n",
    "        sigWDM_tx, symbWDM, param = pickle.load(file)\n",
    "\n",
    "    with open(path+'/Channel_ch13', 'rb') as file:\n",
    "        sigWDM, paramCh = pickle.load(file)\n",
    "\n",
    "    data, paramRx, noise = Rx_data(key, sigWDM, symbWDM, sps, param, paramCh, FO, lw)\n",
    "    return data, noise\n",
    "\n",
    "\n",
    "def batch_data(data, Nlen=2000, Nstep=1000):\n",
    "    from commplax.xop import frame\n",
    "    sps = data.a['sps']\n",
    "    y = jax.vmap(frame, in_axes=(0,None,None), out_axes=0)(data.y, Nlen*sps, Nstep*sps).reshape([-1,Nlen*sps,2])\n",
    "    x = jax.vmap(frame, in_axes=(0,None,None), out_axes=0)(data.x, Nlen, Nstep).reshape([-1,Nlen,2])\n",
    "    return y,x\n",
    "\n",
    "data_train, n0 = Rx(rd.PRNGKey(123), train_path, sps=8, FO=0, lw=0)\n",
    "data_test, n1 = Rx(rd.PRNGKey(234), test_path, sps=8, FO=0, lw=0)\n",
    "y,x = batch_data(data_train)\n",
    "y_test, x_test = batch_data(data_test)"
   ]
  },
  {
   "cell_type": "markdown",
   "metadata": {},
   "source": [
    "## Load data"
   ]
  },
  {
   "cell_type": "code",
   "execution_count": 1,
   "metadata": {},
   "outputs": [
    {
     "name": "stderr",
     "output_type": "stream",
     "text": [
      "WARNING:root:Data would be auto-cached in default temporary location: /tmp/labptptm2, set labptptm2.config.cache_storage to other locations to suppress this warning\n"
     ]
    }
   ],
   "source": [
    "import numpy as np\n",
    "import jax\n",
    "import jax.random as rd\n",
    "import jax.numpy as jnp\n",
    "import matplotlib.pyplot as plt\n",
    "from optical_flax.core import parameters\n",
    "from optical_flax.generate_data import Rx_data, get_data\n",
    "import pickle\n",
    "from functools import partial\n",
    "\n",
    "\n",
    "train_path = '/home/xiaoxinyu/data/0508'\n",
    "test_path = '/home/xiaoxinyu/data/0517'\n",
    "key = rd.PRNGKey(233)\n",
    "\n",
    "k=2\n",
    "Nlen=2000\n",
    "Nstep=1000\n",
    "sps=2\n",
    "steps=3\n",
    "Nfft = Nlen*sps\n",
    "\n",
    "def batch_data(data, Nlen=2000, Nstep=1000):\n",
    "    from commplax.xop import frame\n",
    "    sps = data.a['sps']\n",
    "    y = jax.vmap(frame, in_axes=(0,None,None), out_axes=0)(data.y, Nlen*sps, Nstep*sps).reshape([-1,Nlen*sps,2])\n",
    "    x = jax.vmap(frame, in_axes=(0,None,None), out_axes=0)(data.x, Nlen, Nstep).reshape([-1,Nlen,2])\n",
    "    return y,x\n",
    "\n",
    "## load data\n",
    "with open('loading/data','rb') as file:\n",
    "    data = pickle.load(file)\n",
    "    data_train=data['data_train']\n",
    "    data_test = data['data_test']\n",
    "y,x = batch_data(data_train)\n",
    "y_test, x_test = batch_data(data_test)"
   ]
  },
  {
   "cell_type": "markdown",
   "metadata": {},
   "source": [
    "## MetaSSFM"
   ]
  },
  {
   "cell_type": "code",
   "execution_count": 3,
   "metadata": {},
   "outputs": [
    {
     "name": "stderr",
     "output_type": "stream",
     "text": [
      "Training: 100%|██████████| 60/60 [01:14<00:00,  1.25s/it]\n"
     ]
    },
    {
     "data": {
      "text/plain": [
       "<matplotlib.legend.Legend at 0x7fa3bc669880>"
      ]
     },
     "execution_count": 3,
     "metadata": {},
     "output_type": "execute_result"
    },
    {
     "data": {
      "image/png": "[encoded data removed]",
      "text/plain": [
       "<Figure size 432x288 with 1 Axes>"
      ]
     },
     "metadata": {
      "needs_background": "light"
     },
     "output_type": "display_data"
    }
   ],
   "source": [
    "## Training Meta_DBP Model on a signal \n",
    "from optical_flax.layers import MetaSSFM, GRU_DBP, fdbp\n",
    "from optical_flax.utils import show_tree\n",
    "import optical_flax.base as base\n",
    "from optical_flax.initializers import fdbp_init\n",
    "from optical_flax.utils import realize\n",
    "from commplax.module import core\n",
    "import flax.linen as nn\n",
    "import optax\n",
    "from commplax import optim \n",
    "Signal = core.Signal\n",
    "\n",
    "k = 2   # additional mimo symbols\n",
    "steps = 3\n",
    "Nlen= 2000\n",
    "Nstep = 1000\n",
    "sps=8\n",
    "d_init, n_init = fdbp_init(data_train.a, xi=1.1, steps=steps, domain='frequency')\n",
    "Net = partial(MetaSSFM,steps=steps, d_init=d_init, n_init=n_init, dtaps=Nlen*sps, ntaps=1, discard=sps*(500-k))\n",
    "Net_vmap = nn.vmap(Net, variable_axes={'params':None}, split_rngs={'params':None})\n",
    "\n",
    "class MyDBP(nn.Module):\n",
    "\n",
    "    @nn.compact\n",
    "    def __call__(self, signal):\n",
    "        x, t = Net_vmap()(signal)\n",
    "        # x [batch, N, 2]\n",
    "        x = nn.Conv(features=2,kernel_size=((2*k+1)*sps,),strides=(sps,), param_dtype=jnp.complex64,dtype=jnp.complex64, padding='valid')(x)\n",
    "        return Signal(x,t)\n",
    "    \n",
    "net = MyDBP()\n",
    "LDBP = realize(net)\n",
    "var0 = LDBP.init(rd.PRNGKey(2121), Signal(y[0:3,...]))\n",
    "LDBP.apply(var0, Signal(y[0:3,...])).val.shape\n",
    "\n",
    "\n",
    "tx = optax.adam(learning_rate=2e-3)\n",
    "\n",
    "def loss(var, xi, yi): \n",
    "    x = LDBP.apply(var, Signal(yi))\n",
    "    return jnp.mean(jnp.abs(x.val - xi[:,500:1500,:])**2)\n",
    "\n",
    "@jax.jit\n",
    "def update_param(var, opt_state, xi, yi):\n",
    "    loss_val, grads = jax.value_and_grad(loss)(var, xi,yi)\n",
    "    updates, opt_state = tx.update(grads, opt_state)\n",
    "    var = optax.apply_updates(var, updates)\n",
    "    return var, opt_state, loss_val\n",
    "\n",
    "Loss = []\n",
    "Loss_test = []\n",
    "opt_state0 = tx.init(var0)\n",
    "\n",
    "\n",
    "from tqdm import tqdm\n",
    "for _ in tqdm(range(60), desc='Training'):\n",
    "    for i in range(10):\n",
    "        xi = x[99*i:99*(i+1), ...]\n",
    "        yi = y[99*i:99*(i+1), ...]\n",
    "        var0, opt_state0, l = update_param(var0, opt_state0, xi, yi)\n",
    "        Loss.append(l)\n",
    "    xi = x_test[99*2:99*3, ...]\n",
    "    yi = y_test[99*2:99*3, ...]\n",
    "    l = loss(var0, xi, yi)\n",
    "    Loss_test.append(l)\n",
    "    \n",
    "\n",
    "plt.plot(Loss_test, label='Test')\n",
    "plt.plot(Loss[::10], label='Train')\n",
    "plt.legend()"
   ]
  },
  {
   "cell_type": "code",
   "execution_count": 4,
   "metadata": {},
   "outputs": [
    {
     "name": "stdout",
     "output_type": "stream",
     "text": [
      "0.020294042\n"
     ]
    }
   ],
   "source": [
    "print(Loss_test[-1])"
   ]
  },
  {
   "cell_type": "markdown",
   "metadata": {},
   "source": [
    "## NNSSFM"
   ]
  },
  {
   "cell_type": "code",
   "execution_count": 5,
   "metadata": {},
   "outputs": [],
   "source": [
    "fft = jnp.fft.fft\n",
    "ifft = jnp.fft.ifft\n",
    "from typing import Callable\n",
    "from commplax.module.core import SigTime, Signal, zeros\n",
    "from optical_flax.layers import NNSSFM\n",
    "\n",
    "\n",
    "k = 0   # additional mimo symbols\n",
    "steps = 3\n",
    "d_init, n_init = fdbp_init(data_train.a, xi=1.1, steps=steps, domain='frequency')\n",
    "Net0 = partial(NNSSFM,steps=steps, d_init=d_init, n_init=n_init, dtaps=Nlen*sps, ntaps=1, discard=sps*(500-k))\n",
    "Net_vmap0 = nn.vmap(Net0, variable_axes={'params':None}, split_rngs={'params':None})\n",
    "\n",
    "class NNDBP(nn.Module):\n",
    "\n",
    "    @nn.compact\n",
    "    def __call__(self, signal):\n",
    "        x, t = signal\n",
    "        x, t = Net_vmap0()(signal)\n",
    "        # x [batch, N, 2]\n",
    "        x = nn.Conv(features=2,kernel_size=((2*k+1)*sps,),strides=(sps,), param_dtype=jnp.complex64,dtype=jnp.complex64, padding='valid')(x)\n",
    "        return Signal(x,t)\n",
    "    \n",
    "nn_net = NNDBP()\n",
    "nn_LDBP = realize(nn_net)\n",
    "var1 = nn_LDBP.init(rd.PRNGKey(2121), Signal(y[0:3,...]))\n",
    "# nn_LDBP.apply(var1, Signal(y[0:3,...])).val.shape\n",
    "\n",
    "\n",
    "tx = optax.adam(learning_rate=1e-2)\n",
    "def nn_loss(var, xi, yi): \n",
    "    x = nn_LDBP.apply(var, Signal(yi))\n",
    "    return jnp.mean(jnp.abs(x.val - xi[:,500:1500,:])**2)\n",
    "\n",
    "@jax.jit\n",
    "def nn_update_param(var, opt_state, xi, yi):\n",
    "    loss_val, grads = jax.value_and_grad(nn_loss)(var, xi,yi)\n",
    "    updates, opt_state = tx.update(grads, opt_state)\n",
    "    var = optax.apply_updates(var, updates)\n",
    "    return var, opt_state, loss_val\n",
    "\n",
    "nn_Loss = []\n",
    "nn_Loss_test = []\n",
    "opt_state1 = tx.init(var1) "
   ]
  },
  {
   "cell_type": "code",
   "execution_count": 6,
   "metadata": {},
   "outputs": [
    {
     "name": "stderr",
     "output_type": "stream",
     "text": [
      "Training: 100%|██████████| 60/60 [00:23<00:00,  2.59it/s]\n"
     ]
    }
   ],
   "source": [
    "from tqdm import tqdm\n",
    "for _ in tqdm(range(60), desc='Training'):\n",
    "    for i in range(10):\n",
    "        xi = x[99*i:99*(i+1), ...]\n",
    "        yi = y[99*i:99*(i+1), ...]\n",
    "        var1, opt_state1, l = nn_update_param(var1, opt_state1, xi, yi)\n",
    "        nn_Loss.append(l)\n",
    "    xi = x_test[99*1:99*3, ...]\n",
    "    yi = y_test[99*1:99*3, ...]\n",
    "    l = nn_loss(var1, xi, yi)\n",
    "    nn_Loss_test.append(l)"
   ]
  },
  {
   "cell_type": "code",
   "execution_count": 7,
   "metadata": {},
   "outputs": [
    {
     "name": "stdout",
     "output_type": "stream",
     "text": [
      "0.01963446\n"
     ]
    },
    {
     "data": {
      "image/png": "[encoded data removed]",
      "text/plain": [
       "<Figure size 432x288 with 1 Axes>"
      ]
     },
     "metadata": {
      "needs_background": "light"
     },
     "output_type": "display_data"
    }
   ],
   "source": [
    "plt.plot(nn_Loss_test, label='Test')\n",
    "plt.plot(nn_Loss[2::10], label='Train')\n",
    "plt.legend()\n",
    "print(nn_Loss_test[-1])"
   ]
  },
  {
   "cell_type": "markdown",
   "metadata": {},
   "source": [
    "## attention"
   ]
  },
  {
   "cell_type": "code",
   "execution_count": 8,
   "metadata": {},
   "outputs": [],
   "source": [
    "import jax.numpy as jnp\n",
    "import jax\n",
    "import jax.random as rd \n",
    "import numpy as np\n",
    "import flax.linen as nn \n",
    "from optical_flax.utils import show_tree\n",
    "net = nn.SelfAttention(num_heads=5, dtype=jnp.complex64, param_dtype=jnp.complex64)"
   ]
  },
  {
   "cell_type": "code",
   "execution_count": 9,
   "metadata": {},
   "outputs": [
    {
     "data": {
      "text/plain": [
       "(3, 100, 20)"
      ]
     },
     "execution_count": 9,
     "metadata": {},
     "output_type": "execute_result"
    }
   ],
   "source": [
    "var = net.init(rd.PRNGKey(0), jnp.ones([3, 100, 20]))\n",
    "net.apply(var, jnp.ones([3,100,20])).shape"
   ]
  },
  {
   "cell_type": "code",
   "execution_count": 10,
   "metadata": {},
   "outputs": [
    {
     "data": {
      "text/plain": [
       "FrozenDict({\n",
       "    params: {\n",
       "        key: {\n",
       "            bias: (5, 4),\n",
       "            kernel: (20, 5, 4),\n",
       "        },\n",
       "        out: {\n",
       "            bias: (20,),\n",
       "            kernel: (5, 4, 20),\n",
       "        },\n",
       "        query: {\n",
       "            bias: (5, 4),\n",
       "            kernel: (20, 5, 4),\n",
       "        },\n",
       "        value: {\n",
       "            bias: (5, 4),\n",
       "            kernel: (20, 5, 4),\n",
       "        },\n",
       "    },\n",
       "})"
      ]
     },
     "execution_count": 10,
     "metadata": {},
     "output_type": "execute_result"
    },
    {
     "ename": "",
     "evalue": "",
     "output_type": "error",
     "traceback": [
      "\u001b[1;31mThe Kernel crashed while executing code in the the current cell or a previous cell. Please review the code in the cell(s) to identify a possible cause of the failure. Click <a href='https://aka.ms/vscodeJupyterKernelCrash'>here</a> for more info. View Jupyter <a href='command:jupyter.viewOutput'>log</a> for further details."
     ]
    }
   ],
   "source": [
    "show_tree(var)"
   ]
  }
 ],
 "metadata": {
  "interpreter": {
   "hash": "f4b9236e0601dae4b8f5d171a608b9d19163b63d094210553e37100e1902b344"
  },
  "kernelspec": {
   "display_name": "Python 3.8.12 ('commplax')",
   "language": "python",
   "name": "python3"
  },
  "language_info": {
   "codemirror_mode": {
    "name": "ipython",
    "version": 3
   },
   "file_extension": ".py",
   "mimetype": "text/x-python",
   "name": "python",
   "nbconvert_exporter": "python",
   "pygments_lexer": "ipython3",
   "version": "3.8.12"
  },
  "orig_nbformat": 4
 },
 "nbformat": 4,
 "nbformat_minor": 2
}
