{
 "cells": [
  {
   "cell_type": "markdown",
   "metadata": {},
   "source": [
    "## nn.vmap"
   ]
  },
  {
   "cell_type": "code",
   "execution_count": 31,
   "metadata": {},
   "outputs": [],
   "source": [
    "import jax\n",
    "import numpy as np\n",
    "import jax.numpy as jnp\n",
    "\n",
    "from optical_flax.layers import DSP_Model\n",
    "from commplax.module import core\n",
    "from optical_flax.utils import show_tree\n",
    "import flax.linen as nn\n",
    "Signal = core.Signal\n",
    "\n",
    "key = jax.random.PRNGKey(0)\n",
    "x0 =  jnp.ones([10000,2])\n",
    "x1 = jnp.ones([3,10000,2])"
   ]
  },
  {
   "cell_type": "code",
   "execution_count": 32,
   "metadata": {},
   "outputs": [
    {
     "data": {
      "text/plain": [
       "Signal(val=(3, 4505, 2), t=SigTime(start=247, stop=-248, sps=1))"
      ]
     },
     "execution_count": 32,
     "metadata": {},
     "output_type": "execute_result"
    }
   ],
   "source": [
    "var_axes = {'params':None, 'const':None, 'norm':0, 'af_state':0, 'aux_inputs':0}\n",
    "rng_axes = {'params':False, 'const':False, 'norm':False, 'af_state':False, 'aux_inputs':False}\n",
    "DSP_vmap = nn.vmap(DSP_Model,variable_axes=var_axes, split_rngs=rng_axes, in_axes=0, out_axes=0)\n",
    "net = DSP_vmap()\n",
    "var = net.init(key, Signal(x1))\n",
    "\n",
    "z =net.apply(var, Signal(x1), mutable={'af_state','norm'})\n",
    "show_tree(z[0])"
   ]
  },
  {
   "cell_type": "markdown",
   "metadata": {},
   "source": [
    "## data"
   ]
  },
  {
   "cell_type": "code",
   "execution_count": 33,
   "metadata": {},
   "outputs": [
    {
     "name": "stdout",
     "output_type": "stream",
     "text": [
      "(100000, 2)\n"
     ]
    }
   ],
   "source": [
    "from optical_flax.generate_data import get_data\n",
    "train_path = f'data/data0426_N4e5/dataset_ch{25}_dz0.5_N4e5'\n",
    "data = get_data(train_path, sps=2)\n",
    "print(data.x.shape)"
   ]
  },
  {
   "cell_type": "markdown",
   "metadata": {},
   "source": [
    "## split training"
   ]
  },
  {
   "cell_type": "code",
   "execution_count": 41,
   "metadata": {},
   "outputs": [],
   "source": [
    "from optical_flax.layers import fdbp\n",
    "from optical_flax.initializers import fdbp_init, gauss\n",
    "from optical_flax.utils import realize\n",
    "import flax.linen as nn\n",
    "\n",
    "d_init,n_init = fdbp_init(data.a, xi=1.1, steps=3,domain='time')\n",
    "\n",
    "class MyDBP(nn.Module):\n",
    "    \n",
    "    @nn.compact\n",
    "    def __call__(self, signal):\n",
    "        signal = fdbp(d_init=d_init, n_init=n_init)(signal)\n",
    "        x,t = signal\n",
    "        x = nn.Conv(features=2,kernel_size=(32,),strides=(2,),kernel_init=gauss, param_dtype=jnp.complex64,dtype=jnp.complex64, padding='same')(x)\n",
    "        t = core.SigTime(t.start//2, t.stop//2, 1)\n",
    "        return core.Signal(x,t)\n",
    "        \n",
    "DBP = MyDBP()\n",
    "realdbp = realize(DBP)\n",
    "\n",
    "var = realdbp.init(key, core.Signal(jnp.ones([1000,2])))\n",
    "const = var['const']\n",
    "\n",
    "def loss_fn(param,x,y, const):\n",
    "    var = {'params':param, 'const':const}\n",
    "    z = realdbp.apply(var, core.Signal(y))\n",
    "    loss = jnp.mean(jnp.abs(z.val - x[z.t.start:z.t.stop])**2)\n",
    "    return loss\n",
    "\n",
    "import optax\n",
    "tx = optax.adam(learning_rate=0.001)\n",
    "\n",
    "@jax.jit\n",
    "def update_state(param, x, y, const, opt_state):\n",
    "    loss, grads =jax.value_and_grad(loss_fn)(param,x,y, const)\n",
    "    updates, opt_state = tx.update(grads, opt_state)\n",
    "    param = optax.apply_updates(param, updates)\n",
    "    return loss, param, opt_state"
   ]
  },
  {
   "cell_type": "code",
   "execution_count": 42,
   "metadata": {},
   "outputs": [
    {
     "name": "stderr",
     "output_type": "stream",
     "text": [
      "                                                        \r"
     ]
    }
   ],
   "source": [
    "param = var['params']\n",
    "opt_state = tx.init(param)\n",
    "\n",
    "from optical_flax.base import get_train_batch\n",
    "from tqdm.auto import tqdm\n",
    "loss_list = []\n",
    "for j in tqdm(range(10), total=10, desc='Trainig', leave=False):\n",
    "    loss, param, opt_state = update_state(param, data.x, data.y, const, opt_state)\n",
    "    loss_list.append(loss)\n",
    "    # n_batch, batch_gen = get_train_batch(data, 2000, 1000)\n",
    "    # for i, (y, x) in enumerate(batch_gen):\n",
    "    #     loss, param, opt_state = update_state(param, x, y, const, opt_state)\n",
    "    # loss_list.append(loss)"
   ]
  },
  {
   "cell_type": "code",
   "execution_count": 43,
   "metadata": {},
   "outputs": [
    {
     "data": {
      "text/plain": [
       "[<matplotlib.lines.Line2D at 0x7fc463846a90>]"
      ]
     },
     "execution_count": 43,
     "metadata": {},
     "output_type": "execute_result"
    },
    {
     "data": {
      "image/png": "[encoded data removed]",
      "text/plain": [
       "<Figure size 432x288 with 1 Axes>"
      ]
     },
     "metadata": {
      "needs_background": "light"
     },
     "output_type": "display_data"
    }
   ],
   "source": [
    "import matplotlib.pyplot as plt\n",
    "plt.plot(loss_list)"
   ]
  }
 ],
 "metadata": {
  "interpreter": {
   "hash": "531552b898093c495d5d7fbfac81f0b68153c16134e4b180957a1aaadf98359a"
  },
  "kernelspec": {
   "display_name": "Python 3.8.12 ('commplax')",
   "language": "python",
   "name": "python3"
  },
  "language_info": {
   "codemirror_mode": {
    "name": "ipython",
    "version": 3
   },
   "file_extension": ".py",
   "mimetype": "text/x-python",
   "name": "python",
   "nbconvert_exporter": "python",
   "pygments_lexer": "ipython3",
   "version": "3.8.12"
  },
  "orig_nbformat": 4
 },
 "nbformat": 4,
 "nbformat_minor": 2
}
