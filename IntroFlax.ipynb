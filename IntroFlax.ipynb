{
 "cells": [
  {
   "cell_type": "markdown",
   "metadata": {},
   "source": [
    "# - Main Content\n",
    "frame\n",
    "1. autograd frame: jax, jax.numpy\n",
    "2. neural network frame: flax\n",
    "3. optimizer frame: optax\n",
    "\n",
    "requrement\n",
    "- [x] complex net: conv1d, GRUCell, FCN, GRU net\n",
    "- [ ] complex actvation function.\n",
    "- [x] complex optimizer: take real parameter !!\n",
    "torch support: sgd, adam\n",
    "optax support: None\n",
    "\n",
    "some operations from pytorch to jax.numpy\n",
    "1. jnp.transpose(x,[0,1,2]): permute the axes of an array\n",
    "2. jnp.expand_dims(x, axis): add a dim to x\n",
    "3. jnp.repeat: repeat a dim\n",
    "4. jnp.squeeze: Remove axes of length one from a.\n",
    "5. jnp.concatenate\n",
    "6. jnp.stack"
   ]
  },
  {
   "cell_type": "markdown",
   "metadata": {},
   "source": [
    "## 1-Static Module: optimize with complex parameters"
   ]
  },
  {
   "cell_type": "code",
   "execution_count": 2,
   "metadata": {},
   "outputs": [
    {
     "name": "stderr",
     "output_type": "stream",
     "text": [
      "/home/xiaoxinyu/.conda/envs/commplax/lib/python3.8/site-packages/jax/_src/tree_util.py:188: FutureWarning: jax.tree_util.tree_multimap() is deprecated. Please use jax.tree_util.tree_map() instead as a drop-in replacement.\n",
      "  warnings.warn('jax.tree_util.tree_multimap() is deprecated. Please use jax.tree_util.tree_map() '\n"
     ]
    },
    {
     "name": "stdout",
     "output_type": "stream",
     "text": [
      "0.0459302\n",
      "1.9343497e-07\n",
      "5.5248852e-12\n",
      "1.6181717e-16\n",
      "2.1684043e-18\n",
      "3.80826e-18\n",
      "1.3552527e-18\n",
      "1.3552527e-18\n",
      "1.3552527e-18\n",
      "1.3552527e-18\n"
     ]
    }
   ],
   "source": [
    "import jax\n",
    "import jax.numpy as jnp\n",
    "from jax import device_put, device_get\n",
    "import jax.random as random\n",
    "import numpy as np\n",
    "import flax.linen as nn\n",
    "import optax\n",
    "from functools import partial, wraps\n",
    "from typing import Any, NamedTuple\n",
    "from optical_flax.utils import realize, normal_init, show_tree, tree_r2c, tree_c2r\n",
    "from collections import namedtuple\n",
    "from flax.core import freeze, unfreeze\n",
    "\n",
    "# 6. 复数优化代码: static module\n",
    "class NN(nn.Module):\n",
    "    @nn.compact\n",
    "    def __call__(self, inputs):\n",
    "        x = inputs  # NWC\n",
    "        conv = partial(nn.Conv,features=1,kernel_size=(3,), param_dtype=jnp.complex64, dtype=jnp.complex64)\n",
    "        x = conv()(x) # NWC\n",
    "        x = nn.relu(x.real) + nn.relu(x.imag) * (1j) # NWC\n",
    "        x = nn.DenseGeneral(features=1, param_dtype=jnp.complex64, dtype=jnp.complex64, axis=(-2,-1))(x) # N1\n",
    "        return x\n",
    "\n",
    "net_org = NN()\n",
    "net = realize(net_org)\n",
    "\n",
    "N,W,C = 5,1000,2\n",
    "x0 = np.random.rand(N,W,C) + 1j * np.random.rand(N,W,C)\n",
    "x0 = device_put(x0)\n",
    "\n",
    "param_true = net.init(random.PRNGKey(123), x0)\n",
    "y0 = net.apply(param_true, x0)\n",
    "param = net.init(random.PRNGKey(234), x0)\n",
    "\n",
    "from commplax import optim\n",
    "f = optim.piecewise_constant([500, 1000], [2e-3, 1e-4, 1e-5])\n",
    "tx = optax.adam(learning_rate=f)\n",
    "opt_state = tx.init(param)\n",
    "\n",
    "@jax.jit\n",
    "def MSE(f_hat, f):\n",
    "    return jnp.sum(jnp.abs(f_hat - f)**2)\n",
    "\n",
    "@jax.jit\n",
    "def loss(params,x0,y0):\n",
    "    y1 = net.apply(params, x0)\n",
    "    return MSE(y1,y0)\n",
    "\n",
    "loss_grad_fn = jax.jit(jax.value_and_grad(loss))\n",
    "\n",
    "State = namedtuple('TrainState', ['params','opt_state'])\n",
    "Data = namedtuple('Data', ['x','y'])\n",
    "data = Data(x=x0,y=y0)\n",
    "\n",
    "@jax.jit\n",
    "def update_state(state, data):\n",
    "    loss_val, grads = loss_grad_fn(state.params, data.x, data.y)\n",
    "    updates,opt_state = tx.update(grads, state.opt_state)\n",
    "    params = optax.apply_updates(state.params, updates)\n",
    "    return State(params=params, opt_state=opt_state), loss_val\n",
    "    \n",
    "## training 不用 scan\n",
    "loss_list = []\n",
    "state = State(params=param, opt_state=opt_state)\n",
    "for i in range(1000):\n",
    "    state, loss_val = update_state(state, data)\n",
    "    loss_list.append(loss_val)\n",
    "    if i % 100 == 0:\n",
    "        print(loss_val)"
   ]
  },
  {
   "cell_type": "markdown",
   "metadata": {},
   "source": [
    "## 2-Dynamic module: applying and training"
   ]
  },
  {
   "cell_type": "code",
   "execution_count": null,
   "metadata": {},
   "outputs": [],
   "source": [
    "class LeADF(nn.Module):\n",
    "    @nn.compact\n",
    "    def __call__(self,inputs):\n",
    "        ## 探索variable的更新机制\n",
    "        x = inputs\n",
    "\n",
    "        # 定义中间变量\n",
    "        running_mean = self.variable('af','mean',lambda s: jnp.ones(s), (1,))\n",
    "\n",
    "        # 更新中间变量\n",
    "        mean = jnp.sum(x**2)\n",
    "        running_mean.value = running_mean.value * 0.99 + mean * (1 - 0.99)\n",
    "\n",
    "        # 返回最终值\n",
    "        return x / jnp.sqrt(running_mean.value)\n",
    "\n",
    "class LeDSP(nn.Module):\n",
    "    @nn.compact\n",
    "    def __call__(self, inputs):\n",
    "        x = inputs   # NWC\n",
    "        x = nn.Dense(features=5)(x)  # N1\n",
    "        x = LeADF()(x)\n",
    "        return x\n",
    "\n",
    "def test_net(net, mutable='af', train_key='params'):\n",
    "    N,W,C = 5,1000,2\n",
    "    x0 = np.random.rand(N,W,C) + 1j * np.random.rand(N,W,C)\n",
    "    x0 = device_put(x0)\n",
    "\n",
    "    var_true = net.init(random.PRNGKey(123), x0)\n",
    "    y0, real_af_state = net.apply(var_true, x0, mutable=mutable)\n",
    "    var = net.init(random.PRNGKey(234), x0)\n",
    "\n",
    "\n",
    "    tx = optax.adam(learning_rate=0.001)\n",
    "    opt_state = tx.init(var[train_key])\n",
    "\n",
    "\n",
    "    @jax.jit\n",
    "    def MSE(f_hat, f):\n",
    "        return jnp.sum(jnp.abs(f_hat - f)**2)\n",
    "\n",
    "    @jax.jit\n",
    "    def loss(params,af_state,x0,y0):\n",
    "        var = freeze({train_key:params, mutable: af_state})\n",
    "        y1, new_af_state = net.apply(var, x0, mutable=mutable)\n",
    "        return MSE(y1,y0), new_af_state\n",
    "\n",
    "    loss_grad_fn = jax.jit(jax.value_and_grad(loss, has_aux=True))\n",
    "\n",
    "    State = namedtuple('TrainState', ['params','af_state','opt_state'])\n",
    "    Data = namedtuple('Data', ['x','y'])\n",
    "    data = Data(x=x0,y=y0)\n",
    "\n",
    "    @partial(jax.jit,static_argnums=(2))\n",
    "    def update_state(state, data, tx):\n",
    "        (loss_val,new_af_state), grads = loss_grad_fn(state.params,state.af_state, data.x, data.y)\n",
    "        updates,opt_state = tx.update(grads, state.opt_state)\n",
    "        params = optax.apply_updates(state.params, updates)\n",
    "        return State(params=params,af_state=new_af_state[mutable], opt_state=opt_state), loss_val\n",
    "        \n",
    "    ## training 不用 scan\n",
    "    loss_list = []\n",
    "    state = State(params=var[train_key],af_state=var[mutable], opt_state=opt_state)\n",
    "    for i in range(1000):\n",
    "        state, loss_val = update_state(state, data, tx)\n",
    "        loss_list.append(loss_val)\n",
    "        if i % 100 == 0:\n",
    "            print(loss_val)\n",
    "    return state"
   ]
  },
  {
   "cell_type": "code",
   "execution_count": null,
   "metadata": {},
   "outputs": [],
   "source": [
    "key = jax.random.PRNGKey(123)\n",
    "net = LeDSP()\n",
    "show_tree(net.init(key, jnp.ones([10])))"
   ]
  },
  {
   "cell_type": "code",
   "execution_count": null,
   "metadata": {},
   "outputs": [],
   "source": [
    "DSP_vmap = nn.vmap(LeDSP, variable_axes={'params':None, 'af':0}, split_rngs={'params':False, 'af':False}, in_axes=0,out_axes=0)\n",
    "net = DSP_vmap()\n",
    "var = net.init(key, jnp.ones([5,10]))\n",
    "show_tree(var)"
   ]
  },
  {
   "cell_type": "code",
   "execution_count": null,
   "metadata": {},
   "outputs": [],
   "source": [
    "net.apply(var, jnp.ones([5,10]), mutable='af')"
   ]
  },
  {
   "cell_type": "code",
   "execution_count": null,
   "metadata": {},
   "outputs": [],
   "source": [
    "## dynamic module\n",
    "net_org = LeDSP()\n",
    "net = realize(net_org)\n",
    "state = test_net(net)\n",
    "#var = net.init(random.PRNGKey(0),x0)"
   ]
  },
  {
   "cell_type": "markdown",
   "metadata": {},
   "source": [
    "## 3-Use the NN internal module"
   ]
  },
  {
   "cell_type": "code",
   "execution_count": null,
   "metadata": {},
   "outputs": [],
   "source": [
    "## 利用NN内部模块\n",
    "import jax\n",
    "import jax.numpy as jnp\n",
    "import flax.linen as nn\n",
    "\n",
    "class AutoEncoder(nn.Module):\n",
    "  def setup(self):\n",
    "    self.encoder = nn.Dense(3)\n",
    "    self.decoder = nn.Dense(5)\n",
    "\n",
    "  def __call__(self, x):\n",
    "    return self.decoder(self.encoder(x))\n",
    "\n",
    "x = jnp.ones((16, 9))\n",
    "ae = AutoEncoder()\n",
    "variables = ae.init(jax.random.PRNGKey(0), x)\n",
    "model = ae.bind(variables)\n",
    "z = model.encoder(x)\n",
    "x_reconstructed = model.decoder(z)"
   ]
  },
  {
   "cell_type": "markdown",
   "metadata": {},
   "source": [
    "## 4-Dense layer"
   ]
  },
  {
   "cell_type": "code",
   "execution_count": null,
   "metadata": {},
   "outputs": [],
   "source": [
    "## Dense layer: act on the last dimension of x\n",
    "key = random.PRNGKey(0)\n",
    "net = nn.Dense(features=1, kernel_init=normal_init, bias_init=normal_init, param_dtype=jnp.complex64, dtype=jnp.complex64)\n",
    "x = jnp.ones([5,100,3])+1j\n",
    "params = net.init(key, x)\n",
    "net.apply(params, x).shape"
   ]
  },
  {
   "cell_type": "markdown",
   "metadata": {},
   "source": [
    "## 5-DenseGeneral layer"
   ]
  },
  {
   "cell_type": "code",
   "execution_count": null,
   "metadata": {},
   "outputs": [],
   "source": [
    "## DenseGeneral: flexible axies\n",
    "# 会把作用的axis移到最后一个轴\n",
    "net = nn.DenseGeneral(features=1, kernel_init=normal_init, bias_init=normal_init,param_dtype=jnp.complex64, dtype=jnp.complex64, axis=(1))\n",
    "x = jnp.ones([5,100,3,4])\n",
    "params = net.init(key, x)\n",
    "net.apply(params, x).shape"
   ]
  },
  {
   "cell_type": "markdown",
   "metadata": {},
   "source": [
    "## 6-Conv Layer"
   ]
  },
  {
   "cell_type": "code",
   "execution_count": 11,
   "metadata": {},
   "outputs": [
    {
     "data": {
      "text/plain": [
       "(100, 2)"
      ]
     },
     "execution_count": 11,
     "metadata": {},
     "output_type": "execute_result"
    }
   ],
   "source": [
    "## conv layer: input: NWC\n",
    "key = random.PRNGKey(0)\n",
    "net = nn.Conv(features=2,kernel_size=(5,),strides=(1,),kernel_init=normal_init, param_dtype=jnp.complex64,dtype=jnp.complex64, padding='same')\n",
    "x = jnp.ones([100,2])\n",
    "params = net.init(key, x)\n",
    "net.apply(params, x).shape"
   ]
  },
  {
   "cell_type": "code",
   "execution_count": 16,
   "metadata": {},
   "outputs": [
    {
     "data": {
      "text/plain": [
       "DeviceArray([[[ 0.61671954-1.1479251j ,  0.4116587 -1.1703161j ],\n",
       "              [-0.6803877 +1.8869159j , -1.0771589 -2.956864j  ]],\n",
       "\n",
       "             [[ 1.093049  -0.5451637j , -0.30176464-1.1562319j ],\n",
       "              [-0.02704463+0.15091111j, -0.98426235-1.0273948j ]],\n",
       "\n",
       "             [[ 0.23458725+0.7263101j , -0.49715957-0.25519085j],\n",
       "              [ 0.14015824-0.9344177j , -0.7609234 +0.04437318j]],\n",
       "\n",
       "             [[ 0.6508459 +0.14902635j, -1.4419343 -0.3645799j ],\n",
       "              [-0.25551254-0.03396091j,  1.110661  +0.98137975j]],\n",
       "\n",
       "             [[-0.8319209 -0.9487293j , -0.1314315 -0.2733951j ],\n",
       "              [ 2.2706056 -0.6598578j ,  1.1973985 +1.0825701j ]]],            dtype=complex64)"
      ]
     },
     "execution_count": 16,
     "metadata": {},
     "output_type": "execute_result"
    },
    {
     "ename": "",
     "evalue": "",
     "output_type": "error",
     "traceback": [
      "\u001b[1;31mThe Kernel crashed while executing code in the the current cell or a previous cell. Please review the code in the cell(s) to identify a possible cause of the failure. Click <a href='https://aka.ms/vscodeJupyterKernelCrash'>here</a> for more info. View Jupyter <a href='command:jupyter.viewOutput'>log</a> for further details."
     ]
    }
   ],
   "source": [
    "params['params']['kernel']"
   ]
  },
  {
   "cell_type": "code",
   "execution_count": 4,
   "metadata": {},
   "outputs": [
    {
     "data": {
      "text/plain": [
       "DeviceArray([[-0.7605683 +0.28631905j,  0.29151273-0.67799926j,\n",
       "              -0.20389351+0.41539636j, -0.5023387 -0.13513811j],\n",
       "             [ 0.07023317+0.50040025j,  0.22861177-0.52747107j,\n",
       "              -0.1865903 -0.26013976j, -0.8336339 -0.25228372j],\n",
       "             [ 0.24960287-0.3144836j , -0.16420667-0.10366028j,\n",
       "               0.5363082 +0.01821979j,  0.5512331 -0.08523721j]],            dtype=complex64)"
      ]
     },
     "execution_count": 4,
     "metadata": {},
     "output_type": "execute_result"
    },
    {
     "ename": "",
     "evalue": "",
     "output_type": "error",
     "traceback": [
      "\u001b[1;31mThe Kernel crashed while executing code in the the current cell or a previous cell. Please review the code in the cell(s) to identify a possible cause of the failure. Click <a href='https://aka.ms/vscodeJupyterKernelCrash'>here</a> for more info. View Jupyter <a href='command:jupyter.viewOutput'>log</a> for further details."
     ]
    }
   ],
   "source": [
    "import flax.linen.initializers as il\n",
    "import jax.random as rd\n",
    "import jax.numpy as jnp\n",
    "f = il.lecun_normal()\n",
    "f(rd.PRNGKey(0),(3,4),dtype=jnp.complex64)"
   ]
  },
  {
   "cell_type": "markdown",
   "metadata": {},
   "source": [
    "## 7-GRU layer"
   ]
  },
  {
   "cell_type": "code",
   "execution_count": null,
   "metadata": {},
   "outputs": [],
   "source": [
    "## GRUCell\n",
    "net = nn.GRUCell()\n",
    "params = net.init(key, jnp.ones([10,5]), jnp.ones([10,11]))\n",
    "carry, output = net.apply(params, jnp.ones([10,5]), jnp.ones([10,11]))\n",
    "print(carry.shape, output.shape)\n",
    "\n",
    "## GRU\n",
    "import flax\n",
    "import flax.linen as nn\n",
    "from jax import random\n",
    "\n",
    "class GRU(nn.Module):\n",
    "  param_dtype:Any=jnp.float32\n",
    "  dtype:Any=jnp.float32\n",
    "  kernel_init: Any=normal_init\n",
    "  bias_init:Any=normal_init\n",
    "  @nn.compact\n",
    "  def __call__(self, c, xs):\n",
    "    NN = nn.scan(nn.GRUCell,\n",
    "                   variable_broadcast=\"params\",\n",
    "                   split_rngs={\"params\": False},\n",
    "                   in_axes=1,   # along axis=1 scan\n",
    "                   out_axes=1)  # output on axis=1\n",
    "    return NN(param_dtype=self.param_dtype, dtype=self.dtype, kernel_init=self.kernel_init, bias_init=self.bias_init)(c, xs)\n",
    "\n",
    "seq_len, batch_size, in_feat, out_feat = 20, 16, 3, 5\n",
    "key_1, key_2, key_3 = random.split(random.PRNGKey(0), 3)\n",
    "\n",
    "xs = random.uniform(key_1, (batch_size, seq_len, in_feat))\n",
    "init_carry = nn.GRUCell.initialize_carry(key_2, (batch_size,), out_feat).astype(jnp.complex64)\n",
    "\n",
    "model = GRU(param_dtype=jnp.complex64, dtype=jnp.complex64)\n",
    "variables = model.init(key_3, init_carry, xs)\n",
    "out_carry, out_val = model.apply(variables, init_carry, xs)\n",
    "\n",
    "assert out_val.shape == (batch_size, seq_len, out_feat)\n",
    "print(f'out_carry shape: {out_carry.shape}, out_val shape {out_val.shape}')\n",
    "print(f'init_carry shape: {init_carry.shape}')"
   ]
  },
  {
   "cell_type": "markdown",
   "metadata": {},
   "source": [
    "## 8-Dense net"
   ]
  },
  {
   "cell_type": "code",
   "execution_count": null,
   "metadata": {},
   "outputs": [],
   "source": [
    "from typing import Callable\n",
    "from optical_flax.functions import cleaky_relu, crelu\n",
    "from commplax.module.core import SigTime, Signal, zeros\n",
    "class Dense_net(nn.Module):\n",
    "    '''\n",
    "    Fully Connected network\n",
    "    '''\n",
    "    features:int = 20\n",
    "    width:list = (20,20,20)\n",
    "    dtype:Any = jnp.complex64\n",
    "    param_dtype:Any = jnp.complex64\n",
    "    act:Callable=crelu\n",
    "    bias_init:Callable=zeros\n",
    "\n",
    "    @nn.compact\n",
    "    def __call__(self,inputs):\n",
    "        Dense  = partial(nn.Dense, dtype=self.dtype, param_dtype=self.param_dtype)\n",
    "        x = inputs\n",
    "        for w in self.width:\n",
    "            x = Dense(features=w,bias_init=zeros)(x)\n",
    "            x = self.act(x)\n",
    "        x = Dense(features=self.features, bias_init=self.bias_init)(x)\n",
    "        return x"
   ]
  },
  {
   "cell_type": "markdown",
   "metadata": {},
   "source": [
    "## 9-nn.vmap on static module"
   ]
  },
  {
   "cell_type": "code",
   "execution_count": null,
   "metadata": {},
   "outputs": [],
   "source": [
    "def nn_vmap_x(module):\n",
    "    return nn.vmap(module, \n",
    "    variable_axes={'params':-1},  # 表示变量'params'会沿着axis=-1复制, 'const'不会复制\n",
    "    split_rngs={'params':True}, # 表示初始化的种子会split\n",
    "    in_axes=-1, out_axes=-1) "
   ]
  },
  {
   "cell_type": "code",
   "execution_count": null,
   "metadata": {},
   "outputs": [],
   "source": [
    "# FDBP Module\n",
    "class myFDBP(nn.Module):\n",
    "    # 定义初始化参数的函数\n",
    "    dtype: Any=jnp.complex64\n",
    "    weight_init: Callable=normal_init\n",
    "    bias_init: Callable=normal_init\n",
    "    steps: int = 3\n",
    "    dtaps: int = 261\n",
    "    ntaps: int = 41\n",
    "\n",
    "    def setup(self):\n",
    "        conv_c = partial(nn.Conv, use_bias=False, dtype=jnp.complex64, param_dtype=jnp.complex64, kernel_init=self.weight_init)\n",
    "        conv_r = partial(nn.Conv, use_bias=False, dtype=jnp.float32, param_dtype=jnp.float32, kernel_init=self.weight_init)\n",
    "        self.dconv_x = [conv_c(features=1, kernel_size=(self.dtaps,)) for i in range(self.steps)]\n",
    "        self.dconv_y = [conv_c(features=1, kernel_size=(self.dtaps,)) for i in range(self.steps)]\n",
    "        self.nconv = [conv_r(features=2, kernel_size=(self.ntaps,)) for i in range(self.steps)]\n",
    "\n",
    "    @nn.compact\n",
    "    def __call__(self,inputs):\n",
    "        p = inputs\n",
    "\n",
    "        # 定义模型参数\n",
    "        for i in range(self.steps):\n",
    "            x = p[:,0:1]\n",
    "            y = p[:,1:2]\n",
    "            x = self.dconv_x[i](x)\n",
    "            y = self.dconv_y[i](y)\n",
    "            p = jnp.concatenate([x,y],axis=1)\n",
    "            arg = self.nconv[i](jnp.abs(p)**2)\n",
    "            p = p * jnp.exp(1j*(arg))\n",
    "            \n",
    "\n",
    "        # 运算与返回\n",
    "        return p"
   ]
  },
  {
   "cell_type": "markdown",
   "metadata": {},
   "source": [
    "## 10-test long GRU (batch training)"
   ]
  },
  {
   "cell_type": "code",
   "execution_count": null,
   "metadata": {},
   "outputs": [],
   "source": [
    "## test long GRU\n",
    "from optical_flax.layers import GRU\n",
    "seed = random.PRNGKey\n",
    "\n",
    "net = realize(GRU())\n",
    "L, B, in_feat, out_feat = 10000, 5, 3, 2\n",
    "key_1, key_2, key_3 = random.split(random.PRNGKey(0), 3)\n",
    "\n",
    "xs = random.uniform(key_1, (B,L,in_feat))\n",
    "init_carry = nn.GRUCell.initialize_carry(key_2, (B,), out_feat).astype(jnp.complex64)\n",
    "var_true = net.init(key_3, init_carry, xs)\n",
    "out_carry,ys = net.apply(var_true, init_carry, xs)\n",
    "var = net.init(seed(10), init_carry, xs)\n",
    "\n",
    "tx = optax.adam(learning_rate=0.01)\n",
    "\n",
    "\n",
    "def loss_fn(var, carry, xs, ys):\n",
    "    out_carry, y = net.apply(var, carry, xs)\n",
    "    return jnp.sum(jnp.abs(y - ys)**2), out_carry\n",
    "\n",
    "from jax.lax import stop_gradient \n",
    "\n",
    "\n",
    "## 由于jax没有计算图的概念，所以在这里并不需要 stop_gradient\n",
    "@jax.jit\n",
    "def update_step(var,opt_state, carry, xs, ys):\n",
    "    (loss_val, out_carry), grads = jax.value_and_grad(loss_fn, has_aux=True)(var, carry, xs, ys)\n",
    "    updates,opt_state = tx.update(grads, opt_state)\n",
    "    var = optax.apply_updates(var, updates)\n",
    "    return var, opt_state, stop_gradient(out_carry), loss_val\n",
    "\n",
    "\n",
    "carry = init_carry\n",
    "opt_state = tx.init(var)\n",
    "epochs = 200\n",
    "for j in range(epochs):\n",
    "    for i in range(100):\n",
    "        x = xs[:,i*100:(i+1)*100,:]\n",
    "        y = ys[:,i*100:(i+1)*100,:]\n",
    "        var, opt_state,carry,l  = update_step(var, opt_state, carry, x, y)\n",
    "    if j % 10==0:\n",
    "        print(l)\n"
   ]
  },
  {
   "cell_type": "markdown",
   "metadata": {},
   "source": [
    "## 11-dispersion perator"
   ]
  },
  {
   "cell_type": "code",
   "execution_count": null,
   "metadata": {},
   "outputs": [],
   "source": [
    "import jax\n",
    "import jax.numpy as jnp\n",
    "from jax import device_put, device_get\n",
    "import jax.random as random\n",
    "import numpy as np\n",
    "import flax.linen as nn\n",
    "import optax\n",
    "from functools import partial, wraps\n",
    "from typing import Any, NamedTuple,Callable, Iterable, Optional, Tuple, Union,Sequence\n",
    "from optical_flax.utils import realize, normal_init, show_tree, tree_r2c, tree_c2r\n",
    "from collections import namedtuple\n",
    "from flax.core import freeze, unfreeze\n",
    "from commplax.module import core\n",
    "from commplax.module.core import SigTime, Signal, zeros, conv1d_t, vmap,wpartial,delta,gauss\n",
    "import optical_flax.base as base\n",
    "import optical_flax.layers as layers\n",
    "import optax\n",
    "import matplotlib.pyplot as plt\n",
    "## Define datax\n",
    "from gdbp import gdbp_base as gb, data as gdat, aux\n",
    "data_train = gdat.load(1, 0, 4, 2)[0]\n",
    "data_test = gdat.load(2, 0, 4, 2)[0]"
   ]
  },
  {
   "cell_type": "code",
   "execution_count": null,
   "metadata": {},
   "outputs": [],
   "source": [
    "## dispersion operator\n",
    "a = data_train.a\n",
    "pi  = np.pi\n",
    "log = np.log\n",
    "exp = np.exp\n",
    "ifft = np.fft.ifft\n",
    "\n",
    "# virtual span is used in cases where we do not use physical span settings\n",
    "freqs = 1001\n",
    "sample_rate = a['samplerate']\n",
    "span_length = a['distance'] / a['spans']\n",
    "spans = a['spans']\n",
    "launch_power = a['lpdbm'] - 3   # launch power [dBm]\n",
    "                             \n",
    "steps_per_span=1                                 # steps per span\n",
    "virtual_spans=3                                  # number of virtual spans\n",
    "carrier_frequency=299792458/1550E-9              # carrier frequency [Hz]\n",
    "fiber_dispersion=16.5E-6                         # [s/m^2]\n",
    "fiber_dispersion_slope=0.08e3                    # [s/m^3]\n",
    "fiber_loss=.2E-3                                 # loss of fiber [dB/m]\n",
    "fiber_core_area=80E-12                           # effective area of fiber [m^2]\n",
    "fiber_nonlinear_index=2.6E-20                    # nonlinear index [m^2/W]\n",
    "fiber_reference_frequency=299792458/1550E-9      # fiber reference frequency [Hz]\n",
    "ignore_beta3=True\n",
    "polmux=True\n",
    "\n",
    "C       = 299792458. # speed of light [m/s]\n",
    "lambda_ = C / fiber_reference_frequency\n",
    "B_2     = -fiber_dispersion * lambda_**2 / (2 * pi * C)\n",
    "B_3     = 0. if ignore_beta3 else \\\n",
    "    (fiber_dispersion_slope * lambda_**2 + 2 * fiber_dispersion * lambda_) * (lambda_ / (2 * pi * C))**2 #[/m/W]\n",
    "gamma   = 2 * pi * fiber_nonlinear_index / lambda_ / fiber_core_area  #[/m/W]\n",
    "LP      = 10.**(launch_power / 10 - 3)  # 将【dBm】转化为 [W]\n",
    "alpha   = fiber_loss / (10. / log(10.)) # 计算出方程中的衰减系数alpha，z单位 [m]\n",
    "L_eff   = lambda h: (1 - exp(-alpha * h)) / alpha\n",
    "NIter   = virtual_spans * steps_per_span\n",
    "delay   = (freqs - 1) // 2\n",
    "dw      = 2 * pi * (carrier_frequency - fiber_reference_frequency)\n",
    "w_res   = 2 * pi * sample_rate / freqs\n",
    "k       = np.arange(freqs)\n",
    "w       = np.where(k > delay, k - freqs, k) * w_res # ifftshifted\n",
    "\n",
    "H   = exp(-1j * (-B_2 / 2 * (w + dw)**2 + B_3 / 6 * (w + dw)**3) * \\\n",
    "            span_length * spans / virtual_spans / steps_per_span)\n",
    "            ## dz = span_length * spans / virtual_spans / steps_per_span\n",
    "H_casual = H * exp(-1j * w * delay / sample_rate) ## 频域相位旋转等价于时域平移，将时域对齐\n",
    "h_casual = ifft(H_casual)\n",
    "\n",
    "if polmux:\n",
    "        dims = 2\n",
    "else:\n",
    "    dims = 1\n",
    "\n",
    "H = np.tile(H[None, :, None], (NIter, 1, dims))\n",
    "h_casual = np.tile(h_casual[None, :, None], (NIter, 1, dims))\n",
    "\n",
    "plt.plot(np.abs(h_casual[2,:,1]))"
   ]
  },
  {
   "cell_type": "markdown",
   "metadata": {},
   "source": [
    "## 12-kalman filter"
   ]
  },
  {
   "cell_type": "code",
   "execution_count": null,
   "metadata": {},
   "outputs": [],
   "source": [
    "import numpy as np\n",
    "\n",
    "class KalmanFilter(object):\n",
    "    def __init__(self, F = None, B = None, H = None, Q = None, R = None, P = None, x0 = None):\n",
    "\n",
    "        if(F is None or H is None):\n",
    "            raise ValueError(\"Set proper system dynamics.\")\n",
    "\n",
    "        self.n = F.shape[1]\n",
    "        self.m = H.shape[1]\n",
    "\n",
    "        self.F = F\n",
    "        self.H = H\n",
    "        self.B = 0 if B is None else B\n",
    "        self.Q = np.eye(self.n) if Q is None else Q\n",
    "        self.R = np.eye(self.n) if R is None else R\n",
    "        self.P = np.eye(self.n) if P is None else P\n",
    "        self.x = np.zeros((self.n, 1)) if x0 is None else x0\n",
    "\n",
    "    def predict(self, u = 0):\n",
    "        self.x = np.dot(self.F, self.x) + np.dot(self.B, u)\n",
    "        self.P = np.dot(np.dot(self.F, self.P), self.F.T) + self.Q\n",
    "        return self.x\n",
    "\n",
    "    def update(self, z):\n",
    "        y = z - np.dot(self.H, self.x)\n",
    "        S = self.R + np.dot(self.H, np.dot(self.P, self.H.T))\n",
    "        K = np.dot(np.dot(self.P, self.H.T), np.linalg.inv(S))\n",
    "        self.x = self.x + np.dot(K, y)\n",
    "        I = np.eye(self.n)\n",
    "        self.P = np.dot(I - np.dot(K, self.H), self.P)\n",
    "\n",
    "def example():\n",
    "    dt = 1.0/60\n",
    "    F = np.array([[1, dt, 0], [0, 1, dt], [0, 0, 1]])\n",
    "    H = np.array([1, 0, 0]).reshape(1, 3)\n",
    "    Q = np.array([[0.05, 0.05, 0.0], [0.05, 0.05, 0.0], [0.0, 0.0, 0.0]])\n",
    "    R = np.array([1]).reshape(1, 1)\n",
    "    \n",
    "    itr  = 200\n",
    "    \n",
    "    def f(x):\n",
    "        return np.dot(F,x)+np.random.normal(0,5,3)\n",
    "    \n",
    "    real_state = []\n",
    "    x = np.array([0,0,0])\n",
    "    \n",
    "    for i in range(itr):\n",
    "        real_state.append(x[0])\n",
    "        x = f(x)\n",
    "    \n",
    "    measurements = [x-1+np.random.normal(0,1) for x in real_state]\n",
    "\n",
    "    kf = KalmanFilter(F = F, H = H, Q = Q, R = R)\n",
    "    predictions = []\n",
    "    for z in measurements:\n",
    "        predictions.append(kf.predict()[0])\n",
    "        kf.update(z)\n",
    "\n",
    "    import matplotlib.pyplot as plt\n",
    "    plt.plot(range(len(measurements)), measurements, label = 'Measurements')\n",
    "    plt.plot(range(len(predictions)), np.array(predictions), label = 'Kalman Filter Prediction')\n",
    "    plt.plot(range(len(real_state)), real_state, label = 'Real statement' )\n",
    "    plt.legend()\n",
    "    plt.show()\n",
    "\n",
    "example()"
   ]
  },
  {
   "cell_type": "markdown",
   "metadata": {},
   "source": [
    "## 13-complex optimizer"
   ]
  },
  {
   "cell_type": "code",
   "execution_count": 89,
   "metadata": {},
   "outputs": [
    {
     "data": {
      "image/png": "[encoded data removed]",
      "text/plain": [
       "<Figure size 432x288 with 1 Axes>"
      ]
     },
     "metadata": {
      "needs_background": "light"
     },
     "output_type": "display_data"
    }
   ],
   "source": [
    "## torch adam optimize complex parameter\n",
    "import torch as t\n",
    "from matplotlib import pyplot as plt\n",
    "\n",
    "complex_param = t.tensor([1],dtype=t.complex64, requires_grad=True)\n",
    "\n",
    "\n",
    "# We will optimize on the mean squared error from a 1j\n",
    "target = 2.0 +(1j)\n",
    "\n",
    "def calc_loss(x):\n",
    "    return t.abs(x - target)**2\n",
    "\n",
    "optimizer = t.optim.Adam([complex_param], lr=0.1)\n",
    "\n",
    "n = 1000\n",
    "loss_list = []\n",
    "values = t.zeros(n, dtype=t.complex64)\n",
    "for i in range(n):\n",
    "    optimizer.zero_grad()\n",
    "    loss = calc_loss(complex_param)\n",
    "    loss.backward()\n",
    "    optimizer.step()\n",
    "    values[i] = complex_param.detach()\n",
    "    loss_list.append(loss.item())\n",
    "\n",
    "\n",
    "# Plot the results\n",
    "plt.plot(values.real, label='Real Part')\n",
    "plt.plot(values.imag, label='Imaginary Part')\n",
    "plt.legend()\n",
    "plt.xlabel('Iteration')\n",
    "plt.ylabel('Complex Parameter')\n",
    "plt.title('Optimization Progress with as-implemented Adam')\n",
    "plt.show()"
   ]
  },
  {
   "cell_type": "code",
   "execution_count": 92,
   "metadata": {},
   "outputs": [
    {
     "data": {
      "text/plain": [
       "DeviceArray([1., 1., 1.], dtype=float32)"
      ]
     },
     "execution_count": 92,
     "metadata": {},
     "output_type": "execute_result"
    }
   ],
   "source": [
    "jnp.ones(3).conj()"
   ]
  },
  {
   "cell_type": "code",
   "execution_count": 129,
   "metadata": {},
   "outputs": [
    {
     "data": {
      "image/png": "[encoded data removed]",
      "text/plain": [
       "<Figure size 432x288 with 1 Axes>"
      ]
     },
     "metadata": {
      "needs_background": "light"
     },
     "output_type": "display_data"
    }
   ],
   "source": [
    "## torch adam optimize complex parameter\n",
    "import torch as t\n",
    "from matplotlib import pyplot as plt\n",
    "a = t.tensor([1.0], requires_grad=True)\n",
    "b = t.tensor([0.0], requires_grad=True)\n",
    "\n",
    "\n",
    "# We will optimize on the mean squared error from a 1j\n",
    "target = 2.0 +(1j)\n",
    "\n",
    "def calc_loss(x):\n",
    "    xc = x[0] + x[1]*(1j)\n",
    "    return t.abs(xc - target)**2\n",
    "\n",
    "optimizer = t.optim.Adam([a,b], lr=0.01)\n",
    "\n",
    "n = 10000\n",
    "loss_list = []\n",
    "values = t.zeros(n, dtype=t.complex64)\n",
    "for i in range(n):\n",
    "    optimizer.zero_grad()\n",
    "    loss = calc_loss([a,b])\n",
    "    loss.backward()\n",
    "    optimizer.step()\n",
    "    values[i] = a.detach() + b.detach()*(1j)\n",
    "    loss_list.append(loss.item())\n",
    "\n",
    "\n",
    "# Plot the results\n",
    "plt.plot(values.real, label='Real Part')\n",
    "plt.plot(values.imag, label='Imaginary Part')\n",
    "plt.legend()\n",
    "plt.xlabel('Iteration')\n",
    "plt.ylabel('Complex Parameter')\n",
    "plt.title('Optimization Progress with as-implemented Adam')\n",
    "plt.show()"
   ]
  },
  {
   "cell_type": "code",
   "execution_count": 147,
   "metadata": {},
   "outputs": [
    {
     "data": {
      "text/plain": [
       "[<matplotlib.lines.Line2D at 0x7f7c49c0bbb0>]"
      ]
     },
     "execution_count": 147,
     "metadata": {},
     "output_type": "execute_result"
    },
    {
     "data": {
      "image/png": "[encoded data removed]",
      "text/plain": [
       "<Figure size 432x288 with 1 Axes>"
      ]
     },
     "metadata": {
      "needs_background": "light"
     },
     "output_type": "display_data"
    },
    {
     "ename": "",
     "evalue": "",
     "output_type": "error",
     "traceback": [
      "\u001b[1;31mThe Kernel crashed while executing code in the the current cell or a previous cell. Please review the code in the cell(s) to identify a possible cause of the failure. Click <a href='https://aka.ms/vscodeJupyterKernelCrash'>here</a> for more info. View Jupyter <a href='command:jupyter.viewOutput'>log</a> for further details."
     ]
    }
   ],
   "source": [
    "## optax complex parameter 优化\n",
    "from optical_flax.initializers import ones\n",
    "from optical_flax.utils import realize\n",
    "net = nn.Dense(1, use_bias=False,kernel_init=ones, dtype=jnp.complex64, param_dtype=jnp.complex64)\n",
    "net = realize(net)\n",
    "param = net.init(key, jnp.ones(1))\n",
    "tx = optax.adam(learning_rate=0.01)\n",
    "opt_state = tx.init(param)\n",
    "x = jnp.ones(1)\n",
    "y = jnp.array(2.0 + 1j)\n",
    "\n",
    "def loss(param):\n",
    "    return jnp.sum(jnp.abs(net.apply(param,x) - y)**2)\n",
    "\n",
    "@jax.jit\n",
    "def update_state(param, opt_state):\n",
    "    loss_val, grads = jax.value_and_grad(loss)(param)\n",
    "    updates, opt_state = tx.update(grads,opt_state)\n",
    "    param = optax.apply_updates(param, updates)\n",
    "    return param,opt_state, loss_val \n",
    "\n",
    "n=1000\n",
    "loss_list=[]\n",
    "for i in range(n):\n",
    "    param,opt_state, loss_val = update_state(param, opt_state)\n",
    "    loss_list.append(loss_val)\n",
    "\n",
    "import matplotlib.pyplot as plt\n",
    "plt.plot(loss_list)"
   ]
  },
  {
   "cell_type": "markdown",
   "metadata": {},
   "source": [
    "## 14-nn.vmap on dynamic module"
   ]
  },
  {
   "cell_type": "code",
   "execution_count": null,
   "metadata": {},
   "outputs": [],
   "source": [
    "class Foo(nn.Module):\n",
    "    @nn.compact\n",
    "    def __call__(self, x, train=True):\n",
    "        x = nn.Conv(3, kernel_size=(3, 3), strides=(1, 1), padding=\"SAME\")(x)\n",
    "        x = nn.BatchNorm(use_running_average=not train, axis_name=[\"b1\", \"b2\"])(\n",
    "            x\n",
    "        )  # I need add two extra batch dims, can we use a list of axis_name here?\n",
    "        x = nn.relu(x)\n",
    "        return x\n"
   ]
  },
  {
   "cell_type": "code",
   "execution_count": null,
   "metadata": {},
   "outputs": [],
   "source": [
    "net = Foo()\n",
    "var = net.init(key, jnp.ones([2,28,28,3]))"
   ]
  },
  {
   "cell_type": "code",
   "execution_count": null,
   "metadata": {},
   "outputs": [],
   "source": [
    "show_tree(var)"
   ]
  },
  {
   "cell_type": "code",
   "execution_count": null,
   "metadata": {},
   "outputs": [],
   "source": [
    "import functools\n",
    "\n",
    "import flax.linen as nn\n",
    "import jax\n",
    "from jax import numpy as jnp\n",
    "\n",
    "\n",
    "@functools.partial(\n",
    "    nn.vmap,\n",
    "    variable_axes={\"params\": None, \"batch_stats\": None},\n",
    "    split_rngs={\"params\": False},\n",
    "    in_axes=(1, None),\n",
    "    out_axes=1,\n",
    "    axis_name=\"b2\",\n",
    ")\n",
    "@functools.partial(\n",
    "    nn.vmap,\n",
    "    variable_axes={\"params\": None, \"batch_stats\": None},\n",
    "    split_rngs={\"params\": False},\n",
    "    in_axes=(1, None),\n",
    "    out_axes=1,\n",
    "    axis_name=\"b1\",\n",
    ")\n",
    "class Foo(nn.Module):\n",
    "    @nn.compact\n",
    "    def __call__(self, x, train=True):\n",
    "        x = nn.Conv(3, kernel_size=(3, 3), strides=(1, 1), padding=\"SAME\")(x)\n",
    "        x = nn.BatchNorm(use_running_average=not train, axis_name=[\"b1\", \"b2\"])(\n",
    "            x\n",
    "        )  # I need add two extra batch dims, can we use a list of axis_name here?\n",
    "        x = nn.relu(x)\n",
    "        return x\n",
    "\n",
    "\n",
    "\n",
    "foo = Foo()\n",
    "x = jnp.ones(shape=(2, 2, 2, 28, 28, 3))\n",
    "rng = jax.random.PRNGKey(0)\n",
    "vars = foo.init({\"params\": rng}, x, True)\n",
    "print(\"vars:\")\n",
    "print(jax.tree_map(lambda x: x.shape, vars))\n",
    "\n",
    "train_y, new_batch_stats = foo.apply(\n",
    "    {\"params\": vars[\"params\"], \"batch_stats\": vars[\"batch_stats\"]},\n",
    "    x,\n",
    "    True, # the trick is use False, instead of train=True\n",
    "    mutable=[\"batch_stats\"],\n",
    ")\n",
    "print(\"train y\")\n",
    "print(train_y.shape)\n",
    "infer_y = foo.apply(\n",
    "    {\"params\": vars[\"params\"], \"batch_stats\": new_batch_stats[\"batch_stats\"]},\n",
    "    x,\n",
    "    False, # the trick is use False, instead of train=False\n",
    "    mutable=False,\n",
    ")\n",
    "print(\"infer_y shape:\")\n",
    "print(infer_y.shape)"
   ]
  },
  {
   "cell_type": "markdown",
   "metadata": {},
   "source": [
    "## 15-jax.vmap"
   ]
  },
  {
   "cell_type": "code",
   "execution_count": null,
   "metadata": {},
   "outputs": [],
   "source": [
    "from functools import partial, wraps\n",
    "x = (0,1)\n",
    "y = {'a':3,'b':{'alpha':4, 'beta':5}}\n",
    "\n",
    "def expand(data):\n",
    "    return jax.tree_map(lambda x: jnp.ones([5,1])*x, data)\n",
    "\n",
    "x_ = expand(x)\n",
    "y_ = expand(y)"
   ]
  },
  {
   "cell_type": "code",
   "execution_count": null,
   "metadata": {},
   "outputs": [],
   "source": [
    "def time_dc(f):\n",
    "    @wraps(f)\n",
    "    def _f(*args, **kwargs):\n",
    "        import time\n",
    "        t0 = time.time()\n",
    "        y = f(*args, **kwargs)\n",
    "        t1 = time.time()\n",
    "        print(f'time cost = {t1-t0}')\n",
    "        return y\n",
    "    return _f\n",
    "    "
   ]
  },
  {
   "cell_type": "code",
   "execution_count": null,
   "metadata": {},
   "outputs": [],
   "source": [
    "@partial(jax.vmap, in_axes=(None, {'a':0, 'b':{'alpha':0,'beta':0}}), out_axes=(None,1))\n",
    "def f(x,y):\n",
    "    return x[0], {'aa':y['b']['alpha'], 'bb':y['b']['beta']}\n"
   ]
  },
  {
   "cell_type": "code",
   "execution_count": null,
   "metadata": {},
   "outputs": [],
   "source": [
    "f(x,y_)"
   ]
  },
  {
   "cell_type": "code",
   "execution_count": null,
   "metadata": {},
   "outputs": [],
   "source": [
    "import jax\n",
    "import numpy as np\n",
    "import jax.numpy as jnp\n",
    "\n",
    "X = jnp.ones(10)\n",
    "Y = jnp.arange(10)\n",
    "\n",
    "\n",
    "def poisson(alpha, beta):\n",
    "    lamb = alpha + beta*X\n",
    "    return jnp.where(lamb.any() < 0, 0, jnp.sum(Y*jnp.log(lamb) - jnp.log(lamb)))\n",
    "\n",
    "poisson_vmap = jax.jit(jax.vmap(poisson, in_axes=(-1,-1), out_axes=-1))\n",
    "alpha = jnp.ones([1,10])\n",
    "beta = jnp.ones([1,10])\n",
    "poisson_vmap(alpha,beta)"
   ]
  },
  {
   "cell_type": "markdown",
   "metadata": {},
   "source": [
    "## 16-Module transformation"
   ]
  },
  {
   "cell_type": "code",
   "execution_count": null,
   "metadata": {},
   "outputs": [],
   "source": [
    "import jax\n",
    "from jax import random, numpy as jnp\n",
    "from flax import linen as nn\n",
    "\n",
    "class MLP(nn.Module):\n",
    "  @nn.compact\n",
    "  def __call__(self, xs):\n",
    "    h = nn.Dense(4, name='hidden')(xs)\n",
    "    h = nn.relu(h)\n",
    "    return nn.Dense(1, name='out')(h)\n",
    "\n",
    "class ManualVmapMLP(nn.Module):\n",
    "  @nn.compact\n",
    "  def __call__(self, xs):\n",
    "    mlp = MLP(parent=None)\n",
    "    init_fn = lambda rng, xs: jax.vmap(mlp.init, in_axes=0)(random.split(rng, xs.shape[0]), xs)['params']\n",
    "    apply_fn = jax.vmap(mlp.apply, in_axes=0)\n",
    "    mlp_params = self.param('mlp', init_fn, xs)\n",
    "    return apply_fn({'params': mlp_params}, xs)\n",
    "\n",
    "xs = jnp.ones((3, 4))\n",
    "variables = ManualVmapMLP().init(random.PRNGKey(0), xs)\n",
    "print(jax.tree_map(jnp.shape, variables['params']))"
   ]
  },
  {
   "cell_type": "code",
   "execution_count": null,
   "metadata": {},
   "outputs": [],
   "source": [
    "def trans(x):\n",
    "    H = jnp.ones(len(x))\n",
    "    x = jnp.fft.ifft(jnp.fft.fft(x)*H)\n",
    "    x = jnp.exp(1j*jnp.abs(x)**2)\n",
    "    return x\n",
    "\n",
    "trans_vmap = jax.vmap(trans, in_axes=0, out_axes=0)"
   ]
  },
  {
   "cell_type": "markdown",
   "metadata": {},
   "source": [
    "## 17-convolution speed compare"
   ]
  },
  {
   "cell_type": "code",
   "execution_count": null,
   "metadata": {},
   "outputs": [],
   "source": [
    "import scipy\n",
    "from commplax.xop import convolve\n",
    "\n",
    "x = jnp.ones(10000)\n",
    "\n",
    "@jax.jit\n",
    "def jax_convolve(x, y):\n",
    "  return jax.scipy.signal.convolve(x,x,mode='same')\n",
    "\n",
    "## convolution speed\n",
    "\n",
    "# %timeit jnp.convolve(x,x)\n",
    "%timeit np.convolve(x,x)\n",
    "%timeit scipy.signal.convolve(x,x)\n",
    "%timeit convolve(x,x,method='auto')\n",
    "\n",
    "\n",
    "## matrix product speed\n",
    "vmap = jax.vmap\n",
    "vv = lambda x, y: jnp.vdot(x, y)  #  ([a], [a]) -> []\n",
    "mv = vmap(vv, (0, None), 0)      #  ([b,a], [a]) -> [b]      (b is the mapped axis)\n",
    "mm = vmap(mv, (None, 1), 1) \n",
    "mv2 = vmap(vv, (0, 1), 0) \n",
    "mm2 = vmap(mv2, (1, 1), 0)\n",
    "\n",
    "a,b,c = 1000,1000,1000\n",
    "\n",
    "%timeit jax.jit(mm)(np.random.rand(b,a), np.random.rand(a,c))\n",
    "%timeit np.random.rand(b,a) @ np.random.rand(a,c)\n",
    "\n",
    "\n",
    "## random nunber generation speed\n",
    "key = jax.random.PRNGKey(0)\n",
    "\n",
    "%timeit jax.random.normal(key, (1000000,))\n",
    "%timeit np.random.normal(size=(1000000,))"
   ]
  },
  {
   "cell_type": "markdown",
   "metadata": {},
   "source": [
    "## 18-scan"
   ]
  },
  {
   "cell_type": "code",
   "execution_count": null,
   "metadata": {},
   "outputs": [],
   "source": [
    "from jax.numpy.fft import fft, ifft, fftfreq\n",
    "from optical_flax.models import edfa\n",
    "\n",
    "def one_step(Ech , _, *, hz=0.1, linOperator=None, γ=1.3):\n",
    "    # First linear step (frequency domain)\n",
    "    Ech = Ech * linOperator            \n",
    "\n",
    "    # Nonlinear step (time domain)\n",
    "    Ech = ifft(Ech)\n",
    "    Ech = Ech * jnp.exp(1j*γ*(Ech*jnp.conj(Ech))*hz)\n",
    "\n",
    "    # Second linear step (frequency domain)\n",
    "    Ech = fft(Ech)       \n",
    "    Ech = Ech * linOperator   \n",
    "    return Ech, None\n",
    "\n",
    "@partial(jax.jit, static_argnames=['amp'])\n",
    "def one_span(Ech, _, *, amp='efda',Fs= 1, Lspan=1, NF=4.5, Fc=1, hz=1, Nsteps=1, α=0.2):\n",
    "    Ech =  fft(Ech)\n",
    "    Ech = jax.lax.scan(one_step, x, None,  length=10)[0]\n",
    "    Ech = ifft(Ech)\n",
    "\n",
    "    if amp =='edfa':\n",
    "        Ech = edfa(Ech, Fs, alpha*Lspan, NF, Fc)\n",
    "    elif amp =='ideal':\n",
    "        Ech = Ech * jnp.exp(α/2*Nsteps*hz)\n",
    "    elif amp == None:\n",
    "        Ech = Ech * jnp.exp(0); \n"
   ]
  },
  {
   "cell_type": "code",
   "execution_count": null,
   "metadata": {},
   "outputs": [],
   "source": [
    "# lax.scan  循环扫描的轴是一个Pytree中每个 node的 leading axis\n",
    "# xop.scan\n",
    "from jax import lax\n",
    "from commplax import xop\n",
    "a = np.array([1, 2, 3, 5, 7, 11, 13, 17])\n",
    "result_init = 0\n",
    "xop.scan(lambda carry, x: (carry+x, carry+x), result_init, a)"
   ]
  },
  {
   "cell_type": "markdown",
   "metadata": {},
   "source": [
    "## 19-Generate random numbers"
   ]
  },
  {
   "cell_type": "code",
   "execution_count": null,
   "metadata": {},
   "outputs": [],
   "source": [
    "@partial(jax.jit)\n",
    "def f(x, p):\n",
    "    return x + np.random.normal(size=x.size)*p"
   ]
  },
  {
   "cell_type": "code",
   "execution_count": null,
   "metadata": {},
   "outputs": [],
   "source": [
    "f(jnp.ones(10),1)"
   ]
  },
  {
   "cell_type": "markdown",
   "metadata": {},
   "source": [
    "## 20-nn.vmap  on DSP model"
   ]
  },
  {
   "cell_type": "code",
   "execution_count": null,
   "metadata": {},
   "outputs": [],
   "source": [
    "import jax\n",
    "import numpy as np\n",
    "import jax.numpy as jnp\n",
    "\n",
    "from optical_flax.layers import DSP_Model\n",
    "from commplax.module import core\n",
    "from optical_flax.utils import show_tree\n",
    "import flax.linen as nn\n",
    "Signal = core.Signal\n",
    "\n",
    "key = jax.random.PRNGKey(0)\n",
    "x0 =  jnp.ones([10000,2])\n",
    "x1 = jnp.ones([3,10000,2])\n",
    "\n",
    "var_axes = {'params':None, 'const':None, 'norm':0, 'af_state':0, 'aux_inputs':0}\n",
    "rng_axes = {'params':False, 'const':False, 'norm':False, 'af_state':False, 'aux_inputs':False}\n",
    "DSP_vmap = nn.vmap(DSP_Model,variable_axes=var_axes, split_rngs=rng_axes, in_axes=0, out_axes=0)\n",
    "net = DSP_vmap()\n",
    "var = net.init(key, Signal(x1))\n",
    "\n",
    "z =net.apply(var, Signal(x1), mutable={'af_state','norm'})\n",
    "show_tree(z[0])"
   ]
  },
  {
   "cell_type": "markdown",
   "metadata": {},
   "source": [
    "## 21-Attention"
   ]
  },
  {
   "cell_type": "code",
   "execution_count": 1,
   "metadata": {},
   "outputs": [],
   "source": [
    "import jax.numpy as jnp\n",
    "import jax\n",
    "import jax.random as rd \n",
    "import numpy as np\n",
    "import flax.linen as nn \n",
    "from optical_flax.utils import show_tree\n",
    "net = nn.SelfAttention(num_heads=5, dtype=jnp.complex64, param_dtype=jnp.complex64)"
   ]
  },
  {
   "cell_type": "code",
   "execution_count": 26,
   "metadata": {},
   "outputs": [],
   "source": [
    "var = net.init(rd.PRNGKey(0), jnp.ones([3, 100, 20]))"
   ]
  },
  {
   "cell_type": "code",
   "execution_count": 14,
   "metadata": {},
   "outputs": [
    {
     "data": {
      "text/plain": [
       "(3, 100, 20)"
      ]
     },
     "execution_count": 14,
     "metadata": {},
     "output_type": "execute_result"
    }
   ],
   "source": [
    "net.apply(var, jnp.ones([3,100,20])).shape"
   ]
  },
  {
   "cell_type": "code",
   "execution_count": 27,
   "metadata": {},
   "outputs": [
    {
     "data": {
      "text/plain": [
       "FrozenDict({\n",
       "    params: {\n",
       "        key: {\n",
       "            bias: (5, 4),\n",
       "            kernel: (20, 5, 4),\n",
       "        },\n",
       "        out: {\n",
       "            bias: (20,),\n",
       "            kernel: (5, 4, 20),\n",
       "        },\n",
       "        query: {\n",
       "            bias: (5, 4),\n",
       "            kernel: (20, 5, 4),\n",
       "        },\n",
       "        value: {\n",
       "            bias: (5, 4),\n",
       "            kernel: (20, 5, 4),\n",
       "        },\n",
       "    },\n",
       "})"
      ]
     },
     "execution_count": 27,
     "metadata": {},
     "output_type": "execute_result"
    },
    {
     "ename": "",
     "evalue": "",
     "output_type": "error",
     "traceback": [
      "\u001b[1;31mThe Kernel crashed while executing code in the the current cell or a previous cell. Please review the code in the cell(s) to identify a possible cause of the failure. Click <a href='https://aka.ms/vscodeJupyterKernelCrash'>here</a> for more info. View Jupyter <a href='command:jupyter.viewOutput'>log</a> for further details."
     ]
    }
   ],
   "source": [
    "show_tree(var)"
   ]
  },
  {
   "cell_type": "markdown",
   "metadata": {},
   "source": [
    "## 22-DataLoader"
   ]
  },
  {
   "cell_type": "code",
   "execution_count": 75,
   "metadata": {},
   "outputs": [],
   "source": [
    "import jax\n",
    "import jax.random as rd\n",
    "import jax.numpy as jnp\n",
    "import numpy as np\n",
    "import os\n",
    "import pickle\n",
    "from tqdm import tqdm\n",
    "\n",
    "key = rd.PRNGKey(1)\n",
    "a = rd.permutation(key, 1000000)\n",
    "\n",
    "\n",
    "def batch_data(data, Nlen=2000, Nstep=1000):\n",
    "    from commplax.xop import frame\n",
    "    sps = data.a['sps']\n",
    "    y = jax.vmap(frame, in_axes=(0,None,None), out_axes=0)(data.y, Nlen*sps, Nstep*sps).reshape([-1,Nlen*sps,2])\n",
    "    x = jax.vmap(frame, in_axes=(0,None,None), out_axes=0)(data.x, Nlen, Nstep).reshape([-1,Nlen,2])\n",
    "    return jax.device_get(y),jax.device_get(x)\n",
    "\n",
    "\n",
    "def Generation_DataSet(path, Nlen, Nstep):\n",
    "    y_lis = []\n",
    "    x_lis = []\n",
    "    for f in tqdm(os.listdir(path), desc='loading data'):\n",
    "        with open(path+f, 'rb') as file:\n",
    "            data_sml,paramRx,noise = pickle.load(file)\n",
    "        y,x = batch_data(data_sml, Nlen, Nstep)\n",
    "        y_lis.append(y)\n",
    "        x_lis.append(x)\n",
    "    y_data = np.concatenate(y_lis, axis=0)\n",
    "    x_data = np.concatenate(x_lis, axis=0)\n",
    "    return x_data, y_data\n",
    "\n",
    "\n",
    "def DataLoader(x_data, y_data, batch, rng):\n",
    "    N = x_data.shape[0]\n",
    "    steps = N//batch\n",
    "\n",
    "    perms = jax.random.permutation(rng, N)\n",
    "    perms = perms[:steps * batch]\n",
    "    perms = perms.reshape((steps, batch))\n",
    "    for perm in perms:\n",
    "        yield x_data[perm],y_data[perm]"
   ]
  },
  {
   "cell_type": "code",
   "execution_count": 92,
   "metadata": {},
   "outputs": [
    {
     "name": "stderr",
     "output_type": "stream",
     "text": [
      "loading data: 100%|██████████| 48/48 [00:48<00:00,  1.01s/it]\n"
     ]
    }
   ],
   "source": [
    "path = '/home/xiaoxinyu/data/0531train/dataset/'\n",
    "x_data, y_data = Generation_DataSet(path, 2000, 1000)\n",
    "DL = DataLoader(x_data,y_data,100,jax.random.PRNGKey(0))\n"
   ]
  },
  {
   "cell_type": "code",
   "execution_count": 78,
   "metadata": {},
   "outputs": [],
   "source": [
    "jax.profiler.save_device_memory_profile('memory.prof')"
   ]
  },
  {
   "cell_type": "markdown",
   "metadata": {},
   "source": [
    "## 23-Dropout Layers"
   ]
  },
  {
   "cell_type": "code",
   "execution_count": 16,
   "metadata": {},
   "outputs": [],
   "source": [
    "import flax.linen as nn\n",
    "import jax.numpy as jnp\n",
    "from typing import Any,Callable\n",
    "from optical_flax.functions import cleaky_relu\n",
    "from functools import partial\n",
    "import jax\n",
    "\n",
    "class Dense_net(nn.Module):\n",
    "    features:int = 20\n",
    "    width:list = (60,60)\n",
    "    dtype:Any = jnp.complex64\n",
    "    param_dtype:Any = jnp.complex64\n",
    "    act:Callable=cleaky_relu\n",
    "    to_real: bool=False\n",
    "\n",
    "    @nn.compact\n",
    "    def __call__(self, inputs, train=False):\n",
    "        Dense  = partial(nn.Dense, dtype=self.dtype, param_dtype=self.param_dtype)\n",
    "        x = inputs\n",
    "        for w in self.width:\n",
    "            x = Dense(features=w)(x)\n",
    "            x = self.act(x) \n",
    "            x = nn.Dropout(rate=0.5)(x, deterministic=not train)\n",
    "        x = Dense(features=self.features)(x)\n",
    "        if self.to_real:\n",
    "            x = jnp.abs(x)**2\n",
    "        return x"
   ]
  },
  {
   "cell_type": "code",
   "execution_count": 17,
   "metadata": {},
   "outputs": [],
   "source": [
    "key = jax.random.PRNGKey(0)\n",
    "net = Dense_net()\n",
    "params = net.init(key, jnp.ones([3,100],dtype=jnp.complex64), train=False)"
   ]
  },
  {
   "cell_type": "code",
   "execution_count": 18,
   "metadata": {},
   "outputs": [
    {
     "data": {
      "text/html": [
       "<pre style=\"white-space:pre;overflow-x:auto;line-height:normal;font-family:Menlo,'DejaVu Sans Mono',consolas,'Courier New',monospace\"><span style=\"font-style: italic\">                     Dense_net Summary                      </span>\n",
       "┏━━━━━━━━━━━┳━━━━━━━━━━━━━━━━━━┳━━━━━━━━━━━━━━━━━━━━━━━━━━━┓\n",
       "┃<span style=\"font-weight: bold\"> path      </span>┃<span style=\"font-weight: bold\"> outputs          </span>┃<span style=\"font-weight: bold\"> params                    </span>┃\n",
       "┡━━━━━━━━━━━╇━━━━━━━━━━━━━━━━━━╇━━━━━━━━━━━━━━━━━━━━━━━━━━━┩\n",
       "│ Inputs    │ <span style=\"color: #7f7f7f; text-decoration-color: #7f7f7f\">complex64</span>[3,100] │                           │\n",
       "├───────────┼──────────────────┼───────────────────────────┤\n",
       "│ Dense_0   │ <span style=\"color: #7f7f7f; text-decoration-color: #7f7f7f\">complex64</span>[3,60]  │ bias: <span style=\"color: #7f7f7f; text-decoration-color: #7f7f7f\">complex64</span>[60]       │\n",
       "│           │                  │ kernel: <span style=\"color: #7f7f7f; text-decoration-color: #7f7f7f\">complex64</span>[100,60] │\n",
       "│           │                  │                           │\n",
       "│           │                  │ <span style=\"font-weight: bold\">6,060 </span><span style=\"color: #7f7f7f; text-decoration-color: #7f7f7f; font-weight: bold\">(48.5 KB)</span>           │\n",
       "├───────────┼──────────────────┼───────────────────────────┤\n",
       "│ Dense_1   │ <span style=\"color: #7f7f7f; text-decoration-color: #7f7f7f\">complex64</span>[3,60]  │ bias: <span style=\"color: #7f7f7f; text-decoration-color: #7f7f7f\">complex64</span>[60]       │\n",
       "│           │                  │ kernel: <span style=\"color: #7f7f7f; text-decoration-color: #7f7f7f\">complex64</span>[60,60]  │\n",
       "│           │                  │                           │\n",
       "│           │                  │ <span style=\"font-weight: bold\">3,660 </span><span style=\"color: #7f7f7f; text-decoration-color: #7f7f7f; font-weight: bold\">(29.3 KB)</span>           │\n",
       "├───────────┼──────────────────┼───────────────────────────┤\n",
       "│ Dense_2   │ <span style=\"color: #7f7f7f; text-decoration-color: #7f7f7f\">complex64</span>[3,20]  │ bias: <span style=\"color: #7f7f7f; text-decoration-color: #7f7f7f\">complex64</span>[20]       │\n",
       "│           │                  │ kernel: <span style=\"color: #7f7f7f; text-decoration-color: #7f7f7f\">complex64</span>[60,20]  │\n",
       "│           │                  │                           │\n",
       "│           │                  │ <span style=\"font-weight: bold\">1,220 </span><span style=\"color: #7f7f7f; text-decoration-color: #7f7f7f; font-weight: bold\">(9.8 KB)</span>            │\n",
       "├───────────┼──────────────────┼───────────────────────────┤\n",
       "│ Dropout_0 │ <span style=\"color: #7f7f7f; text-decoration-color: #7f7f7f\">complex64</span>[3,60]  │                           │\n",
       "├───────────┼──────────────────┼───────────────────────────┤\n",
       "│ Dropout_1 │ <span style=\"color: #7f7f7f; text-decoration-color: #7f7f7f\">complex64</span>[3,60]  │                           │\n",
       "├───────────┼──────────────────┼───────────────────────────┤\n",
       "│ Dense_net │ <span style=\"color: #7f7f7f; text-decoration-color: #7f7f7f\">complex64</span>[3,20]  │                           │\n",
       "├───────────┼──────────────────┼───────────────────────────┤\n",
       "│<span style=\"font-weight: bold\">           </span>│<span style=\"font-weight: bold\">            Total </span>│<span style=\"font-weight: bold\"> 10,940 </span><span style=\"color: #7f7f7f; text-decoration-color: #7f7f7f; font-weight: bold\">(87.5 KB)</span><span style=\"font-weight: bold\">          </span>│\n",
       "└───────────┴──────────────────┴───────────────────────────┘\n",
       "<span style=\"font-weight: bold\">                                                            </span>\n",
       "<span style=\"font-weight: bold\">             Total Parameters: 10,940 </span><span style=\"color: #7f7f7f; text-decoration-color: #7f7f7f; font-weight: bold\">(87.5 KB)</span><span style=\"font-weight: bold\">             </span>\n",
       "</pre>\n"
      ],
      "text/plain": [
       "\u001b[3m                     Dense_net Summary                      \u001b[0m\n",
       "┏━━━━━━━━━━━┳━━━━━━━━━━━━━━━━━━┳━━━━━━━━━━━━━━━━━━━━━━━━━━━┓\n",
       "┃\u001b[1m \u001b[0m\u001b[1mpath     \u001b[0m\u001b[1m \u001b[0m┃\u001b[1m \u001b[0m\u001b[1moutputs         \u001b[0m\u001b[1m \u001b[0m┃\u001b[1m \u001b[0m\u001b[1mparams                   \u001b[0m\u001b[1m \u001b[0m┃\n",
       "┡━━━━━━━━━━━╇━━━━━━━━━━━━━━━━━━╇━━━━━━━━━━━━━━━━━━━━━━━━━━━┩\n",
       "│ Inputs    │ \u001b[2mcomplex64\u001b[0m[3,100] │                           │\n",
       "├───────────┼──────────────────┼───────────────────────────┤\n",
       "│ Dense_0   │ \u001b[2mcomplex64\u001b[0m[3,60]  │ bias: \u001b[2mcomplex64\u001b[0m[60]       │\n",
       "│           │                  │ kernel: \u001b[2mcomplex64\u001b[0m[100,60] │\n",
       "│           │                  │                           │\n",
       "│           │                  │ \u001b[1m6,060 \u001b[0m\u001b[1;2m(48.5 KB)\u001b[0m           │\n",
       "├───────────┼──────────────────┼───────────────────────────┤\n",
       "│ Dense_1   │ \u001b[2mcomplex64\u001b[0m[3,60]  │ bias: \u001b[2mcomplex64\u001b[0m[60]       │\n",
       "│           │                  │ kernel: \u001b[2mcomplex64\u001b[0m[60,60]  │\n",
       "│           │                  │                           │\n",
       "│           │                  │ \u001b[1m3,660 \u001b[0m\u001b[1;2m(29.3 KB)\u001b[0m           │\n",
       "├───────────┼──────────────────┼───────────────────────────┤\n",
       "│ Dense_2   │ \u001b[2mcomplex64\u001b[0m[3,20]  │ bias: \u001b[2mcomplex64\u001b[0m[20]       │\n",
       "│           │                  │ kernel: \u001b[2mcomplex64\u001b[0m[60,20]  │\n",
       "│           │                  │                           │\n",
       "│           │                  │ \u001b[1m1,220 \u001b[0m\u001b[1;2m(9.8 KB)\u001b[0m            │\n",
       "├───────────┼──────────────────┼───────────────────────────┤\n",
       "│ Dropout_0 │ \u001b[2mcomplex64\u001b[0m[3,60]  │                           │\n",
       "├───────────┼──────────────────┼───────────────────────────┤\n",
       "│ Dropout_1 │ \u001b[2mcomplex64\u001b[0m[3,60]  │                           │\n",
       "├───────────┼──────────────────┼───────────────────────────┤\n",
       "│ Dense_net │ \u001b[2mcomplex64\u001b[0m[3,20]  │                           │\n",
       "├───────────┼──────────────────┼───────────────────────────┤\n",
       "│\u001b[1m \u001b[0m\u001b[1m         \u001b[0m\u001b[1m \u001b[0m│\u001b[1m \u001b[0m\u001b[1m           Total\u001b[0m\u001b[1m \u001b[0m│\u001b[1m \u001b[0m\u001b[1m10,940 \u001b[0m\u001b[1;2m(87.5 KB)\u001b[0m\u001b[1m         \u001b[0m\u001b[1m \u001b[0m│\n",
       "└───────────┴──────────────────┴───────────────────────────┘\n",
       "\u001b[1m                                                            \u001b[0m\n",
       "\u001b[1m             Total Parameters: 10,940 \u001b[0m\u001b[1;2m(87.5 KB)\u001b[0m\u001b[1m             \u001b[0m\n"
      ]
     },
     "metadata": {},
     "output_type": "display_data"
    },
    {
     "data": {
      "text/plain": [
       "'\\n\\n'"
      ]
     },
     "execution_count": 18,
     "metadata": {},
     "output_type": "execute_result"
    }
   ],
   "source": [
    "net.tabulate(key, jnp.ones([3,100],dtype=jnp.complex64))"
   ]
  },
  {
   "cell_type": "markdown",
   "metadata": {},
   "source": [
    "## 24-jnp.interp"
   ]
  },
  {
   "cell_type": "code",
   "execution_count": null,
   "metadata": {},
   "outputs": [],
   "source": [
    "## jnp.interp\n",
    "xp = jnp.linspace(0,1,5)\n",
    "yp = xp ** 2\n",
    "x = jnp.linspace(0,1,100)\n",
    "y = jnp.interp(x,xp,yp)\n",
    "plt.plot(x,y) "
   ]
  },
  {
   "cell_type": "markdown",
   "metadata": {},
   "source": [
    "## 25- core.make_layer"
   ]
  },
  {
   "cell_type": "code",
   "execution_count": null,
   "metadata": {},
   "outputs": [],
   "source": [
    "## 3. import modules\n",
    "import jax\n",
    "from collections import namedtuple\n",
    "from typing import Any, Callable, Iterable, Optional, Tuple, Union\n",
    "import flax.linen as nn\n",
    "from flax.linen.initializers import lecun_normal, variance_scaling, zeros\n",
    "from flax.core import freeze, unfreeze\n",
    "from functools import partial, wraps\n",
    "import matplotlib.pyplot as plt\n",
    "from jax import random\n",
    "import jax.numpy as jnp\n",
    "import commplax.adaptive_filter\n",
    "import numpy as np\n",
    "default_kernel_init = lecun_normal()\n",
    "\n",
    "def normal_init(key,shape, dtype = jnp.float32):\n",
    "    k1,k2 = random.split(key)\n",
    "    x = random.normal(k1,shape)  + 1j * random.normal(k2,shape)\n",
    "    return x.astype(dtype)\n",
    "\n",
    "def show_tree(tree):\n",
    "    return jax.tree_map(lambda x:x.shape, tree)\n",
    "\n",
    "##  测试 core 使用\n",
    "from commplax.module import core, layer\n",
    "from commplax.util import wrapped_partial as wpartial\n",
    "from commplax.module.layer import make_layer\n",
    "key = random.PRNGKey(0)\n",
    "dnn = make_layer(core.hp_net)\n",
    "\n",
    "class NN(nn.Module):\n",
    "    @nn.compact\n",
    "    def __call__(self,inputs):\n",
    "        x = inputs\n",
    "        y = nn.Dense(features=1)(x)\n",
    "        y = dnn()(y)\n",
    "        return y"
   ]
  },
  {
   "cell_type": "code",
   "execution_count": null,
   "metadata": {},
   "outputs": [],
   "source": [
    "##  Test variable\n",
    "class TestNN(nn.Module):\n",
    "    @nn.compact\n",
    "    def __call__(self, inputs):\n",
    "        x = inputs\n",
    "        var = self.variable('af','x_pls',lambda x: x+1, x)  # 只会在初始化时调用 init 函数\n",
    "        var.value *= 2\n",
    "        return x + var.value\n",
    "\n",
    "net = TestNN()\n",
    "param = net.init(key,jnp.ones(1))\n",
    "\n",
    "net.apply(param,jnp.ones(1)*2, mutable='af')  # 使用mutuable 选项会额外返回 'af' 的更新值"
   ]
  },
  {
   "cell_type": "markdown",
   "metadata": {},
   "source": [
    "# N --> N  Neural Network Architecture"
   ]
  },
  {
   "cell_type": "code",
   "execution_count": 1,
   "metadata": {},
   "outputs": [],
   "source": [
    "import jax\n",
    "import jax.numpy as jnp\n",
    "import numpy as np\n",
    "import flax.linen as nn\n",
    "import optax\n",
    "import jax.random as rd\n",
    "import matplotlib.pyplot as plt"
   ]
  },
  {
   "cell_type": "markdown",
   "metadata": {},
   "source": [
    "## optimizer\n",
    "- grad clip. \n",
    "- weight decay.\n",
    "- schedule."
   ]
  },
  {
   "cell_type": "code",
   "execution_count": 4,
   "metadata": {},
   "outputs": [
    {
     "data": {
      "text/plain": [
       "[<matplotlib.lines.Line2D at 0x7f7c4fb67c70>]"
      ]
     },
     "execution_count": 4,
     "metadata": {},
     "output_type": "execute_result"
    },
    {
     "data": {
      "image/png": "[encoded data removed]",
      "text/plain": [
       "<Figure size 432x288 with 1 Axes>"
      ]
     },
     "metadata": {
      "needs_background": "light"
     },
     "output_type": "display_data"
    }
   ],
   "source": [
    "schedule = optax.warmup_cosine_decay_schedule(\n",
    "  init_value=0.0,\n",
    "  peak_value=0.1,\n",
    "  warmup_steps=10,\n",
    "  decay_steps=100,\n",
    "  end_value=0.01,\n",
    ")\n",
    "\n",
    "optimizer = optax.chain(\n",
    "  optax.clip(1.0),\n",
    "  optax.adamw(learning_rate=schedule,weight_decay=0.0001),\n",
    ")\n",
    "\n",
    "eta = [schedule(i) for i in range(100)]\n",
    "\n",
    "plt.plot(eta)\n",
    "\n",
    "# opt = optax.clip(0.5)\n",
    "# opt = optax.add_decayed_weights(0.1)\n",
    "# opt = optax.sgd(learning_rate=0.1):   grads -->  updates = -grads\n",
    "# optax.apply_updates:  param = param  + updates"
   ]
  },
  {
   "cell_type": "markdown",
   "metadata": {},
   "source": [
    "## Use tabulate show paramters"
   ]
  },
  {
   "cell_type": "code",
   "execution_count": 7,
   "metadata": {},
   "outputs": [
    {
     "data": {
      "text/html": [
       "<pre style=\"white-space:pre;overflow-x:auto;line-height:normal;font-family:Menlo,'DejaVu Sans Mono',consolas,'Courier New',monospace\"><span style=\"font-style: italic\">                         CNN Summary                          </span>\n",
       "┏━━━━━━━━━┳━━━━━━━━━━━━━━━━━━━━━┳━━━━━━━━━━━━━━━━━━━━━━━━━━━━┓\n",
       "┃<span style=\"font-weight: bold\"> path    </span>┃<span style=\"font-weight: bold\"> outputs             </span>┃<span style=\"font-weight: bold\"> params                     </span>┃\n",
       "┡━━━━━━━━━╇━━━━━━━━━━━━━━━━━━━━━╇━━━━━━━━━━━━━━━━━━━━━━━━━━━━┩\n",
       "│ Inputs  │ <span style=\"color: #7f7f7f; text-decoration-color: #7f7f7f\">float32</span>[5,32,32,3]  │                            │\n",
       "├─────────┼─────────────────────┼────────────────────────────┤\n",
       "│ Conv_0  │ <span style=\"color: #7f7f7f; text-decoration-color: #7f7f7f\">float32</span>[5,32,32,32] │ bias: <span style=\"color: #7f7f7f; text-decoration-color: #7f7f7f\">float32</span>[32]          │\n",
       "│         │                     │ kernel: <span style=\"color: #7f7f7f; text-decoration-color: #7f7f7f\">float32</span>[3,3,3,32]  │\n",
       "│         │                     │                            │\n",
       "│         │                     │ <span style=\"font-weight: bold\">896 </span><span style=\"color: #7f7f7f; text-decoration-color: #7f7f7f; font-weight: bold\">(3.6 KB)</span>               │\n",
       "├─────────┼─────────────────────┼────────────────────────────┤\n",
       "│ Conv_1  │ <span style=\"color: #7f7f7f; text-decoration-color: #7f7f7f\">float32</span>[5,16,16,64] │ bias: <span style=\"color: #7f7f7f; text-decoration-color: #7f7f7f\">float32</span>[64]          │\n",
       "│         │                     │ kernel: <span style=\"color: #7f7f7f; text-decoration-color: #7f7f7f\">float32</span>[3,3,32,64] │\n",
       "│         │                     │                            │\n",
       "│         │                     │ <span style=\"font-weight: bold\">18,496 </span><span style=\"color: #7f7f7f; text-decoration-color: #7f7f7f; font-weight: bold\">(74.0 KB)</span>           │\n",
       "├─────────┼─────────────────────┼────────────────────────────┤\n",
       "│ Dense_0 │ <span style=\"color: #7f7f7f; text-decoration-color: #7f7f7f\">float32</span>[5,256]      │ bias: <span style=\"color: #7f7f7f; text-decoration-color: #7f7f7f\">float32</span>[256]         │\n",
       "│         │                     │ kernel: <span style=\"color: #7f7f7f; text-decoration-color: #7f7f7f\">float32</span>[4096,256]  │\n",
       "│         │                     │                            │\n",
       "│         │                     │ <span style=\"font-weight: bold\">1,048,832 </span><span style=\"color: #7f7f7f; text-decoration-color: #7f7f7f; font-weight: bold\">(4.2 MB)</span>         │\n",
       "├─────────┼─────────────────────┼────────────────────────────┤\n",
       "│ Dense_1 │ <span style=\"color: #7f7f7f; text-decoration-color: #7f7f7f\">float32</span>[5,10]       │ bias: <span style=\"color: #7f7f7f; text-decoration-color: #7f7f7f\">float32</span>[10]          │\n",
       "│         │                     │ kernel: <span style=\"color: #7f7f7f; text-decoration-color: #7f7f7f\">float32</span>[256,10]    │\n",
       "│         │                     │                            │\n",
       "│         │                     │ <span style=\"font-weight: bold\">2,570 </span><span style=\"color: #7f7f7f; text-decoration-color: #7f7f7f; font-weight: bold\">(10.3 KB)</span>            │\n",
       "├─────────┼─────────────────────┼────────────────────────────┤\n",
       "│ CNN     │ <span style=\"color: #7f7f7f; text-decoration-color: #7f7f7f\">float32</span>[5,10]       │                            │\n",
       "├─────────┼─────────────────────┼────────────────────────────┤\n",
       "│<span style=\"font-weight: bold\">         </span>│<span style=\"font-weight: bold\">               Total </span>│<span style=\"font-weight: bold\"> 1,070,794 </span><span style=\"color: #7f7f7f; text-decoration-color: #7f7f7f; font-weight: bold\">(4.3 MB)</span><span style=\"font-weight: bold\">         </span>│\n",
       "└─────────┴─────────────────────┴────────────────────────────┘\n",
       "<span style=\"font-weight: bold\">                                                              </span>\n",
       "<span style=\"font-weight: bold\">             Total Parameters: 1,070,794 </span><span style=\"color: #7f7f7f; text-decoration-color: #7f7f7f; font-weight: bold\">(4.3 MB)</span><span style=\"font-weight: bold\">             </span>\n",
       "</pre>\n"
      ],
      "text/plain": [
       "\u001b[3m                         CNN Summary                          \u001b[0m\n",
       "┏━━━━━━━━━┳━━━━━━━━━━━━━━━━━━━━━┳━━━━━━━━━━━━━━━━━━━━━━━━━━━━┓\n",
       "┃\u001b[1m \u001b[0m\u001b[1mpath   \u001b[0m\u001b[1m \u001b[0m┃\u001b[1m \u001b[0m\u001b[1moutputs            \u001b[0m\u001b[1m \u001b[0m┃\u001b[1m \u001b[0m\u001b[1mparams                    \u001b[0m\u001b[1m \u001b[0m┃\n",
       "┡━━━━━━━━━╇━━━━━━━━━━━━━━━━━━━━━╇━━━━━━━━━━━━━━━━━━━━━━━━━━━━┩\n",
       "│ Inputs  │ \u001b[2mfloat32\u001b[0m[5,32,32,3]  │                            │\n",
       "├─────────┼─────────────────────┼────────────────────────────┤\n",
       "│ Conv_0  │ \u001b[2mfloat32\u001b[0m[5,32,32,32] │ bias: \u001b[2mfloat32\u001b[0m[32]          │\n",
       "│         │                     │ kernel: \u001b[2mfloat32\u001b[0m[3,3,3,32]  │\n",
       "│         │                     │                            │\n",
       "│         │                     │ \u001b[1m896 \u001b[0m\u001b[1;2m(3.6 KB)\u001b[0m               │\n",
       "├─────────┼─────────────────────┼────────────────────────────┤\n",
       "│ Conv_1  │ \u001b[2mfloat32\u001b[0m[5,16,16,64] │ bias: \u001b[2mfloat32\u001b[0m[64]          │\n",
       "│         │                     │ kernel: \u001b[2mfloat32\u001b[0m[3,3,32,64] │\n",
       "│         │                     │                            │\n",
       "│         │                     │ \u001b[1m18,496 \u001b[0m\u001b[1;2m(74.0 KB)\u001b[0m           │\n",
       "├─────────┼─────────────────────┼────────────────────────────┤\n",
       "│ Dense_0 │ \u001b[2mfloat32\u001b[0m[5,256]      │ bias: \u001b[2mfloat32\u001b[0m[256]         │\n",
       "│         │                     │ kernel: \u001b[2mfloat32\u001b[0m[4096,256]  │\n",
       "│         │                     │                            │\n",
       "│         │                     │ \u001b[1m1,048,832 \u001b[0m\u001b[1;2m(4.2 MB)\u001b[0m         │\n",
       "├─────────┼─────────────────────┼────────────────────────────┤\n",
       "│ Dense_1 │ \u001b[2mfloat32\u001b[0m[5,10]       │ bias: \u001b[2mfloat32\u001b[0m[10]          │\n",
       "│         │                     │ kernel: \u001b[2mfloat32\u001b[0m[256,10]    │\n",
       "│         │                     │                            │\n",
       "│         │                     │ \u001b[1m2,570 \u001b[0m\u001b[1;2m(10.3 KB)\u001b[0m            │\n",
       "├─────────┼─────────────────────┼────────────────────────────┤\n",
       "│ CNN     │ \u001b[2mfloat32\u001b[0m[5,10]       │                            │\n",
       "├─────────┼─────────────────────┼────────────────────────────┤\n",
       "│\u001b[1m \u001b[0m\u001b[1m       \u001b[0m\u001b[1m \u001b[0m│\u001b[1m \u001b[0m\u001b[1m              Total\u001b[0m\u001b[1m \u001b[0m│\u001b[1m \u001b[0m\u001b[1m1,070,794 \u001b[0m\u001b[1;2m(4.3 MB)\u001b[0m\u001b[1m        \u001b[0m\u001b[1m \u001b[0m│\n",
       "└─────────┴─────────────────────┴────────────────────────────┘\n",
       "\u001b[1m                                                              \u001b[0m\n",
       "\u001b[1m             Total Parameters: 1,070,794 \u001b[0m\u001b[1;2m(4.3 MB)\u001b[0m\u001b[1m             \u001b[0m\n"
      ]
     },
     "metadata": {},
     "output_type": "display_data"
    },
    {
     "name": "stdout",
     "output_type": "stream",
     "text": [
      "\n",
      "\n",
      "\n"
     ]
    }
   ],
   "source": [
    "class CNN(nn.Module):\n",
    "  @nn.compact\n",
    "  def __call__(self, x):\n",
    "    x = nn.Conv(features=32, kernel_size=(3, 3))(x)\n",
    "    x = nn.relu(x)\n",
    "    x = nn.avg_pool(x, window_shape=(2, 2), strides=(2, 2))\n",
    "    x = nn.Conv(features=64, kernel_size=(3, 3))(x)\n",
    "    x = nn.relu(x)\n",
    "    x = nn.avg_pool(x, window_shape=(2, 2), strides=(2, 2))\n",
    "    x = x.reshape((x.shape[0], -1))  # flatten\n",
    "    x = nn.Dense(features=256)(x)\n",
    "    x = nn.relu(x)\n",
    "    x = nn.Dense(features=10)(x)\n",
    "    x = nn.log_softmax(x)\n",
    "    return x\n",
    "\n",
    "net = CNN()\n",
    "print(net.tabulate(rd.PRNGKey(120),jnp.ones([5,32,32,3])))"
   ]
  },
  {
   "cell_type": "markdown",
   "metadata": {},
   "source": [
    "## Layer norm"
   ]
  },
  {
   "cell_type": "code",
   "execution_count": 13,
   "metadata": {},
   "outputs": [],
   "source": [
    "import flax"
   ]
  },
  {
   "cell_type": "code",
   "execution_count": 80,
   "metadata": {},
   "outputs": [],
   "source": [
    "key = rd.PRNGKey(0)\n",
    "#net = nn.GroupNorm(6,dtype=jnp.complex64,param_dtype=jnp.float32)\n",
    "shape = (100,6)\n",
    "params = net.init(key,jnp.ones(shape,dtype=jnp.complex64))\n",
    "x = rd.uniform(rd.PRNGKey(12),shape) + rd.uniform(rd.PRNGKey(23),shape)*(1j)\n",
    "y = net.apply(params, x)"
   ]
  },
  {
   "cell_type": "code",
   "execution_count": 81,
   "metadata": {},
   "outputs": [
    {
     "data": {
      "text/plain": [
       "DeviceArray(1.1920928e-08-4.339218e-07j, dtype=complex64)"
      ]
     },
     "execution_count": 81,
     "metadata": {},
     "output_type": "execute_result"
    }
   ],
   "source": [
    "jnp.mean(y[:,0])"
   ]
  },
  {
   "cell_type": "code",
   "execution_count": 82,
   "metadata": {},
   "outputs": [
    {
     "data": {
      "text/plain": [
       "FrozenDict({\n",
       "    params: {\n",
       "        scale: DeviceArray([1.+0.j, 1.+0.j, 1.+0.j, 1.+0.j, 1.+0.j, 1.+0.j], dtype=complex64),\n",
       "        bias: DeviceArray([0.+0.j, 0.+0.j, 0.+0.j, 0.+0.j, 0.+0.j, 0.+0.j], dtype=complex64),\n",
       "    },\n",
       "})"
      ]
     },
     "execution_count": 82,
     "metadata": {},
     "output_type": "execute_result"
    }
   ],
   "source": [
    "params"
   ]
  },
  {
   "cell_type": "code",
   "execution_count": 61,
   "metadata": {},
   "outputs": [
    {
     "data": {
      "text/plain": [
       "<matplotlib.collections.PathCollection at 0x7f7c4c9ed8e0>"
      ]
     },
     "execution_count": 61,
     "metadata": {},
     "output_type": "execute_result"
    },
    {
     "data": {
      "image/png": "[encoded data removed]",
      "text/plain": [
       "<Figure size 640x320 with 2 Axes>"
      ]
     },
     "metadata": {
      "needs_background": "light"
     },
     "output_type": "display_data"
    }
   ],
   "source": [
    "plt.figure(figsize=(8,4),dpi=80)\n",
    "plt.subplot(1,2,1)\n",
    "plt.scatter(x[0].real,x[0].imag)\n",
    "\n",
    "plt.subplot(1,2,2)\n",
    "plt.scatter(y[0].real,y[0].imag)"
   ]
  },
  {
   "cell_type": "code",
   "execution_count": 62,
   "metadata": {},
   "outputs": [
    {
     "data": {
      "text/plain": [
       "FrozenDict({\n",
       "    params: {\n",
       "        scale: DeviceArray([1., 1., 1., 1., 1., 1., 1., 1., 1., 1., 1., 1., 1., 1., 1.,\n",
       "                     1., 1., 1., 1., 1., 1., 1., 1., 1., 1., 1., 1., 1., 1., 1.,\n",
       "                     1., 1., 1., 1., 1., 1., 1., 1., 1., 1., 1., 1., 1., 1., 1.,\n",
       "                     1., 1., 1., 1., 1., 1., 1., 1., 1., 1., 1., 1., 1., 1., 1.,\n",
       "                     1., 1., 1., 1., 1., 1., 1., 1., 1., 1., 1., 1., 1., 1., 1.,\n",
       "                     1., 1., 1., 1., 1., 1., 1., 1., 1., 1., 1., 1., 1., 1., 1.,\n",
       "                     1., 1., 1., 1., 1., 1., 1., 1., 1., 1.], dtype=float32),\n",
       "        bias: DeviceArray([0., 0., 0., 0., 0., 0., 0., 0., 0., 0., 0., 0., 0., 0., 0.,\n",
       "                     0., 0., 0., 0., 0., 0., 0., 0., 0., 0., 0., 0., 0., 0., 0.,\n",
       "                     0., 0., 0., 0., 0., 0., 0., 0., 0., 0., 0., 0., 0., 0., 0.,\n",
       "                     0., 0., 0., 0., 0., 0., 0., 0., 0., 0., 0., 0., 0., 0., 0.,\n",
       "                     0., 0., 0., 0., 0., 0., 0., 0., 0., 0., 0., 0., 0., 0., 0.,\n",
       "                     0., 0., 0., 0., 0., 0., 0., 0., 0., 0., 0., 0., 0., 0., 0.,\n",
       "                     0., 0., 0., 0., 0., 0., 0., 0., 0., 0.], dtype=float32),\n",
       "    },\n",
       "})"
      ]
     },
     "execution_count": 62,
     "metadata": {},
     "output_type": "execute_result"
    }
   ],
   "source": [
    "params"
   ]
  },
  {
   "cell_type": "markdown",
   "metadata": {},
   "source": [
    "## nn.vmap on Dropuout"
   ]
  },
  {
   "cell_type": "code",
   "execution_count": 10,
   "metadata": {},
   "outputs": [
    {
     "data": {
      "text/plain": [
       "FrozenDict({\n",
       "    params: {\n",
       "        Dense_0: {\n",
       "            bias: (10,),\n",
       "            kernel: (20, 10),\n",
       "        },\n",
       "    },\n",
       "})"
      ]
     },
     "execution_count": 10,
     "metadata": {},
     "output_type": "execute_result"
    }
   ],
   "source": [
    "import flax.linen as nn\n",
    "import jax.numpy as jnp\n",
    "import jax.random as random\n",
    "import jax\n",
    "class example(nn.Module):\n",
    "    @nn.compact\n",
    "    def __call__(self,x,train):\n",
    "        x = nn.Dense(10)(x)\n",
    "        x = nn.Dropout(0.5)(x, deterministic=not train)\n",
    "        return x\n",
    "\n",
    "net = example()\n",
    "key = random.PRNGKey(0)\n",
    "var = net.init(key, jnp.ones([20]), train=False)\n",
    "jax.tree_map(lambda x:x.shape,var)"
   ]
  },
  {
   "cell_type": "code",
   "execution_count": 34,
   "metadata": {},
   "outputs": [
    {
     "data": {
      "text/plain": [
       "DeviceArray([[ 1.5832989 , -2.7380672 ,  4.1703033 ,  0.        ,\n",
       "               1.852355  ,  4.9408903 ,  0.        ,  0.03271447,\n",
       "              -0.81474555,  0.        ],\n",
       "             [ 0.        ,  0.        ,  0.        ,  0.        ,\n",
       "              -0.84626245,  0.34622172, -2.985825  , -1.8488363 ,\n",
       "               0.        ,  0.        ],\n",
       "             [ 2.3600652 ,  0.        ,  0.        ,  0.        ,\n",
       "              -4.1063733 ,  0.        ,  3.2954018 ,  0.        ,\n",
       "               0.        , -0.97989285],\n",
       "             [ 0.7172029 ,  1.5649763 ,  0.        ,  1.7497263 ,\n",
       "               0.        ,  0.        ,  0.24186362,  0.        ,\n",
       "              -0.05601542, -1.8850174 ],\n",
       "             [ 0.        , -1.6311474 ,  0.7221761 , -1.4749479 ,\n",
       "               1.9118661 ,  2.0476017 , -5.7022343 ,  3.131647  ,\n",
       "               0.        ,  1.5393133 ]], dtype=float32)"
      ]
     },
     "execution_count": 34,
     "metadata": {},
     "output_type": "execute_result"
    },
    {
     "ename": "",
     "evalue": "",
     "output_type": "error",
     "traceback": [
      "\u001b[1;31mThe Kernel crashed while executing code in the the current cell or a previous cell. Please review the code in the cell(s) to identify a possible cause of the failure. Click <a href='https://aka.ms/vscodeJupyterKernelCrash'>here</a> for more info. View Jupyter <a href='command:jupyter.viewOutput'>log</a> for further details."
     ]
    }
   ],
   "source": [
    "vmap_example = nn.vmap(example, variable_axes={'params':0}, split_rngs={'params':True,'dropout':True},in_axes=(0,None),out_axes=(0))\n",
    "net = vmap_example()\n",
    "var = net.init(key, jnp.ones([5,20]), False)\n",
    "net.apply(var, jnp.ones([5,20]),True, rngs={'dropout':key})"
   ]
  },
  {
   "cell_type": "code",
   "execution_count": 29,
   "metadata": {},
   "outputs": [
    {
     "data": {
      "text/plain": [
       "FrozenDict({\n",
       "    params: {\n",
       "        Dense_0: {\n",
       "            bias: (5, 10),\n",
       "            kernel: (5, 20, 10),\n",
       "        },\n",
       "    },\n",
       "})"
      ]
     },
     "execution_count": 29,
     "metadata": {},
     "output_type": "execute_result"
    }
   ],
   "source": [
    "jax.tree_map(lambda x:x.shape,var)"
   ]
  },
  {
   "cell_type": "markdown",
   "metadata": {},
   "source": [
    "## My Transformer"
   ]
  },
  {
   "cell_type": "code",
   "execution_count": 32,
   "metadata": {},
   "outputs": [
    {
     "data": {
      "text/plain": [
       "DeviceArray([[0.+0.j, 0.+0.j, 0.+0.j, ..., 0.+0.j, 0.+0.j, 0.+0.j],\n",
       "             [0.+0.j, 0.+0.j, 0.+0.j, ..., 0.+0.j, 0.+0.j, 0.+0.j],\n",
       "             [0.+0.j, 0.+0.j, 0.+0.j, ..., 0.+0.j, 0.+0.j, 0.+0.j],\n",
       "             ...,\n",
       "             [0.+0.j, 0.+0.j, 0.+0.j, ..., 0.+0.j, 0.+0.j, 0.+0.j],\n",
       "             [0.+0.j, 0.+0.j, 0.+0.j, ..., 0.+0.j, 0.+0.j, 0.+0.j],\n",
       "             [0.+0.j, 0.+0.j, 0.+0.j, ..., 0.+0.j, 0.+0.j, 0.+0.j]],            dtype=complex64)"
      ]
     },
     "execution_count": 32,
     "metadata": {},
     "output_type": "execute_result"
    }
   ],
   "source": [
    "from optical_flax.models_nn import Transformer, TransformerConfig\n",
    "import jax\n",
    "import jax.random as rd \n",
    "import jax.numpy as jnp\n",
    "import flax.linen as nn\n",
    "from flax import struct\n",
    "key = rd.PRNGKey(0)\n",
    "x = rd.normal(key,(5,100,12),dtype=jnp.complex64)\n",
    "config = TransformerConfig(emb_dim=12, num_heads=2, qkv_dim=3,mlp_dim=24)\n",
    "net = Transformer(config)\n",
    "y,params = net.init_with_output(key, inputs=x, train=False)\n",
    "net.apply(params, x[0],False) - net.apply(params, x, False)[0]"
   ]
  },
  {
   "cell_type": "markdown",
   "metadata": {},
   "source": [
    "## My CNN"
   ]
  },
  {
   "cell_type": "code",
   "execution_count": 28,
   "metadata": {},
   "outputs": [
    {
     "data": {
      "text/plain": [
       "DeviceArray([[0.+0.j, 0.+0.j],\n",
       "             [0.+0.j, 0.+0.j],\n",
       "             [0.+0.j, 0.+0.j],\n",
       "             [0.+0.j, 0.+0.j],\n",
       "             [0.+0.j, 0.+0.j],\n",
       "             [0.+0.j, 0.+0.j],\n",
       "             [0.+0.j, 0.+0.j],\n",
       "             [0.+0.j, 0.+0.j],\n",
       "             [0.+0.j, 0.+0.j],\n",
       "             [0.+0.j, 0.+0.j],\n",
       "             [0.+0.j, 0.+0.j],\n",
       "             [0.+0.j, 0.+0.j],\n",
       "             [0.+0.j, 0.+0.j],\n",
       "             [0.+0.j, 0.+0.j],\n",
       "             [0.+0.j, 0.+0.j],\n",
       "             [0.+0.j, 0.+0.j],\n",
       "             [0.+0.j, 0.+0.j],\n",
       "             [0.+0.j, 0.+0.j],\n",
       "             [0.+0.j, 0.+0.j],\n",
       "             [0.+0.j, 0.+0.j],\n",
       "             [0.+0.j, 0.+0.j],\n",
       "             [0.+0.j, 0.+0.j],\n",
       "             [0.+0.j, 0.+0.j],\n",
       "             [0.+0.j, 0.+0.j],\n",
       "             [0.+0.j, 0.+0.j],\n",
       "             [0.+0.j, 0.+0.j],\n",
       "             [0.+0.j, 0.+0.j],\n",
       "             [0.+0.j, 0.+0.j],\n",
       "             [0.+0.j, 0.+0.j],\n",
       "             [0.+0.j, 0.+0.j],\n",
       "             [0.+0.j, 0.+0.j],\n",
       "             [0.+0.j, 0.+0.j],\n",
       "             [0.+0.j, 0.+0.j],\n",
       "             [0.+0.j, 0.+0.j],\n",
       "             [0.+0.j, 0.+0.j],\n",
       "             [0.+0.j, 0.+0.j],\n",
       "             [0.+0.j, 0.+0.j],\n",
       "             [0.+0.j, 0.+0.j],\n",
       "             [0.+0.j, 0.+0.j],\n",
       "             [0.+0.j, 0.+0.j],\n",
       "             [0.+0.j, 0.+0.j],\n",
       "             [0.+0.j, 0.+0.j],\n",
       "             [0.+0.j, 0.+0.j],\n",
       "             [0.+0.j, 0.+0.j],\n",
       "             [0.+0.j, 0.+0.j],\n",
       "             [0.+0.j, 0.+0.j],\n",
       "             [0.+0.j, 0.+0.j],\n",
       "             [0.+0.j, 0.+0.j],\n",
       "             [0.+0.j, 0.+0.j],\n",
       "             [0.+0.j, 0.+0.j],\n",
       "             [0.+0.j, 0.+0.j],\n",
       "             [0.+0.j, 0.+0.j],\n",
       "             [0.+0.j, 0.+0.j],\n",
       "             [0.+0.j, 0.+0.j],\n",
       "             [0.+0.j, 0.+0.j],\n",
       "             [0.+0.j, 0.+0.j],\n",
       "             [0.+0.j, 0.+0.j],\n",
       "             [0.+0.j, 0.+0.j],\n",
       "             [0.+0.j, 0.+0.j],\n",
       "             [0.+0.j, 0.+0.j],\n",
       "             [0.+0.j, 0.+0.j],\n",
       "             [0.+0.j, 0.+0.j],\n",
       "             [0.+0.j, 0.+0.j],\n",
       "             [0.+0.j, 0.+0.j],\n",
       "             [0.+0.j, 0.+0.j],\n",
       "             [0.+0.j, 0.+0.j],\n",
       "             [0.+0.j, 0.+0.j],\n",
       "             [0.+0.j, 0.+0.j],\n",
       "             [0.+0.j, 0.+0.j],\n",
       "             [0.+0.j, 0.+0.j],\n",
       "             [0.+0.j, 0.+0.j],\n",
       "             [0.+0.j, 0.+0.j],\n",
       "             [0.+0.j, 0.+0.j],\n",
       "             [0.+0.j, 0.+0.j],\n",
       "             [0.+0.j, 0.+0.j],\n",
       "             [0.+0.j, 0.+0.j],\n",
       "             [0.+0.j, 0.+0.j],\n",
       "             [0.+0.j, 0.+0.j],\n",
       "             [0.+0.j, 0.+0.j],\n",
       "             [0.+0.j, 0.+0.j],\n",
       "             [0.+0.j, 0.+0.j],\n",
       "             [0.+0.j, 0.+0.j],\n",
       "             [0.+0.j, 0.+0.j],\n",
       "             [0.+0.j, 0.+0.j],\n",
       "             [0.+0.j, 0.+0.j],\n",
       "             [0.+0.j, 0.+0.j],\n",
       "             [0.+0.j, 0.+0.j],\n",
       "             [0.+0.j, 0.+0.j],\n",
       "             [0.+0.j, 0.+0.j],\n",
       "             [0.+0.j, 0.+0.j],\n",
       "             [0.+0.j, 0.+0.j],\n",
       "             [0.+0.j, 0.+0.j],\n",
       "             [0.+0.j, 0.+0.j],\n",
       "             [0.+0.j, 0.+0.j],\n",
       "             [0.+0.j, 0.+0.j],\n",
       "             [0.+0.j, 0.+0.j],\n",
       "             [0.+0.j, 0.+0.j],\n",
       "             [0.+0.j, 0.+0.j],\n",
       "             [0.+0.j, 0.+0.j],\n",
       "             [0.+0.j, 0.+0.j]], dtype=complex64)"
      ]
     },
     "execution_count": 28,
     "metadata": {},
     "output_type": "execute_result"
    }
   ],
   "source": [
    "from optical_flax.models_nn import CNN\n",
    "import jax.numpy as jnp\n",
    "import jax.random as rd\n",
    "key = rd.PRNGKey(0)\n",
    "x = rd.normal(key,(5,100,2),dtype=jnp.complex64)\n",
    "net = CNN(features=100)\n",
    "y,params = net.init_with_output(key, x)\n",
    "net.apply(params, x[0]) - net.apply(params, x)[0]"
   ]
  },
  {
   "cell_type": "markdown",
   "metadata": {},
   "source": [
    "## padding and frame"
   ]
  },
  {
   "cell_type": "code",
   "execution_count": 50,
   "metadata": {},
   "outputs": [],
   "source": [
    "from commplax.xop import frame\n",
    "def embed(inputs,k, sps,mode='wrap'):\n",
    "  '''\n",
    "  inputs: [L*sps,2]\n",
    "  Output: [L, 2*sps*(2k+1)]\n",
    "  '''\n",
    "  x = jnp.pad(inputs, ((k*sps,k*sps),(0,0)), mode=mode)\n",
    "  x = frame(x, (2*k+1)*sps, sps)\n",
    "  x = x.reshape(x.shape[0], -1) \n",
    "  return x\n",
    "\n",
    "\n",
    "class Embedding(nn.Module):\n",
    "  k:int=1   # additional mimo symbols\n",
    "  sps:int=8\n",
    "  @nn.compact\n",
    "  def __call__(self, inputs):\n",
    "    # inputs: (B, L*sps,2)\n",
    "    if inputs.ndim == 2:\n",
    "      x = embed(inputs, self.k, self.sps)\n",
    "      return x\n",
    "    elif inputs.ndim == 3:\n",
    "      x = jax.vmap(embed, in_axes=(0,None,None), out_axes=0)(inputs, self.k, self.sps)\n",
    "      return x\n",
    "    else:\n",
    "      raise(ValueError)"
   ]
  },
  {
   "cell_type": "code",
   "execution_count": 51,
   "metadata": {},
   "outputs": [],
   "source": [
    "L=100\n",
    "sps=8\n",
    "k=1\n",
    "B=5\n",
    "x = jnp.ones([B,L*sps,2])\n",
    "y,params = Embedding(k=k,sps=sps).init_with_output(key, x)"
   ]
  },
  {
   "cell_type": "code",
   "execution_count": 52,
   "metadata": {},
   "outputs": [
    {
     "data": {
      "text/plain": [
       "(5, 100, 48)"
      ]
     },
     "execution_count": 52,
     "metadata": {},
     "output_type": "execute_result"
    }
   ],
   "source": [
    "y.shape"
   ]
  }
 ],
 "metadata": {
  "kernelspec": {
   "display_name": "Python 3.8.12 ('commplax')",
   "language": "python",
   "name": "python3"
  },
  "language_info": {
   "codemirror_mode": {
    "name": "ipython",
    "version": 3
   },
   "file_extension": ".py",
   "mimetype": "text/x-python",
   "name": "python",
   "nbconvert_exporter": "python",
   "pygments_lexer": "ipython3",
   "version": "3.8.12"
  },
  "orig_nbformat": 2,
  "vscode": {
   "interpreter": {
    "hash": "f4b9236e0601dae4b8f5d171a608b9d19163b63d094210553e37100e1902b344"
   }
  }
 },
 "nbformat": 4,
 "nbformat_minor": 2
}
