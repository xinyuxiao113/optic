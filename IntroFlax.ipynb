{
 "cells": [
  {
   "cell_type": "markdown",
   "metadata": {},
   "source": [
    "# Content\n",
    "frame\n",
    "1. autograd frame: jax, jax.numpy\n",
    "2. neural network frame: flax\n",
    "3. optimizer frame: optax\n",
    "\n",
    "requrement\n",
    "- [x] complex net: conv1d, GRUCell, FCN, GRU net\n",
    "- [ ] complex actvation function.\n",
    "- [x] complex optimizer: take real parameter !!\n",
    "torch support: sgd, adam\n",
    "optax support: None\n",
    "\n",
    "some operations from pytorch to jax.numpy\n",
    "1. jnp.transpose(x,[0,1,2]): permute the axes of an array\n",
    "2. jnp.expand_dims(x, axis): add a dim to x\n",
    "3. jnp.repeat: repeat a dim\n",
    "4. jnp.squeeze: Remove axes of length one from a.\n",
    "5. jnp.concatenate\n",
    "6. jnp.stack"
   ]
  },
  {
   "cell_type": "markdown",
   "metadata": {},
   "source": [
    "## 1-Static Module: optimize with complex parameters"
   ]
  },
  {
   "cell_type": "code",
   "execution_count": 114,
   "metadata": {},
   "outputs": [
    {
     "name": "stdout",
     "output_type": "stream",
     "text": [
      "0.6720802\n",
      "3.6354813e-06\n",
      "4.754816e-11\n",
      "2.654127e-15\n",
      "1.3877788e-17\n",
      "1.3877788e-17\n",
      "1.3877788e-17\n",
      "1.3877788e-17\n",
      "1.3877788e-17\n",
      "1.3877788e-17\n"
     ]
    }
   ],
   "source": [
    "import jax\n",
    "import jax.numpy as jnp\n",
    "from jax import device_put, device_get\n",
    "import jax.random as random\n",
    "import numpy as np\n",
    "import flax.linen as nn\n",
    "import optax\n",
    "from functools import partial, wraps\n",
    "from typing import Any, NamedTuple\n",
    "from optical_flax.utils import realize, normal_init, show_tree, tree_r2c, tree_c2r\n",
    "from collections import namedtuple\n",
    "from flax.core import freeze, unfreeze\n",
    "\n",
    "# 6. 复数优化代码: static module\n",
    "class NN(nn.Module):\n",
    "    @nn.compact\n",
    "    def __call__(self, inputs):\n",
    "        x = inputs  # NWC\n",
    "        conv = partial(nn.Conv,features=1,kernel_size=(3,), param_dtype=jnp.complex64, dtype=jnp.complex64)\n",
    "        x = conv()(x) # NWC\n",
    "        x = nn.relu(x.real) + nn.relu(x.imag) * (1j) # NWC\n",
    "        x = nn.DenseGeneral(features=1, param_dtype=jnp.complex64, dtype=jnp.complex64, axis=(-2,-1))(x) # N1\n",
    "        return x\n",
    "\n",
    "net_org = NN()\n",
    "net = realize(net_org)\n",
    "\n",
    "N,W,C = 5,1000,2\n",
    "x0 = np.random.rand(N,W,C) + 1j * np.random.rand(N,W,C)\n",
    "x0 = device_put(x0)\n",
    "\n",
    "param_true = net.init(random.PRNGKey(123), x0)\n",
    "y0 = net.apply(param_true, x0)\n",
    "param = net.init(random.PRNGKey(234), x0)\n",
    "\n",
    "from commplax import optim\n",
    "f = optim.piecewise_constant([500, 1000], [2e-3, 1e-4, 1e-5])\n",
    "tx = optax.adam(learning_rate=f)\n",
    "opt_state = tx.init(param)\n",
    "\n",
    "@jax.jit\n",
    "def MSE(f_hat, f):\n",
    "    return jnp.sum(jnp.abs(f_hat - f)**2)\n",
    "\n",
    "@jax.jit\n",
    "def loss(params,x0,y0):\n",
    "    y1 = net.apply(params, x0)\n",
    "    return MSE(y1,y0)\n",
    "\n",
    "loss_grad_fn = jax.jit(jax.value_and_grad(loss))\n",
    "\n",
    "State = namedtuple('TrainState', ['params','opt_state'])\n",
    "Data = namedtuple('Data', ['x','y'])\n",
    "data = Data(x=x0,y=y0)\n",
    "\n",
    "@jax.jit\n",
    "def update_state(state, data):\n",
    "    loss_val, grads = loss_grad_fn(state.params, data.x, data.y)\n",
    "    updates,opt_state = tx.update(grads, state.opt_state)\n",
    "    params = optax.apply_updates(state.params, updates)\n",
    "    return State(params=params, opt_state=opt_state), loss_val\n",
    "    \n",
    "## training 不用 scan\n",
    "loss_list = []\n",
    "state = State(params=param, opt_state=opt_state)\n",
    "for i in range(1000):\n",
    "    state, loss_val = update_state(state, data)\n",
    "    loss_list.append(loss_val)\n",
    "    if i % 100 == 0:\n",
    "        print(loss_val)"
   ]
  },
  {
   "cell_type": "markdown",
   "metadata": {},
   "source": [
    "## 2-Dynamic module: applying and training"
   ]
  },
  {
   "cell_type": "code",
   "execution_count": 100,
   "metadata": {},
   "outputs": [],
   "source": [
    "class LeADF(nn.Module):\n",
    "    @nn.compact\n",
    "    def __call__(self,inputs):\n",
    "        ## 探索variable的更新机制\n",
    "        x = inputs\n",
    "\n",
    "        # 定义中间变量\n",
    "        running_mean = self.variable('af','mean',lambda s: jnp.ones(s), (1,))\n",
    "\n",
    "        # 更新中间变量\n",
    "        mean = jnp.sum(x**2)\n",
    "        running_mean.value = running_mean.value * 0.99 + mean * (1 - 0.99)\n",
    "\n",
    "        # 返回最终值\n",
    "        return x / jnp.sqrt(running_mean.value)\n",
    "\n",
    "class LeDSP(nn.Module):\n",
    "    @nn.compact\n",
    "    def __call__(self, inputs):\n",
    "        x = inputs   # NWC\n",
    "        x = nn.Dense(features=5)(x)  # N1\n",
    "        x = LeADF()(x)\n",
    "        return x\n",
    "\n",
    "def test_net(net, mutable='af', train_key='params'):\n",
    "    N,W,C = 5,1000,2\n",
    "    x0 = np.random.rand(N,W,C) + 1j * np.random.rand(N,W,C)\n",
    "    x0 = device_put(x0)\n",
    "\n",
    "    var_true = net.init(random.PRNGKey(123), x0)\n",
    "    y0, real_af_state = net.apply(var_true, x0, mutable=mutable)\n",
    "    var = net.init(random.PRNGKey(234), x0)\n",
    "\n",
    "\n",
    "    tx = optax.adam(learning_rate=0.001)\n",
    "    opt_state = tx.init(var[train_key])\n",
    "\n",
    "\n",
    "    @jax.jit\n",
    "    def MSE(f_hat, f):\n",
    "        return jnp.sum(jnp.abs(f_hat - f)**2)\n",
    "\n",
    "    @jax.jit\n",
    "    def loss(params,af_state,x0,y0):\n",
    "        var = freeze({train_key:params, mutable: af_state})\n",
    "        y1, new_af_state = net.apply(var, x0, mutable=mutable)\n",
    "        return MSE(y1,y0), new_af_state\n",
    "\n",
    "    loss_grad_fn = jax.jit(jax.value_and_grad(loss, has_aux=True))\n",
    "\n",
    "    State = namedtuple('TrainState', ['params','af_state','opt_state'])\n",
    "    Data = namedtuple('Data', ['x','y'])\n",
    "    data = Data(x=x0,y=y0)\n",
    "\n",
    "    @partial(jax.jit,static_argnums=(2))\n",
    "    def update_state(state, data, tx):\n",
    "        (loss_val,new_af_state), grads = loss_grad_fn(state.params,state.af_state, data.x, data.y)\n",
    "        updates,opt_state = tx.update(grads, state.opt_state)\n",
    "        params = optax.apply_updates(state.params, updates)\n",
    "        return State(params=params,af_state=new_af_state[mutable], opt_state=opt_state), loss_val\n",
    "        \n",
    "    ## training 不用 scan\n",
    "    loss_list = []\n",
    "    state = State(params=var[train_key],af_state=var[mutable], opt_state=opt_state)\n",
    "    for i in range(1000):\n",
    "        state, loss_val = update_state(state, data, tx)\n",
    "        loss_list.append(loss_val)\n",
    "        if i % 100 == 0:\n",
    "            print(loss_val)\n",
    "    return state"
   ]
  },
  {
   "cell_type": "code",
   "execution_count": 119,
   "metadata": {},
   "outputs": [
    {
     "data": {
      "text/plain": [
       "FrozenDict({\n",
       "    af: {\n",
       "        LeADF_0: {\n",
       "            mean: (1,),\n",
       "        },\n",
       "    },\n",
       "    params: {\n",
       "        Dense_0: {\n",
       "            bias: (5,),\n",
       "            kernel: (10, 5),\n",
       "        },\n",
       "    },\n",
       "})"
      ]
     },
     "execution_count": 119,
     "metadata": {},
     "output_type": "execute_result"
    }
   ],
   "source": [
    "key = jax.random.PRNGKey(123)\n",
    "net = LeDSP()\n",
    "show_tree(net.init(key, jnp.ones([10])))"
   ]
  },
  {
   "cell_type": "code",
   "execution_count": 120,
   "metadata": {},
   "outputs": [
    {
     "data": {
      "text/plain": [
       "FrozenDict({\n",
       "    af: {\n",
       "        LeADF_0: {\n",
       "            mean: (5, 1),\n",
       "        },\n",
       "    },\n",
       "    params: {\n",
       "        Dense_0: {\n",
       "            bias: (5,),\n",
       "            kernel: (10, 5),\n",
       "        },\n",
       "    },\n",
       "})"
      ]
     },
     "execution_count": 120,
     "metadata": {},
     "output_type": "execute_result"
    }
   ],
   "source": [
    "DSP_vmap = nn.vmap(LeDSP, variable_axes={'params':None, 'af':0}, split_rngs={'params':False, 'af':False}, in_axes=0,out_axes=0)\n",
    "net = DSP_vmap()\n",
    "var = net.init(key, jnp.ones([5,10]))\n",
    "show_tree(var)"
   ]
  },
  {
   "cell_type": "code",
   "execution_count": 118,
   "metadata": {},
   "outputs": [
    {
     "data": {
      "text/plain": [
       "(DeviceArray([[-0.56203514,  0.6615603 , -0.06052642,  1.2041702 ,\n",
       "               -1.4184822 ],\n",
       "              [-0.56203514,  0.6615603 , -0.06052642,  1.2041702 ,\n",
       "               -1.4184822 ],\n",
       "              [-0.56203514,  0.6615603 , -0.06052642,  1.2041702 ,\n",
       "               -1.4184822 ],\n",
       "              [-0.56203514,  0.6615603 , -0.06052642,  1.2041702 ,\n",
       "               -1.4184822 ],\n",
       "              [-0.56203514,  0.6615603 , -0.06052642,  1.2041702 ,\n",
       "               -1.4184822 ]], dtype=float32),\n",
       " FrozenDict({\n",
       "     af: {\n",
       "         LeADF_0: {\n",
       "             mean: DeviceArray([[1.0699368],\n",
       "                          [1.0699368],\n",
       "                          [1.0699368],\n",
       "                          [1.0699368],\n",
       "                          [1.0699368]], dtype=float32),\n",
       "         },\n",
       "     },\n",
       " }))"
      ]
     },
     "execution_count": 118,
     "metadata": {},
     "output_type": "execute_result"
    }
   ],
   "source": [
    "net.apply(var, jnp.ones([5,10]), mutable='af')"
   ]
  },
  {
   "cell_type": "code",
   "execution_count": 101,
   "metadata": {},
   "outputs": [
    {
     "name": "stderr",
     "output_type": "stream",
     "text": [
      "/Users/xinyu/opt/anaconda3/envs/commplax/lib/python3.8/site-packages/jax/_src/numpy/lax_numpy.py:3673: ComplexWarning: Casting complex values to real discards the imaginary part\n",
      "  out = lax._convert_element_type(out, dtype, weak_type=weak_type)\n"
     ]
    },
    {
     "name": "stdout",
     "output_type": "stream",
     "text": [
      "131.25679\n",
      "54.10591\n",
      "51.016037\n",
      "48.87536\n",
      "47.155968\n",
      "45.792076\n",
      "44.73971\n",
      "43.941395\n",
      "43.338417\n",
      "42.880535\n"
     ]
    }
   ],
   "source": [
    "## dynamic module\n",
    "net_org = LeDSP()\n",
    "net = realize(net_org)\n",
    "state = test_net(net)\n",
    "#var = net.init(random.PRNGKey(0),x0)"
   ]
  },
  {
   "cell_type": "markdown",
   "metadata": {},
   "source": [
    "## 3-Use the NN internal module"
   ]
  },
  {
   "cell_type": "code",
   "execution_count": 257,
   "metadata": {},
   "outputs": [],
   "source": [
    "## 利用NN内部模块\n",
    "import jax\n",
    "import jax.numpy as jnp\n",
    "import flax.linen as nn\n",
    "\n",
    "class AutoEncoder(nn.Module):\n",
    "  def setup(self):\n",
    "    self.encoder = nn.Dense(3)\n",
    "    self.decoder = nn.Dense(5)\n",
    "\n",
    "  def __call__(self, x):\n",
    "    return self.decoder(self.encoder(x))\n",
    "\n",
    "x = jnp.ones((16, 9))\n",
    "ae = AutoEncoder()\n",
    "variables = ae.init(jax.random.PRNGKey(0), x)\n",
    "model = ae.bind(variables)\n",
    "z = model.encoder(x)\n",
    "x_reconstructed = model.decoder(z)"
   ]
  },
  {
   "cell_type": "markdown",
   "metadata": {},
   "source": [
    "## 4-Dense layer"
   ]
  },
  {
   "cell_type": "code",
   "execution_count": 6,
   "metadata": {},
   "outputs": [
    {
     "data": {
      "text/plain": [
       "(5, 100, 1)"
      ]
     },
     "execution_count": 6,
     "metadata": {},
     "output_type": "execute_result"
    }
   ],
   "source": [
    "## Dense layer: act on the last dimension of x\n",
    "key = random.PRNGKey(0)\n",
    "net = nn.Dense(features=1, kernel_init=normal_init, bias_init=normal_init, param_dtype=jnp.complex64, dtype=jnp.complex64)\n",
    "x = jnp.ones([5,100,3])+1j\n",
    "params = net.init(key, x)\n",
    "net.apply(params, x).shape"
   ]
  },
  {
   "cell_type": "markdown",
   "metadata": {},
   "source": [
    "## 5-DenseGeneral layer"
   ]
  },
  {
   "cell_type": "code",
   "execution_count": 9,
   "metadata": {},
   "outputs": [
    {
     "data": {
      "text/plain": [
       "(5, 3, 4, 1)"
      ]
     },
     "execution_count": 9,
     "metadata": {},
     "output_type": "execute_result"
    }
   ],
   "source": [
    "## DenseGeneral: flexible axies\n",
    "# 会把作用的axis移到最后一个轴\n",
    "net = nn.DenseGeneral(features=1, kernel_init=normal_init, bias_init=normal_init,param_dtype=jnp.complex64, dtype=jnp.complex64, axis=(1))\n",
    "x = jnp.ones([5,100,3,4])\n",
    "params = net.init(key, x)\n",
    "net.apply(params, x).shape"
   ]
  },
  {
   "cell_type": "markdown",
   "metadata": {},
   "source": [
    "## 6-Conv Layer"
   ]
  },
  {
   "cell_type": "code",
   "execution_count": 119,
   "metadata": {},
   "outputs": [
    {
     "data": {
      "text/plain": [
       "(50, 2)"
      ]
     },
     "execution_count": 119,
     "metadata": {},
     "output_type": "execute_result"
    }
   ],
   "source": [
    "## conv layer: input: NWC\n",
    "net = nn.Conv(features=2,kernel_size=(2,),strides=(2,),kernel_init=normal_init, param_dtype=jnp.complex64,dtype=jnp.complex64, padding='same')\n",
    "x = jnp.ones([100,2])\n",
    "params = net.init(key, x)\n",
    "net.apply(params, x).shape"
   ]
  },
  {
   "cell_type": "markdown",
   "metadata": {},
   "source": [
    "## 7-GRU layer"
   ]
  },
  {
   "cell_type": "code",
   "execution_count": 83,
   "metadata": {},
   "outputs": [
    {
     "name": "stdout",
     "output_type": "stream",
     "text": [
      "(10, 5) (10, 5)\n",
      "out_carry shape: (16, 5), out_val shape (16, 20, 5)\n",
      "init_carry shape: (16, 5)\n"
     ]
    }
   ],
   "source": [
    "## GRUCell\n",
    "net = nn.GRUCell()\n",
    "params = net.init(key, jnp.ones([10,5]), jnp.ones([10,11]))\n",
    "carry, output = net.apply(params, jnp.ones([10,5]), jnp.ones([10,11]))\n",
    "print(carry.shape, output.shape)\n",
    "\n",
    "## GRU\n",
    "import flax\n",
    "import flax.linen as nn\n",
    "from jax import random\n",
    "\n",
    "class GRU(nn.Module):\n",
    "  param_dtype:Any=jnp.float32\n",
    "  dtype:Any=jnp.float32\n",
    "  kernel_init: Any=normal_init\n",
    "  bias_init:Any=normal_init\n",
    "  @nn.compact\n",
    "  def __call__(self, c, xs):\n",
    "    NN = nn.scan(nn.GRUCell,\n",
    "                   variable_broadcast=\"params\",\n",
    "                   split_rngs={\"params\": False},\n",
    "                   in_axes=1,   # along axis=1 scan\n",
    "                   out_axes=1)  # output on axis=1\n",
    "    return NN(param_dtype=self.param_dtype, dtype=self.dtype, kernel_init=self.kernel_init, bias_init=self.bias_init)(c, xs)\n",
    "\n",
    "seq_len, batch_size, in_feat, out_feat = 20, 16, 3, 5\n",
    "key_1, key_2, key_3 = random.split(random.PRNGKey(0), 3)\n",
    "\n",
    "xs = random.uniform(key_1, (batch_size, seq_len, in_feat))\n",
    "init_carry = nn.GRUCell.initialize_carry(key_2, (batch_size,), out_feat).astype(jnp.complex64)\n",
    "\n",
    "model = GRU(param_dtype=jnp.complex64, dtype=jnp.complex64)\n",
    "variables = model.init(key_3, init_carry, xs)\n",
    "out_carry, out_val = model.apply(variables, init_carry, xs)\n",
    "\n",
    "assert out_val.shape == (batch_size, seq_len, out_feat)\n",
    "print(f'out_carry shape: {out_carry.shape}, out_val shape {out_val.shape}')\n",
    "print(f'init_carry shape: {init_carry.shape}')"
   ]
  },
  {
   "cell_type": "markdown",
   "metadata": {},
   "source": [
    "## 8-Dense net"
   ]
  },
  {
   "cell_type": "code",
   "execution_count": 73,
   "metadata": {},
   "outputs": [],
   "source": [
    "from typing import Callable\n",
    "from optical_flax.functions import cleaky_relu, crelu\n",
    "from commplax.module.core import SigTime, Signal, zeros\n",
    "class Dense_net(nn.Module):\n",
    "    '''\n",
    "    Fully Connected network\n",
    "    '''\n",
    "    features:int = 20\n",
    "    width:list = (20,20,20)\n",
    "    dtype:Any = jnp.complex64\n",
    "    param_dtype:Any = jnp.complex64\n",
    "    act:Callable=crelu\n",
    "    bias_init:Callable=zeros\n",
    "\n",
    "    @nn.compact\n",
    "    def __call__(self,inputs):\n",
    "        Dense  = partial(nn.Dense, dtype=self.dtype, param_dtype=self.param_dtype)\n",
    "        x = inputs\n",
    "        for w in self.width:\n",
    "            x = Dense(features=w,bias_init=zeros)(x)\n",
    "            x = self.act(x)\n",
    "        x = Dense(features=self.features, bias_init=self.bias_init)(x)\n",
    "        return x"
   ]
  },
  {
   "cell_type": "markdown",
   "metadata": {},
   "source": [
    "## 9-nn.vmap on static module"
   ]
  },
  {
   "cell_type": "code",
   "execution_count": 70,
   "metadata": {},
   "outputs": [],
   "source": [
    "def nn_vmap_x(module):\n",
    "    return nn.vmap(module, \n",
    "    variable_axes={'params':-1},  # 表示变量'params'会沿着axis=-1复制, 'const'不会复制\n",
    "    split_rngs={'params':True}, # 表示初始化的种子会split\n",
    "    in_axes=-1, out_axes=-1) "
   ]
  },
  {
   "cell_type": "code",
   "execution_count": 67,
   "metadata": {},
   "outputs": [
    {
     "data": {
      "text/plain": [
       "DeviceArray([[1., 1.],\n",
       "             [1., 1.],\n",
       "             [1., 1.],\n",
       "             [1., 1.],\n",
       "             [1., 1.],\n",
       "             [1., 1.],\n",
       "             [1., 1.],\n",
       "             [1., 1.],\n",
       "             [1., 1.],\n",
       "             [1., 1.]], dtype=float32)"
      ]
     },
     "execution_count": 67,
     "metadata": {},
     "output_type": "execute_result"
    }
   ],
   "source": [
    "# FDBP Module\n",
    "class myFDBP(nn.Module):\n",
    "    # 定义初始化参数的函数\n",
    "    dtype: Any=jnp.complex64\n",
    "    weight_init: Callable=normal_init\n",
    "    bias_init: Callable=normal_init\n",
    "    steps: int = 3\n",
    "    dtaps: int = 261\n",
    "    ntaps: int = 41\n",
    "\n",
    "    def setup(self):\n",
    "        conv_c = partial(nn.Conv, use_bias=False, dtype=jnp.complex64, param_dtype=jnp.complex64, kernel_init=self.weight_init)\n",
    "        conv_r = partial(nn.Conv, use_bias=False, dtype=jnp.float32, param_dtype=jnp.float32, kernel_init=self.weight_init)\n",
    "        self.dconv_x = [conv_c(features=1, kernel_size=(self.dtaps,)) for i in range(self.steps)]\n",
    "        self.dconv_y = [conv_c(features=1, kernel_size=(self.dtaps,)) for i in range(self.steps)]\n",
    "        self.nconv = [conv_r(features=2, kernel_size=(self.ntaps,)) for i in range(self.steps)]\n",
    "\n",
    "    @nn.compact\n",
    "    def __call__(self,inputs):\n",
    "        p = inputs\n",
    "\n",
    "        # 定义模型参数\n",
    "        for i in range(self.steps):\n",
    "            x = p[:,0:1]\n",
    "            y = p[:,1:2]\n",
    "            x = self.dconv_x[i](x)\n",
    "            y = self.dconv_y[i](y)\n",
    "            p = jnp.concatenate([x,y],axis=1)\n",
    "            arg = self.nconv[i](jnp.abs(p)**2)\n",
    "            p = p * jnp.exp(1j*(arg))\n",
    "            \n",
    "\n",
    "        # 运算与返回\n",
    "        return p"
   ]
  },
  {
   "cell_type": "markdown",
   "metadata": {},
   "source": [
    "## 10-test long GRU (batch training)"
   ]
  },
  {
   "cell_type": "code",
   "execution_count": 2,
   "metadata": {},
   "outputs": [
    {
     "name": "stdout",
     "output_type": "stream",
     "text": [
      "918.75\n",
      "264.43524\n",
      "46.49644\n",
      "22.716423\n",
      "12.644978\n",
      "6.7692127\n",
      "3.3441296\n",
      "1.6718155\n",
      "1.3218107\n",
      "1.0349112\n",
      "0.8018294\n",
      "0.6996411\n",
      "0.65344936\n",
      "0.6236384\n",
      "0.6061782\n",
      "0.59661376\n",
      "0.5897596\n",
      "0.5848503\n",
      "0.58447164\n",
      "0.5967593\n"
     ]
    }
   ],
   "source": [
    "## test long GRU\n",
    "from optical_flax.layers import GRU\n",
    "seed = random.PRNGKey\n",
    "\n",
    "net = realize(GRU())\n",
    "L, B, in_feat, out_feat = 10000, 5, 3, 2\n",
    "key_1, key_2, key_3 = random.split(random.PRNGKey(0), 3)\n",
    "\n",
    "xs = random.uniform(key_1, (B,L,in_feat))\n",
    "init_carry = nn.GRUCell.initialize_carry(key_2, (B,), out_feat).astype(jnp.complex64)\n",
    "var_true = net.init(key_3, init_carry, xs)\n",
    "out_carry,ys = net.apply(var_true, init_carry, xs)\n",
    "var = net.init(seed(10), init_carry, xs)\n",
    "\n",
    "tx = optax.adam(learning_rate=0.01)\n",
    "\n",
    "\n",
    "def loss_fn(var, carry, xs, ys):\n",
    "    out_carry, y = net.apply(var, carry, xs)\n",
    "    return jnp.sum(jnp.abs(y - ys)**2), out_carry\n",
    "\n",
    "from jax.lax import stop_gradient \n",
    "\n",
    "\n",
    "## 由于jax没有计算图的概念，所以在这里并不需要 stop_gradient\n",
    "@jax.jit\n",
    "def update_step(var,opt_state, carry, xs, ys):\n",
    "    (loss_val, out_carry), grads = jax.value_and_grad(loss_fn, has_aux=True)(var, carry, xs, ys)\n",
    "    updates,opt_state = tx.update(grads, opt_state)\n",
    "    var = optax.apply_updates(var, updates)\n",
    "    return var, opt_state, stop_gradient(out_carry), loss_val\n",
    "\n",
    "\n",
    "carry = init_carry\n",
    "opt_state = tx.init(var)\n",
    "epochs = 200\n",
    "for j in range(epochs):\n",
    "    for i in range(100):\n",
    "        x = xs[:,i*100:(i+1)*100,:]\n",
    "        y = ys[:,i*100:(i+1)*100,:]\n",
    "        var, opt_state,carry,l  = update_step(var, opt_state, carry, x, y)\n",
    "    if j % 10==0:\n",
    "        print(l)\n"
   ]
  },
  {
   "cell_type": "markdown",
   "metadata": {},
   "source": [
    "## 11-dispersion perator"
   ]
  },
  {
   "cell_type": "code",
   "execution_count": 79,
   "metadata": {},
   "outputs": [
    {
     "name": "stderr",
     "output_type": "stream",
     "text": [
      "WARNING:root:Data would be auto-cached in default temporary location: /var/folders/lx/pn32t35562q_d2fbchp2r8wm0000gn/T/labptptm2, set labptptm2.config.cache_storage to other locations to suppress this warning\n",
      "                                                           \r"
     ]
    }
   ],
   "source": [
    "import jax\n",
    "import jax.numpy as jnp\n",
    "from jax import device_put, device_get\n",
    "import jax.random as random\n",
    "import numpy as np\n",
    "import flax.linen as nn\n",
    "import optax\n",
    "from functools import partial, wraps\n",
    "from typing import Any, NamedTuple,Callable, Iterable, Optional, Tuple, Union,Sequence\n",
    "from optical_flax.utils import realize, normal_init, show_tree, tree_r2c, tree_c2r\n",
    "from collections import namedtuple\n",
    "from flax.core import freeze, unfreeze\n",
    "from commplax.module import core\n",
    "from commplax.module.core import SigTime, Signal, zeros, conv1d_t, vmap,wpartial,delta,gauss\n",
    "import optical_flax.base as base\n",
    "import optical_flax.layers as layers\n",
    "import optax\n",
    "import matplotlib.pyplot as plt\n",
    "## Define datax\n",
    "from gdbp import gdbp_base as gb, data as gdat, aux\n",
    "data_train = gdat.load(1, 0, 4, 2)[0]\n",
    "data_test = gdat.load(2, 0, 4, 2)[0]"
   ]
  },
  {
   "cell_type": "code",
   "execution_count": 85,
   "metadata": {},
   "outputs": [
    {
     "data": {
      "text/plain": [
       "[<matplotlib.lines.Line2D at 0x7f8e6aa48580>]"
      ]
     },
     "execution_count": 85,
     "metadata": {},
     "output_type": "execute_result"
    },
    {
     "data": {
      "image/png": "[encoded data removed]",
      "text/plain": [
       "<Figure size 432x288 with 1 Axes>"
      ]
     },
     "metadata": {
      "needs_background": "light"
     },
     "output_type": "display_data"
    }
   ],
   "source": [
    "## dispersion operator\n",
    "a = data_train.a\n",
    "pi  = np.pi\n",
    "log = np.log\n",
    "exp = np.exp\n",
    "ifft = np.fft.ifft\n",
    "\n",
    "# virtual span is used in cases where we do not use physical span settings\n",
    "freqs = 1001\n",
    "sample_rate = a['samplerate']\n",
    "span_length = a['distance'] / a['spans']\n",
    "spans = a['spans']\n",
    "launch_power = a['lpdbm'] - 3   # launch power [dBm]\n",
    "                             \n",
    "steps_per_span=1                                 # steps per span\n",
    "virtual_spans=3                                  # number of virtual spans\n",
    "carrier_frequency=299792458/1550E-9              # carrier frequency [Hz]\n",
    "fiber_dispersion=16.5E-6                         # [s/m^2]\n",
    "fiber_dispersion_slope=0.08e3                    # [s/m^3]\n",
    "fiber_loss=.2E-3                                 # loss of fiber [dB/m]\n",
    "fiber_core_area=80E-12                           # effective area of fiber [m^2]\n",
    "fiber_nonlinear_index=2.6E-20                    # nonlinear index [m^2/W]\n",
    "fiber_reference_frequency=299792458/1550E-9      # fiber reference frequency [Hz]\n",
    "ignore_beta3=True\n",
    "polmux=True\n",
    "\n",
    "C       = 299792458. # speed of light [m/s]\n",
    "lambda_ = C / fiber_reference_frequency\n",
    "B_2     = -fiber_dispersion * lambda_**2 / (2 * pi * C)\n",
    "B_3     = 0. if ignore_beta3 else \\\n",
    "    (fiber_dispersion_slope * lambda_**2 + 2 * fiber_dispersion * lambda_) * (lambda_ / (2 * pi * C))**2 #[/m/W]\n",
    "gamma   = 2 * pi * fiber_nonlinear_index / lambda_ / fiber_core_area  #[/m/W]\n",
    "LP      = 10.**(launch_power / 10 - 3)  # 将【dBm】转化为 [W]\n",
    "alpha   = fiber_loss / (10. / log(10.)) # 计算出方程中的衰减系数alpha，z单位 [m]\n",
    "L_eff   = lambda h: (1 - exp(-alpha * h)) / alpha\n",
    "NIter   = virtual_spans * steps_per_span\n",
    "delay   = (freqs - 1) // 2\n",
    "dw      = 2 * pi * (carrier_frequency - fiber_reference_frequency)\n",
    "w_res   = 2 * pi * sample_rate / freqs\n",
    "k       = np.arange(freqs)\n",
    "w       = np.where(k > delay, k - freqs, k) * w_res # ifftshifted\n",
    "\n",
    "H   = exp(-1j * (-B_2 / 2 * (w + dw)**2 + B_3 / 6 * (w + dw)**3) * \\\n",
    "            span_length * spans / virtual_spans / steps_per_span)\n",
    "            ## dz = span_length * spans / virtual_spans / steps_per_span\n",
    "H_casual = H * exp(-1j * w * delay / sample_rate) ## 频域相位旋转等价于时域平移，将时域对齐\n",
    "h_casual = ifft(H_casual)\n",
    "\n",
    "if polmux:\n",
    "        dims = 2\n",
    "else:\n",
    "    dims = 1\n",
    "\n",
    "H = np.tile(H[None, :, None], (NIter, 1, dims))\n",
    "h_casual = np.tile(h_casual[None, :, None], (NIter, 1, dims))\n",
    "\n",
    "plt.plot(np.abs(h_casual[2,:,1]))"
   ]
  },
  {
   "cell_type": "markdown",
   "metadata": {},
   "source": [
    "## 12-kalman filter"
   ]
  },
  {
   "cell_type": "code",
   "execution_count": 10,
   "metadata": {},
   "outputs": [
    {
     "data": {
      "text/plain": [
       "261"
      ]
     },
     "execution_count": 10,
     "metadata": {},
     "output_type": "execute_result"
    }
   ],
   "source": [
    "import numpy as np\n",
    "\n",
    "class KalmanFilter(object):\n",
    "    def __init__(self, F = None, B = None, H = None, Q = None, R = None, P = None, x0 = None):\n",
    "\n",
    "        if(F is None or H is None):\n",
    "            raise ValueError(\"Set proper system dynamics.\")\n",
    "\n",
    "        self.n = F.shape[1]\n",
    "        self.m = H.shape[1]\n",
    "\n",
    "        self.F = F\n",
    "        self.H = H\n",
    "        self.B = 0 if B is None else B\n",
    "        self.Q = np.eye(self.n) if Q is None else Q\n",
    "        self.R = np.eye(self.n) if R is None else R\n",
    "        self.P = np.eye(self.n) if P is None else P\n",
    "        self.x = np.zeros((self.n, 1)) if x0 is None else x0\n",
    "\n",
    "    def predict(self, u = 0):\n",
    "        self.x = np.dot(self.F, self.x) + np.dot(self.B, u)\n",
    "        self.P = np.dot(np.dot(self.F, self.P), self.F.T) + self.Q\n",
    "        return self.x\n",
    "\n",
    "    def update(self, z):\n",
    "        y = z - np.dot(self.H, self.x)\n",
    "        S = self.R + np.dot(self.H, np.dot(self.P, self.H.T))\n",
    "        K = np.dot(np.dot(self.P, self.H.T), np.linalg.inv(S))\n",
    "        self.x = self.x + np.dot(K, y)\n",
    "        I = np.eye(self.n)\n",
    "        self.P = np.dot(I - np.dot(K, self.H), self.P)\n",
    "\n",
    "def example():\n",
    "    dt = 1.0/60\n",
    "    F = np.array([[1, dt, 0], [0, 1, dt], [0, 0, 1]])\n",
    "    H = np.array([1, 0, 0]).reshape(1, 3)\n",
    "    Q = np.array([[0.05, 0.05, 0.0], [0.05, 0.05, 0.0], [0.0, 0.0, 0.0]])\n",
    "    R = np.array([1]).reshape(1, 1)\n",
    "    \n",
    "    itr  = 200\n",
    "    \n",
    "    def f(x):\n",
    "        return np.dot(F,x)+np.random.normal(0,5,3)\n",
    "    \n",
    "    real_state = []\n",
    "    x = np.array([0,0,0])\n",
    "    \n",
    "    for i in range(itr):\n",
    "        real_state.append(x[0])\n",
    "        x = f(x)\n",
    "    \n",
    "    measurements = [x-1+np.random.normal(0,1) for x in real_state]\n",
    "\n",
    "    kf = KalmanFilter(F = F, H = H, Q = Q, R = R)\n",
    "    predictions = []\n",
    "    for z in measurements:\n",
    "        predictions.append(kf.predict()[0])\n",
    "        kf.update(z)\n",
    "\n",
    "    import matplotlib.pyplot as plt\n",
    "    plt.plot(range(len(measurements)), measurements, label = 'Measurements')\n",
    "    plt.plot(range(len(predictions)), np.array(predictions), label = 'Kalman Filter Prediction')\n",
    "    plt.plot(range(len(real_state)), real_state, label = 'Real statement' )\n",
    "    plt.legend()\n",
    "    plt.show()\n",
    "\n",
    "example()"
   ]
  },
  {
   "cell_type": "markdown",
   "metadata": {},
   "source": [
    "## 13-complex optimizer"
   ]
  },
  {
   "cell_type": "code",
   "execution_count": null,
   "metadata": {},
   "outputs": [],
   "source": [
    "## torch adam optimize complex parameter\n",
    "import torch as t\n",
    "\n",
    "from matplotlib import pyplot as plt\n",
    "\n",
    "complex_param = t.tensor([1],dtype=t.complex64, requires_grad=True)\n",
    "\n",
    "# We will optimize on the mean squared error from a 1j\n",
    "target = 2.0\n",
    "\n",
    "def calc_loss(x):\n",
    "    return t.abs(x - target)**2\n",
    "\n",
    "optimizer = t.optim.AdamW([complex_param], lr=0.001)\n",
    "\n",
    "n = 10000\n",
    "loss_list = []\n",
    "values = t.zeros(n, dtype=t.complex64)\n",
    "for i in range(n):\n",
    "    optimizer.zero_grad()\n",
    "    loss = calc_loss(complex_param)\n",
    "    loss.backward()\n",
    "    optimizer.step()\n",
    "    values[i] = complex_param.detach()\n",
    "    loss_list.append(loss.item())\n",
    "\n",
    "\n",
    "# Plot the results\n",
    "plt.plot(values.real, label='Real Part')\n",
    "plt.plot(values.imag, label='Imaginary Part')\n",
    "plt.legend()\n",
    "plt.xlabel('Iteration')\n",
    "plt.ylabel('Complex Parameter')\n",
    "plt.title('Optimization Progress with as-implemented Adam')\n",
    "plt.show()"
   ]
  },
  {
   "cell_type": "code",
   "execution_count": null,
   "metadata": {},
   "outputs": [],
   "source": [
    "## optax complex parameter 优化\n",
    "import optax\n",
    "import jax.numpy as jnp\n",
    "import jax\n",
    "import numpy as np\n",
    "\n",
    "param = {'t':jnp.array(1.0, dtype=jnp.complex64)}\n",
    "tx = optax.adam(learning_rate=0.001)\n",
    "opt_state = tx.init(param)\n",
    "\n",
    "def loss(param):\n",
    "    x = param['t']\n",
    "    return jnp.sum(jnp.abs(x - 1j)**2)\n",
    "loss_grad = jax.jit(jax.value_and_grad(loss))\n",
    "\n",
    "@jax.jit\n",
    "def update_state(param, opt_state):\n",
    "    loss_val, grads = loss_grad(param)\n",
    "    updates, opt_state = tx.update(grads,opt_state)\n",
    "    param = optax.apply_updates(param, updates)\n",
    "    return param,opt_state, loss_val \n",
    "\n",
    "n=10000\n",
    "values=np.zeros(n, dtype=np.complex64)\n",
    "loss_list=np.zeros(n, dtype=np.complex64)\n",
    "for i in range(n):\n",
    "    param,opt_state, loss_val = update_state(param, opt_state)\n",
    "    loss_list[i] = loss_val\n",
    "\n",
    "import matplotlib.pyplot as plt\n",
    "plt.plot(loss_list)"
   ]
  },
  {
   "cell_type": "markdown",
   "metadata": {},
   "source": [
    "## 14-nn.vmap on dynamic module"
   ]
  },
  {
   "cell_type": "code",
   "execution_count": 88,
   "metadata": {},
   "outputs": [],
   "source": [
    "class Foo(nn.Module):\n",
    "    @nn.compact\n",
    "    def __call__(self, x, train=True):\n",
    "        x = nn.Conv(3, kernel_size=(3, 3), strides=(1, 1), padding=\"SAME\")(x)\n",
    "        x = nn.BatchNorm(use_running_average=not train, axis_name=[\"b1\", \"b2\"])(\n",
    "            x\n",
    "        )  # I need add two extra batch dims, can we use a list of axis_name here?\n",
    "        x = nn.relu(x)\n",
    "        return x\n"
   ]
  },
  {
   "cell_type": "code",
   "execution_count": 97,
   "metadata": {},
   "outputs": [],
   "source": [
    "net = Foo()\n",
    "var = net.init(key, jnp.ones([2,28,28,3]))"
   ]
  },
  {
   "cell_type": "code",
   "execution_count": 93,
   "metadata": {},
   "outputs": [
    {
     "data": {
      "text/plain": [
       "FrozenDict({\n",
       "    batch_stats: {\n",
       "        BatchNorm_0: {\n",
       "            mean: (3,),\n",
       "            var: (3,),\n",
       "        },\n",
       "    },\n",
       "    params: {\n",
       "        BatchNorm_0: {\n",
       "            bias: (3,),\n",
       "            scale: (3,),\n",
       "        },\n",
       "        Conv_0: {\n",
       "            bias: (3,),\n",
       "            kernel: (3, 3, 3, 3),\n",
       "        },\n",
       "    },\n",
       "})"
      ]
     },
     "execution_count": 93,
     "metadata": {},
     "output_type": "execute_result"
    }
   ],
   "source": [
    "show_tree(var)"
   ]
  },
  {
   "cell_type": "code",
   "execution_count": 69,
   "metadata": {},
   "outputs": [
    {
     "name": "stdout",
     "output_type": "stream",
     "text": [
      "vars:\n",
      "FrozenDict({\n",
      "    batch_stats: {\n",
      "        BatchNorm_0: {\n",
      "            mean: (3,),\n",
      "            var: (3,),\n",
      "        },\n",
      "    },\n",
      "    params: {\n",
      "        BatchNorm_0: {\n",
      "            bias: (3,),\n",
      "            scale: (3,),\n",
      "        },\n",
      "        Conv_0: {\n",
      "            bias: (3,),\n",
      "            kernel: (3, 3, 3, 3),\n",
      "        },\n",
      "    },\n",
      "})\n",
      "train y\n",
      "(2, 2, 2, 28, 28, 3)\n",
      "infer_y shape:\n",
      "(2, 2, 2, 28, 28, 3)\n"
     ]
    }
   ],
   "source": [
    "import functools\n",
    "\n",
    "import flax.linen as nn\n",
    "import jax\n",
    "from jax import numpy as jnp\n",
    "\n",
    "\n",
    "@functools.partial(\n",
    "    nn.vmap,\n",
    "    variable_axes={\"params\": None, \"batch_stats\": None},\n",
    "    split_rngs={\"params\": False},\n",
    "    in_axes=(1, None),\n",
    "    out_axes=1,\n",
    "    axis_name=\"b2\",\n",
    ")\n",
    "@functools.partial(\n",
    "    nn.vmap,\n",
    "    variable_axes={\"params\": None, \"batch_stats\": None},\n",
    "    split_rngs={\"params\": False},\n",
    "    in_axes=(1, None),\n",
    "    out_axes=1,\n",
    "    axis_name=\"b1\",\n",
    ")\n",
    "class Foo(nn.Module):\n",
    "    @nn.compact\n",
    "    def __call__(self, x, train=True):\n",
    "        x = nn.Conv(3, kernel_size=(3, 3), strides=(1, 1), padding=\"SAME\")(x)\n",
    "        x = nn.BatchNorm(use_running_average=not train, axis_name=[\"b1\", \"b2\"])(\n",
    "            x\n",
    "        )  # I need add two extra batch dims, can we use a list of axis_name here?\n",
    "        x = nn.relu(x)\n",
    "        return x\n",
    "\n",
    "\n",
    "\n",
    "foo = Foo()\n",
    "x = jnp.ones(shape=(2, 2, 2, 28, 28, 3))\n",
    "rng = jax.random.PRNGKey(0)\n",
    "vars = foo.init({\"params\": rng}, x, True)\n",
    "print(\"vars:\")\n",
    "print(jax.tree_map(lambda x: x.shape, vars))\n",
    "\n",
    "train_y, new_batch_stats = foo.apply(\n",
    "    {\"params\": vars[\"params\"], \"batch_stats\": vars[\"batch_stats\"]},\n",
    "    x,\n",
    "    True, # the trick is use False, instead of train=True\n",
    "    mutable=[\"batch_stats\"],\n",
    ")\n",
    "print(\"train y\")\n",
    "print(train_y.shape)\n",
    "infer_y = foo.apply(\n",
    "    {\"params\": vars[\"params\"], \"batch_stats\": new_batch_stats[\"batch_stats\"]},\n",
    "    x,\n",
    "    False, # the trick is use False, instead of train=False\n",
    "    mutable=False,\n",
    ")\n",
    "print(\"infer_y shape:\")\n",
    "print(infer_y.shape)"
   ]
  },
  {
   "cell_type": "markdown",
   "metadata": {},
   "source": [
    "## 15-jax.vmap"
   ]
  },
  {
   "cell_type": "code",
   "execution_count": 157,
   "metadata": {},
   "outputs": [],
   "source": [
    "from functools import partial, wraps\n",
    "x = (0,1)\n",
    "y = {'a':3,'b':{'alpha':4, 'beta':5}}\n",
    "\n",
    "def expand(data):\n",
    "    return jax.tree_map(lambda x: jnp.ones([5,1])*x, data)\n",
    "\n",
    "x_ = expand(x)\n",
    "y_ = expand(y)"
   ]
  },
  {
   "cell_type": "code",
   "execution_count": 148,
   "metadata": {},
   "outputs": [],
   "source": [
    "def time_dc(f):\n",
    "    @wraps(f)\n",
    "    def _f(*args, **kwargs):\n",
    "        import time\n",
    "        t0 = time.time()\n",
    "        y = f(*args, **kwargs)\n",
    "        t1 = time.time()\n",
    "        print(f'time cost = {t1-t0}')\n",
    "        return y\n",
    "    return _f\n",
    "    "
   ]
  },
  {
   "cell_type": "code",
   "execution_count": 179,
   "metadata": {},
   "outputs": [],
   "source": [
    "@partial(jax.vmap, in_axes=(None, {'a':0, 'b':{'alpha':0,'beta':0}}), out_axes=(None,1))\n",
    "def f(x,y):\n",
    "    return x[0], {'aa':y['b']['alpha'], 'bb':y['b']['beta']}\n"
   ]
  },
  {
   "cell_type": "code",
   "execution_count": 182,
   "metadata": {},
   "outputs": [
    {
     "data": {
      "text/plain": [
       "(0,\n",
       " {'aa': DeviceArray([[4., 4., 4., 4., 4.]], dtype=float32),\n",
       "  'bb': DeviceArray([[5., 5., 5., 5., 5.]], dtype=float32)})"
      ]
     },
     "execution_count": 182,
     "metadata": {},
     "output_type": "execute_result"
    }
   ],
   "source": [
    "f(x,y_)"
   ]
  },
  {
   "cell_type": "code",
   "execution_count": null,
   "metadata": {},
   "outputs": [],
   "source": [
    "import jax\n",
    "import numpy as np\n",
    "import jax.numpy as jnp\n",
    "\n",
    "X = jnp.ones(10)\n",
    "Y = jnp.arange(10)\n",
    "\n",
    "\n",
    "def poisson(alpha, beta):\n",
    "    lamb = alpha + beta*X\n",
    "    return jnp.where(lamb.any() < 0, 0, jnp.sum(Y*jnp.log(lamb) - jnp.log(lamb)))\n",
    "\n",
    "poisson_vmap = jax.jit(jax.vmap(poisson, in_axes=(-1,-1), out_axes=-1))\n",
    "alpha = jnp.ones([1,10])\n",
    "beta = jnp.ones([1,10])\n",
    "poisson_vmap(alpha,beta)"
   ]
  },
  {
   "cell_type": "markdown",
   "metadata": {},
   "source": [
    "## 16-Module transformation"
   ]
  },
  {
   "cell_type": "code",
   "execution_count": 186,
   "metadata": {},
   "outputs": [
    {
     "name": "stdout",
     "output_type": "stream",
     "text": [
      "FrozenDict({\n",
      "    mlp: {\n",
      "        hidden: {\n",
      "            bias: (3, 4),\n",
      "            kernel: (3, 4, 4),\n",
      "        },\n",
      "        out: {\n",
      "            bias: (3, 1),\n",
      "            kernel: (3, 4, 1),\n",
      "        },\n",
      "    },\n",
      "})\n"
     ]
    }
   ],
   "source": [
    "import jax\n",
    "from jax import random, numpy as jnp\n",
    "from flax import linen as nn\n",
    "\n",
    "class MLP(nn.Module):\n",
    "  @nn.compact\n",
    "  def __call__(self, xs):\n",
    "    h = nn.Dense(4, name='hidden')(xs)\n",
    "    h = nn.relu(h)\n",
    "    return nn.Dense(1, name='out')(h)\n",
    "\n",
    "class ManualVmapMLP(nn.Module):\n",
    "  @nn.compact\n",
    "  def __call__(self, xs):\n",
    "    mlp = MLP(parent=None)\n",
    "    init_fn = lambda rng, xs: jax.vmap(mlp.init, in_axes=0)(random.split(rng, xs.shape[0]), xs)['params']\n",
    "    apply_fn = jax.vmap(mlp.apply, in_axes=0)\n",
    "    mlp_params = self.param('mlp', init_fn, xs)\n",
    "    return apply_fn({'params': mlp_params}, xs)\n",
    "\n",
    "xs = jnp.ones((3, 4))\n",
    "variables = ManualVmapMLP().init(random.PRNGKey(0), xs)\n",
    "print(jax.tree_map(jnp.shape, variables['params']))"
   ]
  },
  {
   "cell_type": "code",
   "execution_count": 278,
   "metadata": {},
   "outputs": [],
   "source": [
    "def trans(x):\n",
    "    H = jnp.ones(len(x))\n",
    "    x = jnp.fft.ifft(jnp.fft.fft(x)*H)\n",
    "    x = jnp.exp(1j*jnp.abs(x)**2)\n",
    "    return x\n",
    "\n",
    "trans_vmap = jax.vmap(trans, in_axes=0, out_axes=0)"
   ]
  },
  {
   "cell_type": "markdown",
   "metadata": {},
   "source": [
    "## 17-convolution speed compare"
   ]
  },
  {
   "cell_type": "code",
   "execution_count": 88,
   "metadata": {},
   "outputs": [
    {
     "name": "stdout",
     "output_type": "stream",
     "text": [
      "16.6 ms ± 4.53 ms per loop (mean ± std. dev. of 7 runs, 100 loops each)\n",
      "848 µs ± 130 µs per loop (mean ± std. dev. of 7 runs, 1,000 loops each)\n",
      "1.8 ms ± 270 µs per loop (mean ± std. dev. of 7 runs, 1,000 loops each)\n",
      "42.2 ms ± 11.4 ms per loop (mean ± std. dev. of 7 runs, 1 loop each)\n",
      "The slowest run took 5.30 times longer than the fastest. This could mean that an intermediate result is being cached.\n",
      "103 ms ± 58.7 ms per loop (mean ± std. dev. of 7 runs, 1 loop each)\n"
     ]
    }
   ],
   "source": [
    "import scipy\n",
    "from commplax.xop import convolve\n",
    "\n",
    "x = jnp.ones(10000)\n",
    "\n",
    "@jax.jit\n",
    "def jax_convolve(x, y):\n",
    "  return jax.scipy.signal.convolve(x,x,mode='same')\n",
    "\n",
    "## convolution speed\n",
    "\n",
    "# %timeit jnp.convolve(x,x)\n",
    "%timeit np.convolve(x,x)\n",
    "%timeit scipy.signal.convolve(x,x)\n",
    "%timeit convolve(x,x,method='auto')\n",
    "\n",
    "\n",
    "## matrix product speed\n",
    "vmap = jax.vmap\n",
    "vv = lambda x, y: jnp.vdot(x, y)  #  ([a], [a]) -> []\n",
    "mv = vmap(vv, (0, None), 0)      #  ([b,a], [a]) -> [b]      (b is the mapped axis)\n",
    "mm = vmap(mv, (None, 1), 1) \n",
    "mv2 = vmap(vv, (0, 1), 0) \n",
    "mm2 = vmap(mv2, (1, 1), 0)\n",
    "\n",
    "a,b,c = 1000,1000,1000\n",
    "\n",
    "%timeit jax.jit(mm)(np.random.rand(b,a), np.random.rand(a,c))\n",
    "%timeit np.random.rand(b,a) @ np.random.rand(a,c)\n",
    "\n",
    "\n",
    "## random nunber generation speed\n",
    "key = jax.random.PRNGKey(0)\n",
    "\n",
    "%timeit jax.random.normal(key, (1000000,))\n",
    "%timeit np.random.normal(size=(1000000,))"
   ]
  },
  {
   "cell_type": "markdown",
   "metadata": {},
   "source": [
    "## 18-scan"
   ]
  },
  {
   "cell_type": "code",
   "execution_count": 155,
   "metadata": {},
   "outputs": [],
   "source": [
    "from jax.numpy.fft import fft, ifft, fftfreq\n",
    "from optical_flax.models import edfa\n",
    "\n",
    "def one_step(Ech , _, *, hz=0.1, linOperator=None, γ=1.3):\n",
    "    # First linear step (frequency domain)\n",
    "    Ech = Ech * linOperator            \n",
    "\n",
    "    # Nonlinear step (time domain)\n",
    "    Ech = ifft(Ech)\n",
    "    Ech = Ech * jnp.exp(1j*γ*(Ech*jnp.conj(Ech))*hz)\n",
    "\n",
    "    # Second linear step (frequency domain)\n",
    "    Ech = fft(Ech)       \n",
    "    Ech = Ech * linOperator   \n",
    "    return Ech, None\n",
    "\n",
    "@partial(jax.jit, static_argnames=['amp'])\n",
    "def one_span(Ech, _, *, amp='efda',Fs= 1, Lspan=1, NF=4.5, Fc=1, hz=1, Nsteps=1, α=0.2):\n",
    "    Ech =  fft(Ech)\n",
    "    Ech = jax.lax.scan(one_step, x, None,  length=10)[0]\n",
    "    Ech = ifft(Ech)\n",
    "\n",
    "    if amp =='edfa':\n",
    "        Ech = edfa(Ech, Fs, alpha*Lspan, NF, Fc)\n",
    "    elif amp =='ideal':\n",
    "        Ech = Ech * jnp.exp(α/2*Nsteps*hz)\n",
    "    elif amp == None:\n",
    "        Ech = Ech * jnp.exp(0); \n"
   ]
  },
  {
   "cell_type": "markdown",
   "metadata": {},
   "source": [
    "## 19-Generate random numbers"
   ]
  },
  {
   "cell_type": "code",
   "execution_count": 23,
   "metadata": {},
   "outputs": [],
   "source": [
    "@partial(jax.jit)\n",
    "def f(x, p):\n",
    "    return x + np.random.normal(size=x.size)*p"
   ]
  },
  {
   "cell_type": "code",
   "execution_count": 24,
   "metadata": {},
   "outputs": [
    {
     "data": {
      "text/plain": [
       "DeviceArray([-0.29408526, -0.0387882 ,  2.7437122 ,  0.20193726,\n",
       "              1.0296832 ,  2.069316  ,  1.8907064 ,  2.7548862 ,\n",
       "              2.495644  ,  2.0693927 ], dtype=float32)"
      ]
     },
     "execution_count": 24,
     "metadata": {},
     "output_type": "execute_result"
    }
   ],
   "source": [
    "f(jnp.ones(10),1)"
   ]
  }
 ],
 "metadata": {
  "interpreter": {
   "hash": "531552b898093c495d5d7fbfac81f0b68153c16134e4b180957a1aaadf98359a"
  },
  "kernelspec": {
   "display_name": "Python (comm)",
   "language": "python",
   "name": "python3"
  },
  "language_info": {
   "codemirror_mode": {
    "name": "ipython",
    "version": 3
   },
   "file_extension": ".py",
   "mimetype": "text/x-python",
   "name": "python",
   "nbconvert_exporter": "python",
   "pygments_lexer": "ipython3",
   "version": "3.8.12"
  },
  "orig_nbformat": 2
 },
 "nbformat": 4,
 "nbformat_minor": 2
}
