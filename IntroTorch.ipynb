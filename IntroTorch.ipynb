{
 "cells": [
  {
   "cell_type": "markdown",
   "metadata": {},
   "source": [
    "# DataLoader"
   ]
  },
  {
   "cell_type": "code",
   "execution_count": 1,
   "metadata": {},
   "outputs": [
    {
     "name": "stdout",
     "output_type": "stream",
     "text": [
      "0 tensor([ 14,  87,  40, 100,  89,   9,  27,   5,  79,  86,   5,  87])\n",
      "1 tensor([25, 17, 16, 23, 34, 17,  1, 44, 85, 78, 22, 54])\n",
      "2 tensor([88, 25,  7, 92, 16, 19, 29,  1, 41, 94,  7, 90])\n",
      "3 tensor([ 1, 46, 12, 40, 54, 31, 15, 28,  1, 10,  4, 26])\n",
      "4 tensor([34,  8, 88, 12, 98, 42, 40, 42,  5, 47, 82, 20])\n",
      "5 tensor([ 6, 82, 29, 37, 37, 14, 86, 86,  6, 58, 45, 60])\n",
      "6 tensor([44, 87,  6, 13,  9, 89, 96, 78, 29, 50, 20, 10])\n",
      "7 tensor([ 6, 47,  1, 12, 49, 89, 54, 11,  4, 79, 58, 28])\n",
      "8 tensor([51, 11, 96, 12, 70, 42, 67, 74, 54, 92, 45, 68])\n",
      "9 tensor([ 5, 90, 85, 34, 30, 92, 12, 91, 16, 69, 31, 64])\n"
     ]
    }
   ],
   "source": [
    "## \n",
    "import torch\n",
    "from torch.utils.data import Dataset \n",
    "import random \n",
    "  \n",
    "## dataset   define   __len__   and   __getitem__\n",
    "class SampleDataset(Dataset): \n",
    "  def __init__(self,r1,r2): \n",
    "      randomlist=[] \n",
    "      for i in range(120): \n",
    "          n = random.randint(r1,r2) \n",
    "          randomlist.append(n) \n",
    "      self.samples=randomlist  \n",
    "  \n",
    "  def __len__(self): \n",
    "      return len(self.samples) \n",
    "  \n",
    "  def __getitem__(self,idx): \n",
    "      return(self.samples[idx]) \n",
    "  \n",
    "dataset=SampleDataset(1,100) \n",
    "\n",
    "from torch.utils.data import DataLoader \n",
    "loader = DataLoader(dataset,batch_size=12, shuffle=True, num_workers=2 ) \n",
    "for i, batch in enumerate(loader): \n",
    "    print(i, batch) "
   ]
  }
 ],
 "metadata": {
  "interpreter": {
   "hash": "f4b9236e0601dae4b8f5d171a608b9d19163b63d094210553e37100e1902b344"
  },
  "kernelspec": {
   "display_name": "Python 3.8.12 ('commplax')",
   "language": "python",
   "name": "python3"
  },
  "language_info": {
   "codemirror_mode": {
    "name": "ipython",
    "version": 3
   },
   "file_extension": ".py",
   "mimetype": "text/x-python",
   "name": "python",
   "nbconvert_exporter": "python",
   "pygments_lexer": "ipython3",
   "version": "3.8.12"
  },
  "orig_nbformat": 4
 },
 "nbformat": 4,
 "nbformat_minor": 2
}
