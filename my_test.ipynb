{
 "cells": [
  {
   "cell_type": "code",
   "execution_count": 1,
   "metadata": {},
   "outputs": [
    {
     "name": "stderr",
     "output_type": "stream",
     "text": [
      "WARNING:absl:No GPU/TPU found, falling back to CPU. (Set TF_CPP_MIN_LOG_LEVEL=0 and rerun for more info.)\n",
      "WARNING:root:Data would be auto-cached in default temporary location: /var/folders/lx/pn32t35562q_d2fbchp2r8wm0000gn/T/labptptm2, set labptptm2.config.cache_storage to other locations to suppress this warning\n",
      "                                                           \r"
     ]
    }
   ],
   "source": [
    "import os\n",
    "import numpy as np\n",
    "import pandas as pd\n",
    "from tqdm.auto import tqdm\n",
    "from functools import partial\n",
    "import matplotlib.pyplot as plt\n",
    "\n",
    "from commplax import util, optim\n",
    "from gdbp import gdbp_base as gb, data as gdat, aux\n",
    "\n",
    "data_train = gdat.load(1, 0, 4, 2)[0]\n",
    "data_test = gdat.load(2, 0, 4, 2)[0]\n",
    "\n",
    "# train\n",
    "def train_gdbp(data, dtaps=261, ntaps=41, meta='NN', renew_state=True, init_len=4000):\n",
    "  # sparam_keys = [('fdbp_0',)] \n",
    "  sparam_keys = [('fdbp_0',), ('RConv',)] \n",
    "  gdbp = gb.model_init(data, {'ntaps': 1, 'dtaps': dtaps, 'init_fn': gb.fdbp_init(data.a, xi=1.1, steps=3)},sparam_keys ,meta=meta,init_len=init_len)\n",
    "  return list(zip(*list(gb.train(gdbp, data, n_iter=2000, opt = optim.sgd(optim.piecewise_constant([500, 1000], [2e-5, 1e-5, 1e-6])), renew_state=renew_state))))"
   ]
  },
  {
   "cell_type": "code",
   "execution_count": 2,
   "metadata": {},
   "outputs": [
    {
     "name": "stderr",
     "output_type": "stream",
     "text": [
      "                                                              \r"
     ]
    }
   ],
   "source": [
    "loss_gdbp, params, state = train_gdbp(data_train, meta='NN', renew_state=True)"
   ]
  },
  {
   "cell_type": "code",
   "execution_count": 5,
   "metadata": {},
   "outputs": [
    {
     "data": {
      "text/plain": [
       "FrozenDict({})"
      ]
     },
     "execution_count": 5,
     "metadata": {},
     "output_type": "execute_result"
    }
   ],
   "source": [
    "params[100]"
   ]
  },
  {
   "cell_type": "code",
   "execution_count": 6,
   "metadata": {},
   "outputs": [
    {
     "data": {
      "text/plain": [
       "[<matplotlib.lines.Line2D at 0x7fc5c5a1cfa0>]"
      ]
     },
     "execution_count": 6,
     "metadata": {},
     "output_type": "execute_result"
    },
    {
     "data": {
      "image/png": "[encoded data removed]",
      "text/plain": [
       "<Figure size 432x288 with 1 Axes>"
      ]
     },
     "metadata": {
      "needs_background": "light"
     },
     "output_type": "display_data"
    }
   ],
   "source": [
    "plt.plot(loss_gdbp[:2000])"
   ]
  },
  {
   "cell_type": "code",
   "execution_count": null,
   "metadata": {},
   "outputs": [],
   "source": [
    "loss_gdbp, params, state = train_gdbp(data_train, meta='NN', renew_state=True)\n",
    "loss_gdbp1, params1, state1 = train_gdbp(data_train, meta='NN', renew_state=False, init_len=4000)\n",
    "# loss_gdbp2, params2, state2 = train_gdbp(data_train, meta=False, renew_state=False, init_len=8000)\n",
    "loss_gdbp3, params3, state3 = train_gdbp(data_train, meta='meta', renew_state=False)\n",
    "loss_gdbp4, params4, state4 = train_gdbp(data_train, meta='meta', renew_state=True)\n",
    "loss_gdbp5, params5, state5 = train_gdbp(data_train, meta='NN', renew_state=True)\n",
    "loss_gdbp6, params5, state5 = train_gdbp(data_train, meta='NN', renew_state=True)"
   ]
  },
  {
   "cell_type": "code",
   "execution_count": null,
   "metadata": {},
   "outputs": [],
   "source": [
    "plt.plot(loss_gdbp5)\n",
    "plt.plot(loss_gdbp6)"
   ]
  },
  {
   "cell_type": "code",
   "execution_count": null,
   "metadata": {},
   "outputs": [],
   "source": [
    "### 是否更新 adaptive filter : FOE + MIMOAF\n",
    "plt.plot(loss_gdbp, label='renew state')\n",
    "plt.plot(loss_gdbp2, label='fix state')\n",
    "plt.plot(loss_gdbp3, label='meta + fix state')\n",
    "plt.plot(loss_gdbp4, label='meta + renew state')\n",
    "plt.legend(loc='best')"
   ]
  },
  {
   "cell_type": "code",
   "execution_count": null,
   "metadata": {},
   "outputs": [],
   "source": [
    "## Kalman filter review\n",
    "\n",
    "\n",
    "## Adaptive filter 结构解析\n",
    "\n"
   ]
  },
  {
   "cell_type": "code",
   "execution_count": null,
   "metadata": {},
   "outputs": [],
   "source": [
    "## 加入我们的Meta 结构\n",
    "# Q: (1) ML上这个问题的提法？\n",
    "#    (2) Adaptive filter    vs    RNN,LSTM,Attention   (look MIMO renew, Kalman filter, RNN)\n",
    "#    (3) Our Meta Construct vs attention\n",
    "#    ！！！how to construct our meta net (input ??? )"
   ]
  },
  {
   "cell_type": "code",
   "execution_count": null,
   "metadata": {},
   "outputs": [],
   "source": [
    "## Testing\n",
    "# 整段 test\n",
    "gb.test()\n",
    "\n",
    "# 分段 test\n",
    "#To be do"
   ]
  },
  {
   "cell_type": "code",
   "execution_count": null,
   "metadata": {
    "tags": [
     "outputPrepend"
    ]
   },
   "outputs": [],
   "source": [
    "## data loader\n",
    "from torch.utils.data import Dataset\n",
    "from commplax import xop\n",
    "from torch.utils.data import DataLoader\n",
    "from gdbp import gdbp_base as gb, data as gdat, aux\n",
    "\n",
    "data_train = gdat.load(1, 0, 4, 2)[0]\n",
    "data_test = gdat.load(2, 0, 4, 2)[0]\n",
    "\n",
    "class TrainDataset(Dataset):\n",
    "    def __init__(self, data_train, sps=2, mimo_len=161):\n",
    "        super(TrainDataset,self).__init__()\n",
    "        self.xc = (mimo_len - 1)//2\n",
    "        self.sps = sps\n",
    "        self.mimo_len = mimo_len\n",
    "        self.x = data_train.x\n",
    "        self.y = data_train.y\n",
    "    \n",
    "    def __getitem__(self, index):\n",
    "        idx = index + self.xc\n",
    "        return self.y[(idx - self.xc) * self.sps:(idx + self.xc + 1) * self.sps], self.x[idx]   ################################ fix bugs\n",
    "    \n",
    "    def __len__(self):\n",
    "        return self.x.shape[0] - self.mimo_len + 1\n",
    "\n",
    "\n",
    "def get_data_loader(data_train, batch_size=128, mimo_len=161, shuffle=False):\n",
    "    train_data = TrainDataset(data_train, mimo_len=mimo_len)\n",
    "    train_loader = DataLoader(dataset=train_data, batch_size=batch_size, shuffle=shuffle) # shuffule = False 就是顺序sample\n",
    "    return train_loader\n",
    "\n",
    "train_loader = get_data_loader(data_train,batch_size=10, mimo_len=3)\n",
    "print('data loader is ready!')"
   ]
  },
  {
   "cell_type": "code",
   "execution_count": null,
   "metadata": {},
   "outputs": [],
   "source": [
    "## CNN\n",
    "import torch\n",
    "import torch.nn as nn\n",
    "import torch.nn.functional as F\n",
    "import numpy as np\n",
    "from complex_layers import complex_conv1d \n",
    "\n",
    "## torch complex\n",
    "import complex_layers as Cnn\n",
    "import complex_functions as CF \n",
    "\n",
    "act = Cnn.cNL()\n",
    "max_pool = Cnn.ComplexMaxPool1d\n",
    "avg_pool = Cnn.ComplexAvgPool1d\n",
    "class CNN(nn.Module):\n",
    "    def __init__(self):\n",
    "        super(CNN, self).__init__()\n",
    "        self.conv1 = complex_conv1d(2,2,3)\n",
    "        self.pool1 = max_pool(kernel_size=2)\n",
    "        self.conv2 = complex_conv1d(2,2,5)\n",
    "        self.pool2 = max_pool(kernel_size=2)\n",
    "        self.conv3 = complex_conv1d(2,2,3)\n",
    "        self.pool3 = avg_pool(kernel_size=2)\n",
    "        self.fc = complex_conv1d(2,2,38)\n",
    "\n",
    "\n",
    "    def forward(self,x):\n",
    "        x = act(self.pool1(self.conv1(x)))\n",
    "        x = act(self.pool2(self.conv2(x)))\n",
    "        x = act(self.pool3(self.conv3(x)))\n",
    "        x = self.fc(x).squeeze()\n",
    "        return x\n",
    "net1 = CNN()        \n",
    "\n",
    "# loss\n",
    "def MSE(x,y):\n",
    "    return torch.mean(torch.abs(x-y)**2)"
   ]
  },
  {
   "cell_type": "code",
   "execution_count": null,
   "metadata": {},
   "outputs": [],
   "source": [
    "## torch complex\n",
    "import complex_layers as Cnn\n",
    "import complex_functions as CF \n",
    "mimo_len = 11\n",
    "sps = 2\n",
    "pol = 2\n",
    "net2 = Cnn.ComplexLSTM(mimo_len * sps * pol, pol, 4)\n",
    "train_loader = get_data_loader(data_train, batch_size=100, mimo_len=mimo_len)\n",
    "\n",
    "def detach(state):\n",
    "    return (state[0].detach(), state[1].detach())\n",
    "\n",
    "import torch.optim as optim\n",
    "optimizer = optim.Adam(params=net2.parameters(), lr=0.01)\n",
    "loss_path = []\n",
    "for i,(y,x) in enumerate(train_loader):\n",
    "    # y: L x mimo_len * sps x pol      x: L x pol\n",
    "    optimizer.zero_grad()\n",
    "    L = y.shape[0]\n",
    "    y = y.reshape([L,-1])  # L x Hin\n",
    "    y = y.unsqueeze(1)     # L x 1 x Hin\n",
    "    if i == 0:\n",
    "        x_hat, state = net2(y)\n",
    "    else:\n",
    "        x_hat, state = net2(y, detach(state))   # x_hat: L x 1 x pol\n",
    "    x_hat = x_hat.squeeze()\n",
    "    loss = MSE(x_hat, x)\n",
    "    loss.backward()\n",
    "    optimizer.step()\n",
    "    loss_path.append(loss.item())\n",
    "    if i % 20 == 0:\n",
    "        print(f'iter {i}: loss: {loss.item()}')\n",
    "    if i == 200:\n",
    "        break"
   ]
  },
  {
   "cell_type": "code",
   "execution_count": null,
   "metadata": {},
   "outputs": [],
   "source": [
    "plt.plot(loss_path)"
   ]
  },
  {
   "cell_type": "code",
   "execution_count": null,
   "metadata": {},
   "outputs": [],
   "source": [
    "net = nn.LSTM(2,2,2)\n",
    "opt = optim.Adam(params=net.parameters(), lr=0.001)\n",
    "h0 = torch.zeros(2,5,2)\n",
    "c0 = torch.zeros(2,5,2)\n",
    "state = (h0,c0)\n",
    "# for i in range(1):\n",
    "x = torch.rand(10,5,2)\n",
    "y = torch.rand(10,5,2)\n",
    "opt.zero_grad()\n",
    "y_hat,state = net(x, state)\n",
    "# loss = MSE(y,y_hat)\n",
    "# loss.backward()\n",
    "# opt.step()\n",
    "# print(loss.item())"
   ]
  },
  {
   "cell_type": "code",
   "execution_count": null,
   "metadata": {},
   "outputs": [],
   "source": [
    "state[0].detach()"
   ]
  },
  {
   "cell_type": "code",
   "execution_count": null,
   "metadata": {},
   "outputs": [],
   "source": [
    "# data preprocess\n",
    "from commplax import comm, xcomm, equalizer as eq, plot as cplt\n",
    "cplt.scatter(data_train.y[0:2000])"
   ]
  },
  {
   "cell_type": "code",
   "execution_count": null,
   "metadata": {
    "tags": [
     "outputPrepend",
     "outputPrepend",
     "outputPrepend",
     "outputPrepend",
     "outputPrepend",
     "outputPrepend",
     "outputPrepend",
     "outputPrepend",
     "outputPrepend",
     "outputPrepend",
     "outputPrepend",
     "outputPrepend",
     "outputPrepend",
     "outputPrepend",
     "outputPrepend",
     "outputPrepend",
     "outputPrepend",
     "outputPrepend",
     "outputPrepend",
     "outputPrepend",
     "outputPrepend",
     "outputPrepend",
     "outputPrepend",
     "outputPrepend",
     "outputPrepend",
     "outputPrepend",
     "outputPrepend",
     "outputPrepend"
    ]
   },
   "outputs": [],
   "source": [
    "## Training\n",
    "import torch.optim as optim\n",
    "optimizer = optim.Adam(params=net.parameters(), lr=0.0001)\n",
    "\n",
    "Epochs = 200\n",
    "loss_path = []\n",
    "for i,(y,x) in enumerate(train_loader):\n",
    "    # data reshape\n",
    "    y = y.transpose(1,2)\n",
    "\n",
    "    ## training\n",
    "    optimizer.zero_grad()\n",
    "    loss = MSE(net(y), x)\n",
    "    loss.backward()\n",
    "    optimizer.step()\n",
    "    loss_path.append(loss.item())\n",
    "    if i % 20 == 0:\n",
    "        print(f'iter {i}: loss: {loss.item()}')\n"
   ]
  },
  {
   "cell_type": "code",
   "execution_count": null,
   "metadata": {},
   "outputs": [],
   "source": [
    "import matplotlib.pyplot as plt\n",
    "plt.plot(loss_path)"
   ]
  },
  {
   "cell_type": "code",
   "execution_count": null,
   "metadata": {},
   "outputs": [],
   "source": []
  }
 ],
 "metadata": {
  "interpreter": {
   "hash": "531552b898093c495d5d7fbfac81f0b68153c16134e4b180957a1aaadf98359a"
  },
  "kernelspec": {
   "display_name": "Python (comm)",
   "language": "python",
   "name": "python3"
  },
  "language_info": {
   "codemirror_mode": {
    "name": "ipython",
    "version": 3
   },
   "file_extension": ".py",
   "mimetype": "text/x-python",
   "name": "python",
   "nbconvert_exporter": "python",
   "pygments_lexer": "ipython3",
   "version": "3.8.12"
  },
  "orig_nbformat": 2
 },
 "nbformat": 4,
 "nbformat_minor": 2
}
