{
 "cells": [
  {
   "cell_type": "markdown",
   "metadata": {},
   "source": [
    "## Transmitter"
   ]
  },
  {
   "cell_type": "code",
   "execution_count": 1,
   "metadata": {},
   "outputs": [
    {
     "name": "stderr",
     "output_type": "stream",
     "text": [
      "WARNING:root:Data would be auto-cached in default temporary location: /tmp/labptptm2, set labptptm2.config.cache_storage to other locations to suppress this warning\n"
     ]
    }
   ],
   "source": [
    "from optical_flax.generate_data import Tx_data, channel, Rx_data\n",
    "import jax\n",
    "import jax.random as rd"
   ]
  },
  {
   "cell_type": "code",
   "execution_count": 3,
   "metadata": {},
   "outputs": [
    {
     "name": "stdout",
     "output_type": "stream",
     "text": [
      "Transmitter is working..\n",
      "Sample rate fa: 5.76e+11, Cut off frequency fc: 2.75e+11, fa > 2fc: True\n",
      "signal shape: (10, 1600000, 2), symb shape: (10, 100000, 11, 2)\n"
     ]
    }
   ],
   "source": [
    "key = rd.PRNGKey(123)\n",
    "batch = 10\n",
    "sigWDM, symbWDM, param = Tx_data(key, batch, Nch=11, Power=0, SpS=16)"
   ]
  },
  {
   "cell_type": "markdown",
   "metadata": {},
   "source": [
    "## Channel"
   ]
  },
  {
   "cell_type": "code",
   "execution_count": 4,
   "metadata": {},
   "outputs": [
    {
     "name": "stdout",
     "output_type": "stream",
     "text": [
      "data transmition...\n",
      "channel transmission done!\n",
      "Signal shape (10, 1600000, 2)\n"
     ]
    }
   ],
   "source": [
    "Fs = param.Rs*param.SpS  # sample rates\n",
    "sigWDM_rx, paramCh = channel(sigWDM, Fs)"
   ]
  },
  {
   "cell_type": "markdown",
   "metadata": {},
   "source": [
    "## Receiver"
   ]
  },
  {
   "cell_type": "code",
   "execution_count": 6,
   "metadata": {},
   "outputs": [],
   "source": [
    "key = rd.PRNGKey(234)\n",
    "rx_sps = 8\n",
    "data_sml = Rx_data(key, sigWDM_rx, symbWDM, rx_sps, param=param, paramCh=paramCh)"
   ]
  },
  {
   "cell_type": "code",
   "execution_count": 13,
   "metadata": {},
   "outputs": [],
   "source": [
    "from collections import namedtuple\n",
    "import pickle\n",
    "\n",
    "from optical_flax.utils import auto_rho\n",
    "DataInput = namedtuple('DataInput', ['y', 'x', 'w0', 'a'])"
   ]
  }
 ],
 "metadata": {
  "interpreter": {
   "hash": "f4b9236e0601dae4b8f5d171a608b9d19163b63d094210553e37100e1902b344"
  },
  "kernelspec": {
   "display_name": "Python 3.8.12 ('commplax')",
   "language": "python",
   "name": "python3"
  },
  "language_info": {
   "codemirror_mode": {
    "name": "ipython",
    "version": 3
   },
   "file_extension": ".py",
   "mimetype": "text/x-python",
   "name": "python",
   "nbconvert_exporter": "python",
   "pygments_lexer": "ipython3",
   "version": "3.8.12"
  },
  "orig_nbformat": 4
 },
 "nbformat": 4,
 "nbformat_minor": 2
}
