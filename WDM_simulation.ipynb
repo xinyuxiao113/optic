{
 "cells": [
  {
   "cell_type": "markdown",
   "metadata": {},
   "source": [
    "## Constant folding is too slow here\n",
    "1. fft operate a global variable\n",
    "2. The second run is fast\n",
    "3. solution: pass the global variable as a arg"
   ]
  },
  {
   "cell_type": "code",
   "execution_count": 7,
   "metadata": {},
   "outputs": [
    {
     "name": "stdout",
     "output_type": "stream",
     "text": [
      "time cost on gpu: 7.2172324657440186\n",
      "time cost on cpu: 0.03505373001098633\n"
     ]
    }
   ],
   "source": [
    "import time\n",
    "import jax\n",
    "import numpy as np\n",
    "import jax.numpy as jnp\n",
    "\n",
    "key = jax.random.PRNGKey(0)\n",
    "\n",
    "def f():\n",
    "    pulse = jax.device_put(np.arange(8000)+1.0j)\n",
    "    #pulse = jax.random.normal(key, (8000,))\n",
    "    return jnp.fft.fft(pulse)\n",
    "\n",
    "t0 = time.time()\n",
    "a = jax.jit(f, backend='gpu')()\n",
    "t1 = time.time()\n",
    "print('time cost on gpu:',t1-t0)\n",
    "\n",
    "\n",
    "t0 = time.time()\n",
    "a = jax.jit(f, backend='cpu')()\n",
    "t1 = time.time()\n",
    "print('time cost on cpu:',t1-t0)"
   ]
  },
  {
   "cell_type": "code",
   "execution_count": 4,
   "metadata": {},
   "outputs": [
    {
     "name": "stdout",
     "output_type": "stream",
     "text": [
      "time cost on gpu: 0.00124359130859375\n",
      "time cost on cpu: 0.0014529228210449219\n"
     ]
    }
   ],
   "source": [
    "t0 = time.time()\n",
    "a = jax.jit(f, backend='gpu')()\n",
    "t1 = time.time()\n",
    "print('time cost on gpu:',t1-t0)\n",
    "\n",
    "\n",
    "t0 = time.time()\n",
    "a = jax.jit(f, backend='cpu')()\n",
    "t1 = time.time()\n",
    "print('time cost on cpu:',t1-t0)"
   ]
  },
  {
   "cell_type": "code",
   "execution_count": 10,
   "metadata": {},
   "outputs": [
    {
     "name": "stdout",
     "output_type": "stream",
     "text": [
      "time cost on gpu: 6.859097957611084\n"
     ]
    }
   ],
   "source": [
    "@jax.jit\n",
    "def f(x):\n",
    "  large_constant = jax.device_put(np.random.rand(8000))\n",
    "  def g(y):\n",
    "     return jnp.fft.fft(large_constant) + y # okay\n",
    "  return g(x)\n",
    "\n",
    "t0 = time.time()\n",
    "f(1)\n",
    "t1 = time.time()\n",
    "print('time cost on gpu:',t1-t0)"
   ]
  },
  {
   "cell_type": "code",
   "execution_count": 5,
   "metadata": {},
   "outputs": [
    {
     "name": "stdout",
     "output_type": "stream",
     "text": [
      "time cost on gpu: 0.9139416217803955\n",
      "time cost on cpu: 0.15781903266906738\n"
     ]
    }
   ],
   "source": [
    "import time\n",
    "import jax\n",
    "import numpy as np\n",
    "import jax.numpy as jnp\n",
    "\n",
    "pulse = jax.device_put(np.random.rand(1000000))\n",
    "\n",
    "def f(pulse):\n",
    "    return jnp.fft.fft(pulse)\n",
    "\n",
    "t0 = time.time()\n",
    "a = jax.jit(f, backend='gpu')(pulse)\n",
    "t1 = time.time()\n",
    "print('time cost on gpu:',t1-t0)\n",
    "\n",
    "\n",
    "t0 = time.time()\n",
    "a = jax.jit(f, backend='cpu')(pulse)\n",
    "t1 = time.time()\n",
    "print('time cost on cpu:',t1-t0)"
   ]
  },
  {
   "cell_type": "markdown",
   "metadata": {},
   "source": [
    "# WDM system"
   ]
  },
  {
   "cell_type": "markdown",
   "metadata": {},
   "source": [
    "## Transmitter\n",
    "---"
   ]
  },
  {
   "cell_type": "code",
   "execution_count": 1,
   "metadata": {},
   "outputs": [
    {
     "name": "stderr",
     "output_type": "stream",
     "text": [
      "WARNING:root:Data would be auto-cached in default temporary location: /tmp/labptptm2, set labptptm2.config.cache_storage to other locations to suppress this warning\n",
      "100%|██████████| 20/20 [00:00<00:00, 98.39it/s]\n"
     ]
    }
   ],
   "source": [
    "import matplotlib.pyplot as plt\n",
    "import numpy as np\n",
    "import jax\n",
    "import jax.numpy as jnp\n",
    "from jax import device_put, device_get\n",
    "import jax.random as random\n",
    "from commplax.module import core\n",
    "\n",
    "import optical_flax.base as base\n",
    "from optical_flax.models import manakov_ssf, cssfm\n",
    "from optical_flax.tx import simpleWDMTx\n",
    "from optical_flax.core import parameters\n",
    "from optical_flax.dsp import simple_dsp, mimo_dsp\n",
    "from collections import namedtuple\n",
    "import pickle\n",
    "\n",
    "from gdbp import gdbp_base as gb, data as gdat, aux\n",
    "import optax\n",
    "from optical_flax.utils import auto_rho\n",
    "Input = namedtuple('DataInput', ['y', 'x', 'w0', 'a'])\n",
    "\n",
    "## 测试进度条\n",
    "from tqdm import tqdm\n",
    "from time import sleep\n",
    "for i in tqdm(range(20)):\n",
    "        sleep(.01)"
   ]
  },
  {
   "cell_type": "code",
   "execution_count": 9,
   "metadata": {},
   "outputs": [],
   "source": [
    "## Transmitter\n",
    "from optical_flax.tx import QAM\n",
    "from functools import partial\n",
    "from optical_flax.dsp import pulseShape\n",
    "param = parameters()\n",
    "param.M   = 16           # modulation formate\n",
    "param.Rs  = 36e9         # symbol rate [baud]\n",
    "param.SpS = 16            # samples/symb\n",
    "param.Nbits = 400000      # number of bits\n",
    "param.pulse_type = 'rc'   # formato de pulso\n",
    "param.Ntaps = 4096       # número de coeficientes do filtro RRC\n",
    "param.alphaRRC = 0.1    # rolloff do filtro RRC\n",
    "param.Pch_dBm = 0        # potência média por canal WDM [dBm]\n",
    "param.Nch     = 11       # número de canais WDM\n",
    "param.Fc      = 299792458/1550E-9 # frequência central do espectro WDM\n",
    "param.freqSpac = 50e9    # espaçamento em frequência da grade de canais WDM\n",
    "param.Nmodes = 2         # número de modos de polarização\n",
    "param.mod = QAM(M=param.M)  # modulation\n",
    "param.equation = 'NLSE'\n",
    "\n",
    "# pulse shaping\n",
    "Ts  = 1/param.Rs        # symbol period [s]\n",
    "if param.pulse_type == 'nrz':\n",
    "    pulse = pulseShape('nrz', param.SpS)\n",
    "elif param.pulse_type == 'rrc':\n",
    "    pulse = pulseShape('rrc', param.SpS, N=param.Ntaps, alpha=param.alphaRRC, Ts=Ts)\n",
    "elif param.pulse_type == 'rc':\n",
    "    pulse = pulseShape('rc', param.SpS, N=param.Ntaps, alpha=param.alphaRRC, Ts=Ts)\n",
    "pulse = jax.device_put(pulse/np.max(np.abs(pulse)))\n",
    "param.pulse = pulse\n",
    "\n",
    "# central frequencies of the WDM channels\n",
    "freqGrid = np.arange(-int(param.Nch/2), int(param.Nch/2)+1,1)*param.freqSpac\n",
    "if (param.Nch % 2) == 0:\n",
    "    freqGrid += param.freqSpac/2\n",
    "\n",
    "if param.equation == 'NLSE':\n",
    "    param.freqGrid = freqGrid\n",
    "else:\n",
    "    param.freqGrid = freqGrid*0\n",
    "\n",
    "# import pickle\n",
    "# path = 'sml_data/Tx_ch7_N4e6'\n",
    "# with open(path,'wb') as file:\n",
    "#     pickle.dump((sigWDM_Tx, symbTx_, param), file)\n",
    "# print('data is saved!')"
   ]
  },
  {
   "cell_type": "code",
   "execution_count": 10,
   "metadata": {},
   "outputs": [
    {
     "name": "stdout",
     "output_type": "stream",
     "text": [
      "Sample rate fa: 5.76e+11, Cut off frequency fc: 2.75e+11, fa > 2fc: True\n",
      "signal shape: (10, 1600000, 2), symb shape: (10, 100000, 11, 2)\n"
     ]
    }
   ],
   "source": [
    "key = jax.random.PRNGKey(123)\n",
    "batch = 10\n",
    "key_full = jax.random.split(key, batch)\n",
    "signal = []\n",
    "symbol = []\n",
    "for i in range(batch):\n",
    "    sigWDM_Tx, symbTx_ = simpleWDMTx(key_full[i], pulse, param)\n",
    "    signal.append(sigWDM_Tx)\n",
    "    symbol.append(symbTx_)\n",
    "\n",
    "sigWDM = jnp.stack(signal, 0)\n",
    "symbWDM = jnp.stack(symbol, 0)\n",
    "print(f'signal shape: {sigWDM.shape}, symb shape: {symbWDM.shape}')\n"
   ]
  },
  {
   "cell_type": "code",
   "execution_count": 11,
   "metadata": {},
   "outputs": [
    {
     "data": {
      "text/plain": [
       "Text(0.5, 1.0, 'optical WDM spectrum')"
      ]
     },
     "execution_count": 11,
     "metadata": {},
     "output_type": "execute_result"
    },
    {
     "data": {
      "image/png": "[encoded data removed]",
      "text/plain": [
       "<Figure size 432x288 with 1 Axes>"
      ]
     },
     "metadata": {
      "needs_background": "light"
     },
     "output_type": "display_data"
    }
   ],
   "source": [
    "# plot psd\n",
    "plt.figure()\n",
    "plt.psd(sigWDM[0,:,0], Fs=param.SpS*param.Rs, Fc=param.Fc, NFFT = 4*1024, sides='twosided', label = 'WDM spectrum - Tx')\n",
    "plt.legend(loc='lower left')\n",
    "plt.title('optical WDM spectrum')"
   ]
  },
  {
   "cell_type": "markdown",
   "metadata": {},
   "source": [
    "## channel\n",
    "---"
   ]
  },
  {
   "cell_type": "code",
   "execution_count": 12,
   "metadata": {},
   "outputs": [],
   "source": [
    "np.random.seed(2333)\n",
    "linearChannel = False\n",
    "paramCh = parameters()\n",
    "paramCh.Ltotal = 1125   # km\n",
    "paramCh.Lspan  = 75     # km\n",
    "paramCh.alpha = 0.2    # dB/km\n",
    "paramCh.D = 16.5       # ps/nm/km\n",
    "paramCh.Fc = 299792458/1550E-9 # Hz\n",
    "paramCh.hz =  1      # km\n",
    "paramCh.gamma = 1.3174420805376552    # 1/(W.km)\n",
    "paramCh.amp = 'edfa'\n",
    "paramCh.NF = 4.5\n",
    "if linearChannel:\n",
    "    paramCh.hz = paramCh.Lspan  # km\n",
    "    paramCh.gamma = 0   # 1/(W.km)\n",
    "Fs = param.Rs*param.SpS  # sample rates\n",
    "from optical_flax.models import ssfm, manakov_ssf"
   ]
  },
  {
   "cell_type": "code",
   "execution_count": 13,
   "metadata": {},
   "outputs": [
    {
     "name": "stdout",
     "output_type": "stream",
     "text": [
      "(10, 1600000, 2)\n"
     ]
    }
   ],
   "source": [
    "sigWDM_ = jax.vmap(manakov_ssf,in_axes=(0,None,None), out_axes=0)(sigWDM, Fs, paramCh) \n",
    "print(sigWDM_.shape)"
   ]
  },
  {
   "cell_type": "markdown",
   "metadata": {},
   "source": [
    "## Rx"
   ]
  },
  {
   "cell_type": "code",
   "execution_count": 14,
   "metadata": {},
   "outputs": [],
   "source": [
    "### Receiver\n",
    "from optical_flax.rx import simpleRx, sml_dataset\n",
    "np.random.seed(123)\n",
    "paramRx = parameters()\n",
    "paramRx.chid = int(param.Nch / 2) \n",
    "paramRx.sps = 2\n",
    "paramRx.lw = 100e3       # linewidth\n",
    "paramRx.Rs = param.Rs\n",
    "FO = 64e6           # frequency offset\n",
    "paramRx.FO = FO\n",
    "\n",
    "paramRx.tx_sps = param.SpS\n",
    "paramRx.pulse = param.pulse\n",
    "paramRx.Ta = 1/(param.SpS*param.Rs)\n",
    "\n",
    "\n",
    "key_rx = jax.random.PRNGKey(233)\n",
    "key_rx_full = jax.random.split(key_rx, batch)\n",
    "sigRx = jax.vmap(simpleRx, in_axes=(0,None,None,0,None),out_axes=0)(key_rx_full, FO, param.freqGrid[paramRx.chid], sigWDM_, paramRx)"
   ]
  },
  {
   "cell_type": "code",
   "execution_count": 15,
   "metadata": {},
   "outputs": [
    {
     "name": "stdout",
     "output_type": "stream",
     "text": [
      "(10, 200000, 2)\n"
     ]
    }
   ],
   "source": [
    "print(sigRx.shape)"
   ]
  },
  {
   "cell_type": "code",
   "execution_count": null,
   "metadata": {},
   "outputs": [
    {
     "name": "stdout",
     "output_type": "stream",
     "text": [
      "signal shape: (16000000, 2), symb shape: (1000000, 2, 7)\n"
     ]
    }
   ],
   "source": [
    "import pickle\n",
    "path = 'sml_data/Tx_ch7_N4e6'\n",
    "\n",
    "with open(path,'rb') as file:\n",
    "    sigWDM_Tx, symbTx_, param = pickle.load(file)\n",
    "\n",
    "print(f'signal shape: {sigWDM_Tx.shape}, symb shape: {symbTx_.shape}')"
   ]
  },
  {
   "cell_type": "code",
   "execution_count": null,
   "metadata": {},
   "outputs": [
    {
     "name": "stderr",
     "output_type": "stream",
     "text": [
      "100%|██████████| 15/15 [15:16<00:00, 61.13s/it]\n"
     ]
    },
    {
     "name": "stdout",
     "output_type": "stream",
     "text": [
      "Local oscillator P: 10.00 dBm, lw: 100.00 kHz, FO: 64.00 MHz\n",
      "\n",
      "data has been saved!\n"
     ]
    },
    {
     "data": {
      "image/png": "[encoded data removed]",
      "text/plain": [
       "<Figure size 576x216 with 1 Axes>"
      ]
     },
     "metadata": {
      "needs_background": "light"
     },
     "output_type": "display_data"
    }
   ],
   "source": [
    "## optical fiber\n",
    "np.random.seed(2333)\n",
    "linearChannel = False\n",
    "paramCh = parameters()\n",
    "paramCh.Ltotal = 1125   # km\n",
    "paramCh.Lspan  = 75     # km\n",
    "paramCh.alpha = 0.2    # dB/km\n",
    "paramCh.D = 16.5       # ps/nm/km\n",
    "paramCh.Fc = 299792458/1550E-9 # Hz\n",
    "paramCh.hz =  15      # km\n",
    "paramCh.gamma = 1.3174420805376552    # 1/(W.km)\n",
    "paramCh.amp = 'edfa'\n",
    "if linearChannel:\n",
    "    paramCh.hz = paramCh.Lspan  # km\n",
    "    paramCh.gamma = 0   # 1/(W.km)\n",
    "Fs = param.Rs*param.SpS  # sample rates\n",
    "# sigWDM_, paramCh = ssfm(sigWDM_Tx, Fs, paramCh) \n",
    "sigWDM, paramCh = manakov_ssf(sigWDM_Tx, Fs, paramCh) \n",
    "\n",
    "# plot psd of tx and rx\n",
    "plt.figure(figsize=(8,3))\n",
    "plt.xlim(paramCh.Fc-Fs/2,paramCh.Fc+Fs/2)\n",
    "plt.psd(sigWDM_Tx[:,0], Fs=param.SpS*param.Rs, Fc=paramCh.Fc, NFFT = 4*1024, sides='twosided', label = 'WDM spectrum - Tx')\n",
    "plt.psd(sigWDM[:,0], Fs=Fs, Fc=paramCh.Fc, NFFT = 4*1024, sides='twosided', label = 'WDM spectrum - Rx')\n",
    "plt.legend(loc='lower left')\n",
    "plt.title('optical WDM spectrum')\n",
    "\n",
    "\n",
    "### Receiver\n",
    "from optical_flax.rx import simpleRx, sml_dataset\n",
    "np.random.seed(123)\n",
    "paramRx = parameters()\n",
    "paramRx.chid = int(param.Nch / 2)\n",
    "paramRx.sps = 2\n",
    "paramRx.lw = 100e3       # linewidth\n",
    "paramRx.Rs = param.Rs\n",
    "FO = 64e6           # frequency offset\n",
    "\n",
    "paramRx.tx_sps = param.SpS\n",
    "paramRx.pulse = param.pulse\n",
    "paramRx.freq = param.freqGrid[paramRx.chid]\n",
    "paramRx.Ta = 1/(param.SpS*param.Rs)\n",
    "\n",
    "sigRx, paramRx = simpleRx(sigWDM, paramRx)\n",
    "data_sml = sml_dataset(sigRx, symbTx_, param, paramCh, paramRx, save=True, path='sml_data/dataset_ch7_N4e6_dz15')\n"
   ]
  }
 ],
 "metadata": {
  "interpreter": {
   "hash": "531552b898093c495d5d7fbfac81f0b68153c16134e4b180957a1aaadf98359a"
  },
  "kernelspec": {
   "display_name": "Python 3.8.12 ('commplax')",
   "language": "python",
   "name": "python3"
  },
  "language_info": {
   "codemirror_mode": {
    "name": "ipython",
    "version": 3
   },
   "file_extension": ".py",
   "mimetype": "text/x-python",
   "name": "python",
   "nbconvert_exporter": "python",
   "pygments_lexer": "ipython3",
   "version": "3.8.12"
  },
  "orig_nbformat": 4
 },
 "nbformat": 4,
 "nbformat_minor": 2
}
