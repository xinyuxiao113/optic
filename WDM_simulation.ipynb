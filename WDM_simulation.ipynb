{
 "cells": [
  {
   "cell_type": "markdown",
   "metadata": {},
   "source": [
    "# WDM simulation"
   ]
  },
  {
   "cell_type": "markdown",
   "metadata": {},
   "source": [
    "## Transmitter"
   ]
  },
  {
   "cell_type": "code",
   "execution_count": 32,
   "metadata": {},
   "outputs": [],
   "source": [
    "from optical_flax.fiber_system import Tx_data, channel, Rx_data\n",
    "import jax\n",
    "import jax.random as rd"
   ]
  },
  {
   "cell_type": "code",
   "execution_count": 40,
   "metadata": {},
   "outputs": [
    {
     "name": "stdout",
     "output_type": "stream",
     "text": [
      "Sample rate fa: 5.76e+11, Cut off frequency fc: 2.75e+11, fa > 2fc: True\n",
      "Transmitter is working..\n",
      "signal shape: (160000, 2), symb shape: (10000, 11, 2)\n",
      " Tx_data complete, time cost(s):2.1982429027557373\n"
     ]
    }
   ],
   "source": [
    "key = rd.PRNGKey(123)\n",
    "batch = 1\n",
    "sigWDM, symbWDM, param = Tx_data(key, batch, Nch=11, Power=0, SpS=16, Nbits=40000)"
   ]
  },
  {
   "cell_type": "code",
   "execution_count": 45,
   "metadata": {},
   "outputs": [
    {
     "data": {
      "text/plain": [
       "3"
      ]
     },
     "execution_count": 45,
     "metadata": {},
     "output_type": "execute_result"
    }
   ],
   "source": [
    "symbWDM.ndim"
   ]
  },
  {
   "cell_type": "markdown",
   "metadata": {},
   "source": [
    "## Channel"
   ]
  },
  {
   "cell_type": "code",
   "execution_count": 41,
   "metadata": {},
   "outputs": [
    {
     "name": "stdout",
     "output_type": "stream",
     "text": [
      "data transmition...\n",
      "channel transmission done!\n",
      "Signal shape (160000, 2)\n",
      " channel complete, time cost(s):1.8491175174713135\n"
     ]
    }
   ],
   "source": [
    "Fs = param.Rs*param.SpS  # sample rates\n",
    "key = rd.PRNGKey(134)\n",
    "sigWDM_rx, paramCh = channel(key,sigWDM, Fs)"
   ]
  },
  {
   "cell_type": "markdown",
   "metadata": {},
   "source": [
    "## Receiver"
   ]
  },
  {
   "cell_type": "code",
   "execution_count": 42,
   "metadata": {},
   "outputs": [
    {
     "name": "stdout",
     "output_type": "stream",
     "text": [
      " Rx_data complete, time cost(s):9.163892269134521\n"
     ]
    }
   ],
   "source": [
    "key = rd.PRNGKey(234)\n",
    "rx_sps = 8\n",
    "data_sml, paramRx, noise = Rx_data(key, sigWDM_rx, symbWDM, rx_sps, param=param, paramCh=paramCh)"
   ]
  },
  {
   "cell_type": "code",
   "execution_count": 44,
   "metadata": {},
   "outputs": [
    {
     "data": {
      "text/plain": [
       "(10000, 11)"
      ]
     },
     "execution_count": 44,
     "metadata": {},
     "output_type": "execute_result"
    }
   ],
   "source": [
    "data_sml.x.shape"
   ]
  },
  {
   "cell_type": "markdown",
   "metadata": {},
   "source": [
    "## CDC 实现对比"
   ]
  },
  {
   "cell_type": "code",
   "execution_count": 10,
   "metadata": {},
   "outputs": [
    {
     "name": "stdout",
     "output_type": "stream",
     "text": [
      "0.001432005\n"
     ]
    }
   ],
   "source": [
    "## CDC 实现对比\n",
    "from optical_flax.layers import fdbp\n",
    "from commplax.module import core\n",
    "import jax.random as random\n",
    "from optical_flax.initializers import fdbp_init\n",
    "from optical_flax.dsp import firFilter, edc, fourthPowerFOE, dbp, cpr2, downsampling, simple_cpr, test_result\n",
    "\n",
    "d_init, n_init = fdbp_init(data_sml.a, xi=0.0, steps=1, domain='time')\n",
    "cdc = fdbp(steps = 1, dtaps=2001, ntaps=1, d_init=d_init, n_init=n_init)\n",
    "key = random.PRNGKey(0)\n",
    "cdc_param = cdc.init(key, core.Signal(data_sml.y))\n",
    "y = cdc.apply(cdc_param, core.Signal(data_sml.y))\n",
    "\n",
    "\n",
    "y1,H = edc(data_sml.y, paramCh.Ltotal, paramCh.D, param.Fc - paramRx.freq, param.Rs * paramRx.sps)\n",
    "from optical_flax.utils import MSE\n",
    "print(MSE(y.val,y1[y.t.start:y.t.stop])/MSE(y.val,0))"
   ]
  },
  {
   "cell_type": "markdown",
   "metadata": {},
   "source": [
    "# Experiments"
   ]
  },
  {
   "cell_type": "code",
   "execution_count": 1,
   "metadata": {},
   "outputs": [
    {
     "name": "stderr",
     "output_type": "stream",
     "text": [
      "WARNING:root:Data would be auto-cached in default temporary location: /tmp/labptptm2, set labptptm2.config.cache_storage to other locations to suppress this warning\n"
     ]
    },
    {
     "data": {
      "application/vnd.jupyter.widget-view+json": {
       "model_id": "2cdbb9028ae2463ea1803b13f99af148",
       "version_major": 2,
       "version_minor": 0
      },
      "text/plain": [
       "loading data:   0%|          | 0/1 [00:00<?, ?it/s]"
      ]
     },
     "metadata": {},
     "output_type": "display_data"
    },
    {
     "data": {
      "application/vnd.jupyter.widget-view+json": {
       "model_id": "0020ed5af9964528947b633eb09c1719",
       "version_major": 2,
       "version_minor": 0
      },
      "text/plain": [
       "loading data:   0%|          | 0/1 [00:00<?, ?it/s]"
      ]
     },
     "metadata": {},
     "output_type": "display_data"
    }
   ],
   "source": [
    "import jax\n",
    "import jax.numpy as jnp\n",
    "from jax import device_put, device_get\n",
    "import jax.random as random\n",
    "import numpy as np\n",
    "import flax.linen as nn\n",
    "import optax\n",
    "from functools import partial, wraps\n",
    "from typing import Any, NamedTuple,Callable, Iterable, Optional, Tuple, Union,Sequence\n",
    "from optical_flax.utils import realize, normal_init, show_tree, tree_r2c, tree_c2r\n",
    "from collections import namedtuple\n",
    "from flax.core import freeze, unfreeze\n",
    "from commplax.module import core\n",
    "from commplax.module.core import SigTime, Signal, zeros, conv1d_t, vmap,wpartial,delta,gauss\n",
    "import optical_flax.base as base\n",
    "import optical_flax.layers as layers\n",
    "import optax\n",
    "import matplotlib.pyplot as plt\n",
    "## Define datax\n",
    "from gdbp import gdbp_base as gb, data as gdat, aux\n",
    "data_train = gdat.load(1, 0, 4, 2)[0]\n",
    "data_test = gdat.load(2, 0, 4, 2)[0]"
   ]
  },
  {
   "cell_type": "code",
   "execution_count": 2,
   "metadata": {},
   "outputs": [
    {
     "data": {
      "text/plain": [
       "{'baudrate': 36000000000.0,\n",
       " 'channelindex': 4,\n",
       " 'channels': 7,\n",
       " 'distance': 1125000.0,\n",
       " 'lpdbm': 0.0,\n",
       " 'lpw': 0.001,\n",
       " 'modformat': '16QAM',\n",
       " 'polmux': 1,\n",
       " 'samplerate': 72000000000.0,\n",
       " 'spans': 15,\n",
       " 'srcid': 'src1',\n",
       " 'CD': 18.451}"
      ]
     },
     "execution_count": 2,
     "metadata": {},
     "output_type": "execute_result"
    }
   ],
   "source": [
    "data_train.a"
   ]
  },
  {
   "cell_type": "markdown",
   "metadata": {},
   "source": [
    "## 1.FDBP Model"
   ]
  },
  {
   "cell_type": "code",
   "execution_count": 4,
   "metadata": {},
   "outputs": [
    {
     "data": {
      "application/vnd.jupyter.widget-view+json": {
       "model_id": "1fac5bf7cefc43cabeb6cba0f6627194",
       "version_major": 2,
       "version_minor": 0
      },
      "text/plain": [
       "training:   0%|          | 0/2000 [00:00<?, ?it/s]"
      ]
     },
     "metadata": {},
     "output_type": "display_data"
    },
    {
     "name": "stderr",
     "output_type": "stream",
     "text": [
      "/home/xiaoxinyu/.conda/envs/commplax/lib/python3.8/site-packages/jax/_src/tree_util.py:188: FutureWarning: jax.tree_util.tree_multimap() is deprecated. Please use jax.tree_util.tree_map() instead as a drop-in replacement.\n",
      "  warnings.warn('jax.tree_util.tree_multimap() is deprecated. Please use jax.tree_util.tree_map() '\n"
     ]
    }
   ],
   "source": [
    "## Training FDBP Model on a signal \n",
    "from commplax import optim \n",
    "lr = optim.piecewise_constant([500, 1000], [2e-5, 1e-5, 1e-6])\n",
    "tx = optax.adam(learning_rate=lr)\n",
    "\n",
    "## define model\n",
    "batch_size = 500\n",
    "sparams_flatkeys = []  # [('FDBP',),('RConv',)]\n",
    "model = base.model_init(data_train,sparams_flatkeys=sparams_flatkeys)  \n",
    "gen = base.train(model, data_train, batch_size=500, n_iter=2000, tx=tx)\n",
    "loss0, Train0 = base.run_result(gen)"
   ]
  },
  {
   "cell_type": "markdown",
   "metadata": {},
   "source": [
    "## 2.Meta-DBP Model"
   ]
  },
  {
   "cell_type": "code",
   "execution_count": null,
   "metadata": {},
   "outputs": [],
   "source": [
    "## Meta DBP :\n",
    "from optical_flax.layers import MetaSSFM, GRU_DBP, fdbp\n",
    "from commplax import optim \n",
    "lr = optim.piecewise_constant([500, 1000], [2e-5, 1e-5, 1e-6])\n",
    "tx = optax.adam(learning_rate=lr)\n",
    "sparams_flatkeys =   [] # [('DBP',),('RConv',)]\n",
    "model = base.model_init(data_train,init_len = 1990, sparams_flatkeys=sparams_flatkeys,domain='frequency',GDBP=MetaSSFM, dtaps=1990, ntaps=1)  \n",
    "gen = base.train(model, data_train, batch_size=500, n_iter=2000, tx=tx)\n",
    "loss1, Train1 = base.run_result(gen)"
   ]
  },
  {
   "cell_type": "markdown",
   "metadata": {},
   "source": [
    "## 3.GRU-DBP"
   ]
  },
  {
   "cell_type": "code",
   "execution_count": null,
   "metadata": {},
   "outputs": [],
   "source": [
    "## GRU DBP : 输入的Batch size 需要调整\n",
    "from optical_flax.layers import MetaSSFM, GRU_DBP, fdbp\n",
    "from commplax import optim \n",
    "lr = optim.piecewise_constant([500, 1000], [2e-5, 1e-5, 1e-6])\n",
    "tx = optax.adam(learning_rate=lr)\n",
    "sparams_flatkeys = []  # [('FDBP',),('RConv',)]\n",
    "model = base.model_init(data_train,init_len = 2000, sparams_flatkeys=sparams_flatkeys,domain='time',GDBP=GRU_DBP ,dtaps=261, n_taps=1)  \n",
    "gen = base.train(model, data_train, batch_size=500, n_iter=10, tx=tx)\n",
    "loss2, Train2 = base.run_result(gen)"
   ]
  },
  {
   "cell_type": "code",
   "execution_count": null,
   "metadata": {},
   "outputs": [],
   "source": [
    "### 可视化阶段性结果\n",
    "import optical_flax.layers as layers\n",
    "from commplax import plot as cplt\n",
    "\n",
    "fdbp = realize(layers.fdbp())\n",
    "params = Train1[-1].params['DBP']\n",
    "y = core.Signal(data_train.y[1000:2990])\n",
    "\n",
    "key = random.PRNGKey(0)\n",
    "init_p = fdbp.init(key, y)\n",
    "z = fdbp.apply({'const':init_p['const'], 'params':params}, y)\n",
    "\n",
    "cplt.scatter(y.val)\n",
    "cplt.scatter(z.val)"
   ]
  },
  {
   "cell_type": "markdown",
   "metadata": {},
   "source": [
    "# Signal Processing"
   ]
  },
  {
   "cell_type": "markdown",
   "metadata": {},
   "source": [
    "## 1.Dispersion operator"
   ]
  },
  {
   "cell_type": "code",
   "execution_count": 5,
   "metadata": {},
   "outputs": [
    {
     "data": {
      "text/plain": [
       "DeviceArray(0.07536945, dtype=float32)"
      ]
     },
     "execution_count": 5,
     "metadata": {},
     "output_type": "execute_result"
    },
    {
     "data": {
      "image/png": "[encoded data removed]",
      "text/plain": [
       "<Figure size 432x288 with 1 Axes>"
      ]
     },
     "metadata": {
      "needs_background": "light"
     },
     "output_type": "display_data"
    }
   ],
   "source": [
    "## Data Loading test\n",
    "import matplotlib.pyplot as plt\n",
    "n_batch, batch_gen = gb.get_train_batch(data_train, batchsize=500, overlaps=model.overlaps,sps=2) \n",
    "for (y, x) in batch_gen:\n",
    "    break\n",
    "\n",
    "## dbp_params  Time domian dispersion kernel\n",
    "from commplax import comm\n",
    "a = data_train.a\n",
    "h,phi = comm.dbp_params(a['samplerate'], a['distance'] / a['spans'],a['spans'], 1001,\n",
    "            a['lpdbm'] - 3, \n",
    "            virtual_spans=1,\n",
    "            ignore_beta3=False)\n",
    "\n",
    "ifft = jnp.fft.ifft\n",
    "fft = jnp.fft.fft\n",
    "h0 = h[0,:,1]\n",
    "plt.plot(jnp.abs(h0))\n",
    "\n",
    "\n",
    "from optical_flax.initializers import fdbp_init\n",
    "d_init, n_init = fdbp_init(data_train.a, steps=3)\n",
    "key = random.PRNGKey(0)\n",
    "jnp.sum(n_init(key, (3,)))"
   ]
  },
  {
   "cell_type": "code",
   "execution_count": 6,
   "metadata": {},
   "outputs": [
    {
     "data": {
      "text/plain": [
       "[<matplotlib.lines.Line2D at 0x7fa2dca8cb80>]"
      ]
     },
     "execution_count": 6,
     "metadata": {},
     "output_type": "execute_result"
    },
    {
     "data": {
      "image/png": "[encoded data removed]",
      "text/plain": [
       "<Figure size 432x288 with 1 Axes>"
      ]
     },
     "metadata": {
      "needs_background": "light"
     },
     "output_type": "display_data"
    }
   ],
   "source": [
    "from optical_flax.dsp import linFiberCh\n",
    "linearChannel = False\n",
    "paramCh = parameters()\n",
    "paramCh.D = 16.5       # ps/nm/km\n",
    "paramCh.Fc = 193.4e12  # Hz\n",
    "paramCh.hz =  10      # km\n",
    "paramCh.gamma = 1.3174420805376552    # 1/(W.km)\n",
    "paramCh.amp = 'edfa'\n",
    "_,H = linFiberCh(np.zeros(1001), a['distance'], 0, paramCh.D, paramCh.Fc, a['samplerate']/1e3)\n",
    "plt.plot(np.abs(ifft(H)))\n"
   ]
  },
  {
   "cell_type": "markdown",
   "metadata": {},
   "source": [
    "## 2.Basics"
   ]
  },
  {
   "cell_type": "code",
   "execution_count": 1,
   "metadata": {},
   "outputs": [
    {
     "ename": "NameError",
     "evalue": "name 'np' is not defined",
     "output_type": "error",
     "traceback": [
      "\u001b[0;31m---------------------------------------------------------------------------\u001b[0m",
      "\u001b[0;31mNameError\u001b[0m                                 Traceback (most recent call last)",
      "\u001b[0;32m/tmp/ipykernel_32761/3482802313.py\u001b[0m in \u001b[0;36m<module>\u001b[0;34m\u001b[0m\n\u001b[1;32m      1\u001b[0m \u001b[0;31m## 信号处理基础\u001b[0m\u001b[0;34m\u001b[0m\u001b[0;34m\u001b[0m\u001b[0;34m\u001b[0m\u001b[0m\n\u001b[0;32m----> 2\u001b[0;31m \u001b[0mfft\u001b[0m \u001b[0;34m=\u001b[0m \u001b[0mnp\u001b[0m\u001b[0;34m.\u001b[0m\u001b[0mfft\u001b[0m\u001b[0;34m.\u001b[0m\u001b[0mfft\u001b[0m\u001b[0;34m\u001b[0m\u001b[0;34m\u001b[0m\u001b[0m\n\u001b[0m\u001b[1;32m      3\u001b[0m \u001b[0mifft\u001b[0m \u001b[0;34m=\u001b[0m \u001b[0mnp\u001b[0m\u001b[0;34m.\u001b[0m\u001b[0mfft\u001b[0m\u001b[0;34m.\u001b[0m\u001b[0mifft\u001b[0m\u001b[0;34m\u001b[0m\u001b[0;34m\u001b[0m\u001b[0m\n\u001b[1;32m      4\u001b[0m \u001b[0mshift\u001b[0m \u001b[0;34m=\u001b[0m \u001b[0mnp\u001b[0m\u001b[0;34m.\u001b[0m\u001b[0mfft\u001b[0m\u001b[0;34m.\u001b[0m\u001b[0mfftshift\u001b[0m\u001b[0;34m\u001b[0m\u001b[0;34m\u001b[0m\u001b[0m\n\u001b[1;32m      5\u001b[0m \u001b[0mfreq\u001b[0m \u001b[0;34m=\u001b[0m \u001b[0mnp\u001b[0m\u001b[0;34m.\u001b[0m\u001b[0mfft\u001b[0m\u001b[0;34m.\u001b[0m\u001b[0mfftfreq\u001b[0m\u001b[0;34m\u001b[0m\u001b[0;34m\u001b[0m\u001b[0m\n",
      "\u001b[0;31mNameError\u001b[0m: name 'np' is not defined"
     ]
    }
   ],
   "source": [
    "## 信号处理基础\n",
    "fft = np.fft.fft\n",
    "ifft = np.fft.ifft\n",
    "shift = np.fft.fftshift\n",
    "freq = np.fft.fftfreq"
   ]
  },
  {
   "cell_type": "code",
   "execution_count": null,
   "metadata": {},
   "outputs": [],
   "source": [
    "def circ_conv(x,y):\n",
    "    '''\n",
    "    使用fft实现周期卷积\n",
    "    '''\n",
    "    return ifft(fft(x)*fft(y))\n",
    "\n",
    "def full_conv(x,y):\n",
    "    ''' \n",
    "    使用周期卷积实现全卷积\n",
    "    '''\n",
    "    L = len(x) + len(y) - 1\n",
    "    x_pad = jnp.concatenate([x,np.zeros(L-len(x))])\n",
    "    y_pad = jnp.concatenate([y,np.zeros(L-len(y))])\n",
    "    return circ_conv(x_pad,y_pad)\n",
    "\n",
    "def circ_conv2(x,y):\n",
    "    '''\n",
    "    使用全卷积实现周期卷积\n",
    "    '''\n",
    "    N = x.shape[0]\n",
    "    return jnp.convolve(x,y)[0:N] + jnp.concatenate([jnp.convolve(x,y)[N:2*N-1],jnp.zeros(1)])\n",
    "\n",
    "\n",
    "def c_conv(x,h):\n",
    "    ''' \n",
    "    周期边界\n",
    "    '''\n",
    "    k = h.shape[0]//2\n",
    "    N = x.shape[0]\n",
    "    y = jnp.convolve(x,h)\n",
    "    z = y[k:k + N]\n",
    "    z = z.at[0:k].add(y[-k:])\n",
    "    z = z.at[-k:].add(y[0:k])\n",
    "    return z"
   ]
  },
  {
   "cell_type": "code",
   "execution_count": null,
   "metadata": {},
   "outputs": [],
   "source": [
    "net = nn.Conv(features=1,kernel_size=(3,),strides=(1,),padding='same')\n",
    "x = rd.normal(rd.PRNGKey(0),(10,1))\n",
    "y,p = net.init_with_output(rd.PRNGKey(0), x)\n",
    "x = jnp.squeeze(x)\n",
    "h = jnp.squeeze(p['params']['kernel'])\n",
    "jnp.correlate(x,h,'same') - jnp.squeeze(y)"
   ]
  },
  {
   "cell_type": "code",
   "execution_count": 10,
   "metadata": {},
   "outputs": [
    {
     "name": "stdout",
     "output_type": "stream",
     "text": [
      "2.454751086441367e-12\n"
     ]
    },
    {
     "data": {
      "image/png": "[encoded data removed]",
      "text/plain": [
       "<Figure size 432x288 with 1 Axes>"
      ]
     },
     "metadata": {
      "needs_background": "light"
     },
     "output_type": "display_data"
    }
   ],
   "source": [
    "## dispersion operator\n",
    "N = 1001\n",
    "h = 1/a['samplerate']\n",
    "w = 2 * np.pi *np.fft.fftfreq(N, h) # ifftshifted  w的范围不会随着 N 改变\n",
    "\n",
    "B_2   = -2.1044895291667397e-26\n",
    "dz = 375000.0*3\n",
    "C = B_2 / 2 * dz \n",
    "H   = np.exp(-1j * C * w**2)\n",
    "\n",
    "delay   = (N - 1) // 2\n",
    "H_casual = H * np.exp(-1j * w * delay * h) ## 频域相位旋转等价于时域平移，将时域对齐\n",
    "h_casual = ifft(H_casual)\n",
    "h1 = shift(ifft(H))\n",
    "\n",
    "plt.plot(np.abs(h1))\n",
    "print(np.sum(np.abs(h1-h_casual)))"
   ]
  },
  {
   "cell_type": "code",
   "execution_count": 11,
   "metadata": {},
   "outputs": [],
   "source": [
    "import scipy.constants as const\n",
    "N = 1001\n",
    "D =  paramCh.D\n",
    "Fc = paramCh.Fc\n",
    "Fs = a['samplerate']\n",
    "alpha = 0\n",
    "L = a['distance']/1e3\n",
    "c_kms = const.c/1e3\n",
    "λ  = c_kms/Fc\n",
    "α  = alpha/(10*np.log10(np.exp(1)))\n",
    "beta2 = -(D*λ**2)/(2*np.pi*c_kms)\n",
    "\n",
    "omega = 2*np.pi*Fs * freq(N)\n",
    "H1 = np.exp(-α*L - 1j*(beta2/2)*(omega**2)*L)\n"
   ]
  },
  {
   "cell_type": "code",
   "execution_count": 12,
   "metadata": {},
   "outputs": [
    {
     "name": "stderr",
     "output_type": "stream",
     "text": [
      "/home/xiaoxinyu/.conda/envs/commplax/lib/python3.8/site-packages/matplotlib/cbook/__init__.py:1333: ComplexWarning: Casting complex values to real discards the imaginary part\n",
      "  return np.asarray(x, float)\n"
     ]
    },
    {
     "data": {
      "text/plain": [
       "[<matplotlib.lines.Line2D at 0x7fa2e9980b20>]"
      ]
     },
     "execution_count": 12,
     "metadata": {},
     "output_type": "execute_result"
    },
    {
     "data": {
      "image/png": "[encoded data removed]",
      "text/plain": [
       "<Figure size 432x288 with 1 Axes>"
      ]
     },
     "metadata": {
      "needs_background": "light"
     },
     "output_type": "display_data"
    }
   ],
   "source": [
    "### FFT 做频谱分析\n",
    "N = 400\n",
    "h = 0.01\n",
    "t = np.linspace(-0.5 * N*h,0.5*N*h,N)\n",
    "x = (np.abs(t) < 0.5)*1.0\n",
    "f = freq(N, h)\n",
    "omega = 2*np.pi*f\n",
    "xf = fft(shift(x))*h   # 使用fft计算离散信号的频谱 (需要shift 因为fft默认信号时间从0开始)\n",
    "\n",
    "fs = shift(f)\n",
    "xfs = shift(xf)\n",
    "\n",
    "d = int(0.5*N- 20 * N * h)   ## 展示 【-20,20】Hz\n",
    "plt.plot(fs[d:-d],np.sinc(fs)[d:-d])\n",
    "plt.plot(fs[d:-d],xfs[d:-d])\n",
    "plt.plot(fs[d:-d],xfs.imag[d:-d])\n",
    "plt.plot(fs[d:-d],xfs.real[d:-d])"
   ]
  },
  {
   "cell_type": "markdown",
   "metadata": {},
   "source": [
    "## 3.Spectral Method"
   ]
  },
  {
   "cell_type": "code",
   "execution_count": 27,
   "metadata": {},
   "outputs": [],
   "source": [
    "import numpy as np\n",
    "import matplotlib.pyplot as plt\n",
    "from numpy.fft import fft,fftshift,ifft\n",
    "from functools import partial\n",
    "def get_frequency(N):\n",
    "    k = np.arange(0,2*N) - N \n",
    "    k = fftshift(k)\n",
    "    k[N] = 0  \n",
    "    return k\n",
    "\n",
    "def L(u,pde='kdv',N=128):\n",
    "    # 构造频率向量\n",
    "    k = get_frequency(N)\n",
    "    \n",
    "    # 构造离散谱算子\n",
    "    if pde=='burgers':\n",
    "        '''\n",
    "        3(u^2)_x\n",
    "        '''\n",
    "        return -ifft(1j*k*fft(3*u*u))\n",
    "    elif pde=='kdv':\n",
    "        return -ifft((1j*k)**2*fft(u))\n",
    "    elif pde == 'heat':\n",
    "        return ifft((1j*k)**2 * fft(u))\n",
    "\n",
    "def ode_solver(u0,L,dt,T,N):\n",
    "    u = u0\n",
    "    steps = int(T/dt)\n",
    "    u_path = []\n",
    "    for i in range(steps):\n",
    "        u_path.append(u)\n",
    "        u1 = u + dt*L(u,N=N)\n",
    "        u2 = 3/4*u + 1/4*u1 + 1/4*dt*L(u1,N=N)\n",
    "        u = 1/3*u + 2/3*u2 + 2/3*dt*L(u2,N=N)\n",
    "    return u,u_path\n",
    "\n",
    "def ode_1(u0,L,dt,T,N):\n",
    "    u = u0\n",
    "    steps = int(T/dt)\n",
    "    u_path = []\n",
    "    for i in range(steps):\n",
    "        u_path.append(u)\n",
    "        u = u + dt*L(u,N=N)\n",
    "    return u,u_path"
   ]
  },
  {
   "cell_type": "markdown",
   "metadata": {},
   "source": [
    "### 1.Convection equation"
   ]
  },
  {
   "cell_type": "code",
   "execution_count": 28,
   "metadata": {},
   "outputs": [
    {
     "data": {
      "text/plain": [
       "[<matplotlib.lines.Line2D at 0x7fa2003dd850>]"
      ]
     },
     "execution_count": 28,
     "metadata": {},
     "output_type": "execute_result"
    },
    {
     "data": {
      "image/png": "[encoded data removed]",
      "text/plain": [
       "<Figure size 432x288 with 1 Axes>"
      ]
     },
     "metadata": {
      "needs_background": "light"
     },
     "output_type": "display_data"
    }
   ],
   "source": [
    "# 求解对流方程\n",
    "'''\n",
    "v_t + v_x = 0\n",
    "'''\n",
    "N = 128\n",
    "T = 1\n",
    "k = get_frequency(N)\n",
    "x = np.linspace(-np.pi,np.pi,2*N,endpoint=False)\n",
    "v = np.sin(x)\n",
    "v_sol = ifft(np.exp(-1j*k*T)*fft(v))\n",
    "plt.plot(x,v.real)\n",
    "plt.plot(x,v_sol.real)"
   ]
  },
  {
   "cell_type": "markdown",
   "metadata": {},
   "source": [
    "### 2.Burgers  equation"
   ]
  },
  {
   "cell_type": "code",
   "execution_count": 30,
   "metadata": {},
   "outputs": [
    {
     "data": {
      "text/plain": [
       "[<matplotlib.lines.Line2D at 0x7fa2400862e0>]"
      ]
     },
     "execution_count": 30,
     "metadata": {},
     "output_type": "execute_result"
    },
    {
     "data": {
      "image/png": "[encoded data removed]",
      "text/plain": [
       "<Figure size 432x288 with 1 Axes>"
      ]
     },
     "metadata": {
      "needs_background": "light"
     },
     "output_type": "display_data"
    }
   ],
   "source": [
    "# 求解 burgers equation\n",
    "'''\n",
    "u_t + u u_x = 0\n",
    "'''\n",
    "N = 128\n",
    "dt = 0.0001\n",
    "T = 0.1\n",
    "L0 = partial(L, pde='burgers')\n",
    "x = np.linspace(-np.pi,np.pi,N*2,endpoint=False)\n",
    "u0 = 2 / np.cosh(x)**2\n",
    "u_sol,u_path = ode_1(u0,L0,dt,T,N=N)\n",
    "plt.plot(x,u_sol.real)"
   ]
  },
  {
   "cell_type": "markdown",
   "metadata": {},
   "source": [
    "### 3.kdv equation"
   ]
  },
  {
   "cell_type": "code",
   "execution_count": 17,
   "metadata": {},
   "outputs": [],
   "source": [
    "# 求解 kdv 方程\n",
    "M = 2.5\n",
    "N = 128\n",
    "dt = 0.0001\n",
    "T = 3\n",
    "x = np.linspace(-10,10,N*2,endpoint=False)\n",
    "L = 10/np.pi\n",
    "u0 = M*(M+1)/(np.cosh(x)**2) #+ np.random.rand(u0.size)*0.1\n",
    "# u0 = (x > 0) * (x < 1)\n",
    "\n",
    "u_tilde0 = fft(u0)\n",
    "k = get_frequency(N) / L\n",
    "def g(t):\n",
    "    return np.exp(-1j*k**3*t)\n",
    "\n",
    "def L_kdv(u_tilde,t):\n",
    "    gt = g(t)\n",
    "    return -3j * k * gt * fft(ifft(1/gt * u_tilde)**2)\n",
    "\n",
    "def ode_solver(u0,L,dt,T):\n",
    "    u = u0\n",
    "    u_path = []\n",
    "    t = 0\n",
    "    while t < T:\n",
    "        u_path.append({'t':t, 'data':u})\n",
    "        u1 = u + dt*L(u,t)\n",
    "        u2 = 3/4*u + 1/4*u1 + 1/4*dt*L(u1,t)\n",
    "        u = 1/3*u + 2/3*u2 + 2/3*dt*L(u2,t)\n",
    "        t = t + dt\n",
    "    u_path.append({'t':t, 'data':u})\n",
    "    return u,u_path\n",
    "\n",
    "def transform(v_path):\n",
    "    u_path = []\n",
    "    for item in v_path:\n",
    "        t = item['t']\n",
    "        v = item['data']\n",
    "        gt = g(t)\n",
    "        u = ifft(1/gt * v)\n",
    "        u_path.append({'t':t,'data':u})\n",
    "    return u,u_path\n",
    "\n",
    "v,v_path = ode_solver(u_tilde0, L_kdv, dt, T)\n",
    "u,u_path = transform(v_path)\n",
    "\n",
    "def solution(t):\n",
    "    n = int(t/dt)\n",
    "    return u_path[n]['data'].real"
   ]
  },
  {
   "cell_type": "code",
   "execution_count": 18,
   "metadata": {},
   "outputs": [
    {
     "data": {
      "text/plain": [
       "<matplotlib.legend.Legend at 0x7fa2006a1160>"
      ]
     },
     "execution_count": 18,
     "metadata": {},
     "output_type": "execute_result"
    },
    {
     "data": {
      "image/png": "[encoded data removed]",
      "text/plain": [
       "<Figure size 432x288 with 1 Axes>"
      ]
     },
     "metadata": {
      "needs_background": "light"
     },
     "output_type": "display_data"
    }
   ],
   "source": [
    "# 绘制静态图\n",
    "plt.plot(x, solution(0),label='t=0')\n",
    "plt.plot(x, solution(0.5), label='t=1.5')\n",
    "plt.legend(loc='best')"
   ]
  },
  {
   "cell_type": "markdown",
   "metadata": {},
   "source": [
    "### 4.diffusion equation"
   ]
  },
  {
   "cell_type": "code",
   "execution_count": 31,
   "metadata": {},
   "outputs": [
    {
     "data": {
      "text/plain": [
       "[<matplotlib.lines.Line2D at 0x7fa2207b9250>]"
      ]
     },
     "execution_count": 31,
     "metadata": {},
     "output_type": "execute_result"
    },
    {
     "data": {
      "image/png": "[encoded data removed]",
      "text/plain": [
       "<Figure size 432x288 with 1 Axes>"
      ]
     },
     "metadata": {
      "needs_background": "light"
     },
     "output_type": "display_data"
    }
   ],
   "source": [
    "# 求解扩散方程\n",
    "'''\n",
    "u_t = u_xx\n",
    "'''\n",
    "N = 64\n",
    "T = 0.1\n",
    "k = get_frequency(N)\n",
    "x = np.linspace(-np.pi,np.pi,2*N,endpoint=False)\n",
    "v = np.exp(-10*x**2)\n",
    "v_sol = ifft(np.exp(-(k**2)*T)*fft(v))\n",
    "plt.plot(x,v.real)\n",
    "plt.plot(x,v_sol.real)"
   ]
  },
  {
   "cell_type": "markdown",
   "metadata": {},
   "source": [
    "### 5.dispersion equation"
   ]
  },
  {
   "cell_type": "code",
   "execution_count": 23,
   "metadata": {},
   "outputs": [
    {
     "data": {
      "text/plain": [
       "[<matplotlib.lines.Line2D at 0x7fa20046a6d0>]"
      ]
     },
     "execution_count": 23,
     "metadata": {},
     "output_type": "execute_result"
    },
    {
     "data": {
      "image/png": "[encoded data removed]",
      "text/plain": [
       "<Figure size 432x288 with 1 Axes>"
      ]
     },
     "metadata": {
      "needs_background": "light"
     },
     "output_type": "display_data"
    }
   ],
   "source": [
    "# 求解色散方程\n",
    "'''\n",
    "u_t = i u_xx\n",
    "'''\n",
    "N = 64\n",
    "T = 10\n",
    "k = get_frequency(N)\n",
    "x = np.linspace(-np.pi,np.pi,2*N,endpoint=False)\n",
    "v = np.exp(-x**2)\n",
    "v_sol = ifft(np.exp(-0.2j*(k**2)*T)*fft(v))\n",
    "v_sol_abs = np.abs(v_sol)\n",
    "\n",
    "plt.plot(x,np.abs(v))\n",
    "plt.plot(x,v_sol_abs)\n"
   ]
  }
 ],
 "metadata": {
  "kernelspec": {
   "display_name": "Python 3.8.12 ('commplax')",
   "language": "python",
   "name": "python3"
  },
  "language_info": {
   "codemirror_mode": {
    "name": "ipython",
    "version": 3
   },
   "file_extension": ".py",
   "mimetype": "text/x-python",
   "name": "python",
   "nbconvert_exporter": "python",
   "pygments_lexer": "ipython3",
   "version": "3.8.12"
  },
  "orig_nbformat": 4,
  "vscode": {
   "interpreter": {
    "hash": "f4b9236e0601dae4b8f5d171a608b9d19163b63d094210553e37100e1902b344"
   }
  }
 },
 "nbformat": 4,
 "nbformat_minor": 2
}
