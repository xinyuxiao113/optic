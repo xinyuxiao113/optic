{
 "cells": [
  {
   "cell_type": "markdown",
   "metadata": {},
   "source": [
    "# How to choose simulation SSMF step dz ?"
   ]
  },
  {
   "cell_type": "code",
   "execution_count": 4,
   "metadata": {},
   "outputs": [
    {
     "name": "stdout",
     "output_type": "stream",
     "text": [
      "0.12134558\n",
      "0.07347986\n",
      "0.04466462\n"
     ]
    }
   ],
   "source": [
    "## loading simulation datase:  How to choose dz ?\n",
    "from optical_flax.dsp import simple_dsp, mimo_dsp\n",
    "from optical_flax.generate_data import get_data\n",
    "\n",
    "dz = [15, 7.5, 3.725, 1.5]\n",
    "data_sml = []\n",
    "for h in dz:\n",
    "    path = 'data/sml_data/dataset_dz_' + str(h)\n",
    "    data = get_data(path)\n",
    "    data_sml.append(data)\n",
    "from optical_flax.utils import MSE\n",
    "\n",
    "for i in range(len(dz)-1):\n",
    "    print(MSE(data_sml[i].y, data_sml[i+1].y)/MSE(data_sml[i].y, 0))"
   ]
  },
  {
   "cell_type": "markdown",
   "metadata": {},
   "source": [
    "# impact for result"
   ]
  },
  {
   "cell_type": "code",
   "execution_count": 3,
   "metadata": {},
   "outputs": [
    {
     "name": "stdout",
     "output_type": "stream",
     "text": [
      "Result for dz = 15 km:\n",
      "            BER       QSq        SNR\n",
      "dim0   0.058200  3.918352  10.315953\n",
      "dim1   0.059135  3.874045  10.247962\n",
      "total  0.058667  3.896158  10.281875\n",
      " \n",
      "Result for dz = 7.5 km:\n",
      "            BER       QSq        SNR\n",
      "dim0   0.022175  6.067238  12.694988\n",
      "dim1   0.021650  6.110486  12.728826\n",
      "total  0.021913  6.088780  12.711849\n",
      " \n",
      "Result for dz = 3.725 km:\n",
      "            BER       QSq        SNR\n",
      "dim0   0.007255  7.763386  14.519436\n",
      "dim1   0.007290  7.757213  14.497669\n",
      "total  0.007273  7.760297  14.508555\n",
      " \n",
      "Result for dz = 1.5 km:\n",
      "            BER       QSq        SNR\n",
      "dim0   0.002075  9.147127  15.960480\n",
      "dim1   0.002205  9.088484  15.992659\n",
      "total  0.002140  9.117451  15.976516\n",
      " \n"
     ]
    }
   ],
   "source": [
    "for i in range(4):\n",
    "    print(f'Result for dz = {dz[i]} km:')\n",
    "    data = data_sml[i]\n",
    "    sig_list2, name2, metric2 = mimo_dsp(data)\n",
    "    print(metric2)\n",
    "    print(' ')"
   ]
  },
  {
   "cell_type": "markdown",
   "metadata": {},
   "source": [
    "# 非线性+衰减效应 求解\n",
    "Equation:\n",
    "$$\n",
    "\\frac{\\partial A}{\\partial z} = -\\frac{\\alpha}{2}A + i\\gamma |A|^2A\n",
    "$$\n",
    "solution:\n",
    "$$\n",
    "A(z,t) = A(0,t) e^{-\\frac{\\alpha}{2}z} e^{i\\gamma |A(0,t)|^2 L_{eff}(z))}\n",
    "$$\n",
    "where\n",
    "$$\n",
    "L_{eff}(z) = \\frac{1-\\exp(-\\alpha z)}{\\alpha}\n",
    "$$\n",
    "Leff有上界：\n",
    "$$\n",
    "L_{eff}(z) < \\frac{1}{\\alpha}\n",
    "$$"
   ]
  },
  {
   "cell_type": "code",
   "execution_count": 14,
   "metadata": {},
   "outputs": [
    {
     "data": {
      "text/plain": [
       "[<matplotlib.lines.Line2D at 0x7fd3aafb1550>]"
      ]
     },
     "execution_count": 14,
     "metadata": {},
     "output_type": "execute_result"
    },
    {
     "data": {
      "image/png": "[encoded data removed]",
      "text/plain": [
       "<Figure size 432x288 with 1 Axes>"
      ]
     },
     "metadata": {
      "needs_background": "light"
     },
     "output_type": "display_data"
    }
   ],
   "source": [
    "import numpy as np\n",
    "import matplotlib.pyplot as plt\n",
    "def Leff(z, alpha = 0.5):\n",
    "    return (1 - np.exp(-alpha*z)) / alpha\n",
    "\n",
    "z = np.linspace(0,10,100)\n",
    "Lz = Leff(z)\n",
    "plt.plot(z, Lz)"
   ]
  }
 ],
 "metadata": {
  "interpreter": {
   "hash": "531552b898093c495d5d7fbfac81f0b68153c16134e4b180957a1aaadf98359a"
  },
  "kernelspec": {
   "display_name": "Python 3.8.12 ('commplax')",
   "language": "python",
   "name": "python3"
  },
  "language_info": {
   "codemirror_mode": {
    "name": "ipython",
    "version": 3
   },
   "file_extension": ".py",
   "mimetype": "text/x-python",
   "name": "python",
   "nbconvert_exporter": "python",
   "pygments_lexer": "ipython3",
   "version": "3.8.12"
  },
  "orig_nbformat": 4
 },
 "nbformat": 4,
 "nbformat_minor": 2
}
