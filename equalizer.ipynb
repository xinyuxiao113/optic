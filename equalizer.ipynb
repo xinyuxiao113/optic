{
 "cells": [
  {
   "cell_type": "code",
   "execution_count": 1,
   "metadata": {},
   "outputs": [
    {
     "data": {
      "application/vnd.jupyter.widget-view+json": {
       "model_id": "5cd907ef4b01468a80732c3b96914a74",
       "version_major": 2,
       "version_minor": 0
      },
      "text/plain": [
       "  0%|          | 0/20 [00:00<?, ?it/s]"
      ]
     },
     "metadata": {},
     "output_type": "display_data"
    }
   ],
   "source": [
    "from tqdm.notebook import tqdm\n",
    "from time import sleep\n",
    "\n",
    "for i in tqdm(range(20)):\n",
    "        sleep(.1)"
   ]
  },
  {
   "cell_type": "code",
   "execution_count": 1,
   "metadata": {},
   "outputs": [],
   "source": [
    "## simple dsp\n",
    "import matplotlib.pyplot as plt\n",
    "import numpy as np\n",
    "from commpy.modulation import QAMModem\n",
    "import jax\n",
    "import jax.numpy as jnp\n",
    "from jax import device_put, device_get\n",
    "import jax.random as random\n",
    "\n",
    "import pickle\n",
    "from collections import namedtuple\n",
    "Input = namedtuple('DataInput', ['y', 'x', 'w0', 'a'])\n",
    "with open('sml_data/dataset','rb') as file:\n",
    "    b = pickle.load(file)\n",
    "data_sml = Input(*b)"
   ]
  },
  {
   "cell_type": "code",
   "execution_count": null,
   "metadata": {},
   "outputs": [],
   "source": [
    "## Transmitter\n",
    "import matplotlib.pyplot as plt\n",
    "import numpy as np\n",
    "from commpy.modulation import QAMModem\n",
    "import jax\n",
    "import jax.numpy as jnp\n",
    "from jax import device_put, device_get\n",
    "import jax.random as random\n",
    "\n",
    "from commplax import plot as cplt\n",
    "from commplax.module import core\n",
    "from optical_flax.dsp import firFilter, edc, fourthPowerFOE, dbp, cpr2, downsampling, simple_cpr, test_result\n",
    "from optical_flax.models import manakov_ssf, cssfm\n",
    "from optical_flax.tx import simpleWDMTx\n",
    "from optical_flax.core import parameters\n",
    "\n",
    "from scipy import signal\n",
    "import scipy.constants as const\n",
    "param = parameters()\n",
    "param.M   = 16           # modulation formate\n",
    "param.Rs  = 36e9         # symbol rate [baud]\n",
    "param.SpS = 16            # samples/symb\n",
    "param.Nbits = 400000     # number of bits\n",
    "param.pulse_type = 'rrc'   # formato de pulso\n",
    "param.Ntaps = 4096       # número de coeficientes do filtro RRC\n",
    "param.alphaRRC = 0.1    # rolloff do filtro RRC\n",
    "param.Pch_dBm = 0        # potência média por canal WDM [dBm]\n",
    "param.Nch     = 7       # número de canais WDM\n",
    "param.Fc      = 299792458/1550E-9 # frequência central do espectro WDM\n",
    "param.freqSpac = 50e9    # espaçamento em frequência da grade de canais WDM\n",
    "param.Nmodes = 2         # número de modos de polarização\n",
    "param.mod = QAMModem(m=param.M)  # modulation\n",
    "param.equation = 'NLSE'\n",
    "\n",
    "# load data\n",
    "sigWDM_Tx, symbTx_, param = simpleWDMTx(param)\n",
    "print(f'signal shape: {sigWDM_Tx.shape}, symb shape: {symbTx_.shape}')\n",
    "\n",
    "import pickle\n",
    "path = 'sml_data/Tx'\n",
    "with open(path,'wb') as file:\n",
    "    pickle.dump((sigWDM_Tx, symbTx_, param), file)\n",
    "print('data is saved!')"
   ]
  },
  {
   "cell_type": "code",
   "execution_count": null,
   "metadata": {},
   "outputs": [],
   "source": [
    "## optical fiber\n",
    "from tqdm.notebook import tqdm\n",
    "linearChannel = True\n",
    "paramCh = parameters()\n",
    "paramCh.Ltotal = 1125   # km\n",
    "paramCh.Lspan  = 75     # km\n",
    "paramCh.alpha = 0.2    # dB/km\n",
    "paramCh.D = 16.5       # ps/nm/km\n",
    "paramCh.Fc = 299792458/1550E-9 # Hz\n",
    "paramCh.hz =  15      # km\n",
    "paramCh.gamma = 1.3174420805376552    # 1/(W.km)\n",
    "paramCh.amp = 'edfa'\n",
    "if linearChannel:\n",
    "    paramCh.hz = paramCh.Lspan  # km\n",
    "    paramCh.gamma = 0   # 1/(W.km)\n",
    "Fs = param.Rs*param.SpS  # sample rates\n",
    "# sigWDM_, paramCh = ssfm(sigWDM_Tx, Fs, paramCh) \n",
    "sigWDM, paramCh = manakov_ssf(sigWDM_Tx, Fs, paramCh) \n",
    "\n",
    "# plot psd of tx and rx\n",
    "plt.figure(figsize=(8,3))\n",
    "plt.xlim(paramCh.Fc-Fs/2,paramCh.Fc+Fs/2)\n",
    "plt.psd(sigWDM_Tx[:,0], Fs=param.SpS*param.Rs, Fc=paramCh.Fc, NFFT = 4*1024, sides='twosided', label = 'WDM spectrum - Tx')\n",
    "plt.psd(sigWDM[:,0], Fs=Fs, Fc=paramCh.Fc, NFFT = 4*1024, sides='twosided', label = 'WDM spectrum - Rx')\n",
    "plt.legend(loc='lower left')\n",
    "plt.title('optical WDM spectrum')\n"
   ]
  },
  {
   "cell_type": "code",
   "execution_count": null,
   "metadata": {},
   "outputs": [],
   "source": [
    "### Receiver\n",
    "from optical_flax.rx import simpleRx, sml_dataset\n",
    "np.random.seed(123)\n",
    "paramRx = parameters()\n",
    "paramRx.chid = int(param.Nch / 2)\n",
    "paramRx.sps = 2\n",
    "paramRx.FO = 64e6 * 1          # frequency offset\n",
    "paramRx.lw = 100e3 * 1      # linewidth\n",
    "paramRx.Rs = param.Rs\n",
    "\n",
    "paramRx.tx_sps = param.SpS\n",
    "paramRx.pulse = param.pulse\n",
    "paramRx.freq = param.freqGrid[paramRx.chid]\n",
    "paramRx.Ta = 1/(param.SpS*param.Rs)\n",
    "\n",
    "sigRx, paramRx = simpleRx(sigWDM, paramRx)\n",
    "data_sml = sml_dataset(sigRx, symbTx_, param, paramCh, paramRx)\n",
    "# ## data saving and loading\n",
    "# import pickle\n",
    "# with open('sml.npy','wb') as file:\n",
    "#     b = pickle.dump((sigRx3, symbTx, 2 * np.pi * paramLo.FO / param.Rs, a), file)\n",
    "# with open('sml.npy','rb') as file:\n",
    "#     b = pickle.load(file)\n",
    "# data_train_sml = Input(*b)\n"
   ]
  },
  {
   "cell_type": "markdown",
   "metadata": {},
   "source": [
    "# CDC 实现对比"
   ]
  },
  {
   "cell_type": "code",
   "execution_count": null,
   "metadata": {},
   "outputs": [],
   "source": [
    "## CDC 实现对比\n",
    "from optical_flax.layers import fdbp\n",
    "from commplax.module import core\n",
    "from optical_flax.initializers import fdbp_init\n",
    "d_init, n_init = fdbp_init(data_sml.a, xi=0.0, steps=1, domain='time')\n",
    "cdc = fdbp(steps = 1, dtaps=1001, ntaps=1, d_init=d_init, n_init=n_init)\n",
    "key = random.PRNGKey(0)\n",
    "cdc_param = cdc.init(key, core.Signal(data_sml.y))\n",
    "\n",
    "y = cdc.apply(cdc_param, core.Signal(data_sml.y))\n",
    "y1,H = edc(data_sml.y, paramCh.Ltotal, paramCh.D, param.Fc - paramRx.freq, param.Rs * paramRx.sps)\n",
    "from optical_flax.utils import MSE\n",
    "print(MSE(y.val,y1[y.t.start:y.t.stop])/MSE(y.val,0))"
   ]
  }
 ],
 "metadata": {
  "interpreter": {
   "hash": "531552b898093c495d5d7fbfac81f0b68153c16134e4b180957a1aaadf98359a"
  },
  "kernelspec": {
   "display_name": "Python 3.8.12 ('commplax')",
   "language": "python",
   "name": "python3"
  },
  "language_info": {
   "codemirror_mode": {
    "name": "ipython",
    "version": 3
   },
   "file_extension": ".py",
   "mimetype": "text/x-python",
   "name": "python",
   "nbconvert_exporter": "python",
   "pygments_lexer": "ipython3",
   "version": "3.8.12"
  },
  "orig_nbformat": 4
 },
 "nbformat": 4,
 "nbformat_minor": 2
}
